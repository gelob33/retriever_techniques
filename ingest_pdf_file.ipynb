{
 "cells": [
  {
   "cell_type": "code",
   "execution_count": 52,
   "id": "11509b2e",
   "metadata": {},
   "outputs": [],
   "source": [
    "import os\n",
    "from langchain_pymupdf4llm import PyMuPDF4LLMLoader\n",
    "from langchain.text_splitter import MarkdownHeaderTextSplitter, RecursiveCharacterTextSplitter\n",
    "from langchain_core.documents import Document\n",
    "from langchain_core.prompts import ChatPromptTemplate\n",
    "from ollama import AsyncClient\n",
    "from typing import List, Sequence, Any\n",
    "from db.db_connection_pool_using_pycopg2 import get_connection, release_connection, close_pool\n",
    "from db.db_connection_pool import get_engine, get_conn\n",
    "from pydantic import BaseModel, Field\n",
    "from typing import List, Optional, Dict\n",
    "from db.schema import Document_Chunk\n",
    "from openai import OpenAI\n",
    "from datetime import datetime\n",
    "from zoneinfo import ZoneInfo\n",
    "import requests\n",
    "import logging\n",
    "import asyncio\n",
    "import aiohttp\n",
    "from sqlalchemy import text\n",
    "from fastembed import TextEmbedding\n",
    "from dotenv import load_dotenv\n",
    "from tqdm import tqdm"
   ]
  },
  {
   "cell_type": "code",
   "execution_count": 53,
   "id": "7bf06d4e",
   "metadata": {},
   "outputs": [
    {
     "data": {
      "text/plain": [
       "True"
      ]
     },
     "execution_count": 53,
     "metadata": {},
     "output_type": "execute_result"
    }
   ],
   "source": [
    "load_dotenv(override=True)"
   ]
  },
  {
   "cell_type": "code",
   "execution_count": 3,
   "id": "2c9aa979",
   "metadata": {},
   "outputs": [],
   "source": [
    "# convert pdf to markdown\n",
    "# https://pymupdf.readthedocs.io/en/latest/pymupdf4llm/api.html#pymupdf4llm-api\n",
    "FOLDER_PATH = r\"C:\\Users\\aibag\\git_repo\\policy_wording\"\n",
    "\n",
    "FILE_NAME = \"state-home-comprehensive-contents-comprehensive-insurance-policy-wording-si6995-2-1224.PDF\"\n"
   ]
  },
  {
   "cell_type": "code",
   "execution_count": 4,
   "id": "176b1226",
   "metadata": {},
   "outputs": [],
   "source": [
    "logging.basicConfig(\n",
    "    level=logging.INFO,\n",
    "    format=\"%(asctime)s [%(levelname)s] %(name)s: %(message)s\"\n",
    ")\n",
    "\n",
    "logger = logging.getLogger(__name__)\n",
    "\n",
    "current_nz_datetime = datetime.now(tz=ZoneInfo(\"Pacific/Auckland\"))\n"
   ]
  },
  {
   "cell_type": "markdown",
   "id": "538c17a6",
   "metadata": {},
   "source": [
    "#### Ingest"
   ]
  },
  {
   "cell_type": "code",
   "execution_count": 5,
   "id": "28c1480a",
   "metadata": {},
   "outputs": [
    {
     "name": "stderr",
     "output_type": "stream",
     "text": [
      "2025-10-11 22:03:11,707 [INFO] __main__: Processing file: C:\\Users\\aibag\\git_repo\\policy_wording\\state-home-comprehensive-contents-comprehensive-insurance-policy-wording-si6995-2-1224.PDF\n",
      "2025-10-11 22:03:20,855 [INFO] __main__: Successfully processed file: state-home-comprehensive-contents-comprehensive-insurance-policy-wording-si6995-2-1224.PDF; Total Pages: 61\n"
     ]
    }
   ],
   "source": [
    "# function to load pdf file and convert a pdf file to a markdown file\n",
    "async def load_pdf_file(filepath:str, filename:str, mode:str =\"single\") -> List[Document]:\n",
    "\n",
    "    full_path = os.path.join(filepath, filename)\n",
    "    logger.info(f\"Processing file: {full_path}\")\n",
    "\n",
    "    if not os.path.exists(full_path):\n",
    "        raise FileNotFoundError(f\"File not found: {full_path}\")\n",
    "\n",
    "    if not filename.lower().strip().endswith(\".pdf\"):\n",
    "        raise TypeError (\"Invalid File Type; only PDFs are allowed.\")\n",
    "\n",
    "    # custom pages_delimiter to identify where are ends of pages in single mode \n",
    "    # page = load each page as a Document object; single = load entire PDF as a single Document object\n",
    "    doc_loader = PyMuPDF4LLMLoader(full_path \n",
    "                                   ,mode=mode\n",
    "                                   ,pages_delimiter=\"<<-- PAGE BREAK -->>\\n\\n\"\n",
    "                                   ,table_strategy=\"lines_strict\" # lines, text, lines_strict, lines_strict is default\n",
    "                                   #,page_separators=True\n",
    "                                  )\n",
    "                            \n",
    "    # lazy loading\n",
    "    docs = []\n",
    "    async for doc in doc_loader.alazy_load():\n",
    "        docs.append(doc)\n",
    "\n",
    "    logger.info(f\"Successfully processed file: {filename}; Total Pages: {docs[0].metadata[\"total_pages\"]}\")\n",
    "\n",
    "    return docs\n",
    "\n",
    "doc_obj =  await load_pdf_file(FOLDER_PATH, FILE_NAME, mode=\"single\")\n"
   ]
  },
  {
   "cell_type": "markdown",
   "id": "9241ae50",
   "metadata": {},
   "source": [
    "#### Chunking"
   ]
  },
  {
   "cell_type": "code",
   "execution_count": 6,
   "id": "855a013d",
   "metadata": {},
   "outputs": [],
   "source": [
    "# functions to chunk/split a markdown file into chunks\n",
    "def chunk_header_splitter(doc_contents)->list[Document]:\n",
    "\n",
    "    headers_to_split_on = [\n",
    "        (\"#\", \"Header 1\"),\n",
    "        (\"##\", \"Header 2\"),\n",
    "        (\"###\", \"Header 3\"),\n",
    "        ('####', \"Header 4\"),\n",
    "        ('#####', \"Header 5\"),\n",
    "        ('######', \"Header 6\"),\n",
    "        ('#######', \"Header 7\")\n",
    "    ]\n",
    "\n",
    "    markdown_splitter = MarkdownHeaderTextSplitter(headers_to_split_on, strip_headers=False)\n",
    "\n",
    "    return markdown_splitter.split_text(doc_contents)\n",
    "\n",
    "def chunk_header_recursivesplitter(doc_contents)->list:\n",
    "    text_splitter = RecursiveCharacterTextSplitter(\n",
    "        separators=[\". \", \"! \", \"? \", \"\\n\\n\", \"\\n\", \" \", \"\"],\n",
    "        chunk_size=2000,\n",
    "        chunk_overlap=200,\n",
    "    )\n",
    "    chunks = text_splitter.split_text(doc_contents)\n",
    "    return chunks\n",
    "\n",
    "#print(chunk_header_splitter(doc_obj[0].page_content))\n",
    "#print(chunk_header_recursivesplitter(doc[0].page_content))"
   ]
  },
  {
   "cell_type": "code",
   "execution_count": 7,
   "id": "a90ed7c9",
   "metadata": {},
   "outputs": [],
   "source": [
    "# model of the vector db\n",
    "class DocumentChunk(BaseModel):\n",
    "    embedding: List[float]\n",
    "    chunk_text: str\n",
    "    metadata: Optional[Dict[str, str]] = Field(default_factory=dict)\n",
    "    file_name: str\n",
    "    tags: Optional[List[str]] = Field(default_factory=list)\n",
    "    isActive: bool = Field(default=False)\n",
    "    chunk_enrichment: str = None\n",
    "    version: Optional[str] = None\n",
    "    created_at: Optional[datetime] = None\n",
    "    updated_at: Optional[datetime] = None\n",
    "\n",
    "# model for the llm enrichment output\n",
    "class ChunkEnrichment(BaseModel):\n",
    "    chunk_summary: str\n",
    "    hypotetical_questions: list[str]\n",
    "    has_table: bool = Field(default=False)\n",
    "    table_summary: Optional[str] = None"
   ]
  },
  {
   "cell_type": "code",
   "execution_count": 8,
   "id": "5121ba2f",
   "metadata": {},
   "outputs": [
    {
     "name": "stderr",
     "output_type": "stream",
     "text": [
      "2025-10-11 22:03:20,886 [INFO] __main__: Chunk Size for document 'state-home-comprehensive-contents-comprehensive-insurance-policy-wording-si6995-2-1224.PDF': 135\n"
     ]
    }
   ],
   "source": [
    "def chunk_document(doc_obj)->list[str]:\n",
    "\n",
    "    # get metadata from the doc object \n",
    "    source_path = doc_obj[0].metadata.get(\"source\", \"\")\n",
    "    file_name = source_path.split(\"\\\\\")[-1] if source_path else \"unknown\"\n",
    "\n",
    "    doc_metadata = {\n",
    "        \"source\"        : doc_obj[0].metadata.get(\"source\"),\n",
    "        \"file_name\"     : file_name,\n",
    "        \"total_pages\"   : str(doc_obj[0].metadata.get(\"total_pages\")),\n",
    "        \"creation_date\" : doc_obj[0].metadata.get(\"creationdate\"),\n",
    "    }\n",
    "\n",
    "    try:\n",
    "        chunks = chunk_header_splitter(doc_obj[0].page_content)\n",
    "        logger.info(f\"Chunk Size for document '{file_name}': {len(chunks)}\")\n",
    "    except Exception as e:\n",
    "        logger.error(f\"Call to chunk_header_splitter failed: {e}\")    \n",
    "\n",
    "    doc_chunks_list = []\n",
    "\n",
    "    for chunk in chunks:\n",
    "\n",
    "        # skip pages that only have 30 char or less\n",
    "        if len(chunk.page_content) < 30: \n",
    "            continue \n",
    "\n",
    "        # additional metadata \n",
    "        chunk_metadata = doc_metadata.copy()\n",
    "\n",
    "        header_key, header_value = next(iter(chunk.metadata.items()), (None, None))\n",
    "\n",
    "        chunk_metadata[\"header_key\"] = header_key \n",
    "        chunk_metadata[\"header_value\"] = header_value.replace(\"*\",\"\").replace(\"#\",\"\")\n",
    "\n",
    "        # create an instance of DocumentChunk\n",
    "        doc_chunk = DocumentChunk(\n",
    "            embedding = [],\n",
    "            chunk_text = chunk.page_content,\n",
    "            metadata = chunk_metadata,\n",
    "            file_name = file_name,\n",
    "            isActive = True,\n",
    "            chunk_enrichment = \"\",\n",
    "            version = \"1\",\n",
    "            tags = [\"Home\", \"State\"],\n",
    "            created_at = current_nz_datetime,\n",
    "            updated_at= current_nz_datetime,\n",
    "        )\n",
    "\n",
    "        doc_chunks_list.append(doc_chunk)\n",
    "\n",
    "    return doc_chunks_list\n",
    "\n",
    "doc_chunks = chunk_document(doc_obj)\n",
    "#print(chunk_document(doc_obj))"
   ]
  },
  {
   "cell_type": "markdown",
   "id": "8fd08809",
   "metadata": {},
   "source": [
    "#### Enrich Chunks"
   ]
  },
  {
   "cell_type": "code",
   "execution_count": null,
   "id": "156db80d",
   "metadata": {},
   "outputs": [],
   "source": [
    "# enrich each chunks \n",
    "# https://www.anthropic.com/engineering/contextual-retrieval\n",
    "enrichment_system_prompt = ChatPromptTemplate.from_template(\"\"\"\n",
    "You are an expert general insurance underwriting product manager.  \n",
    "You will be given a document and a chunk of text from the document:\n",
    "\n",
    "Please give a short context to situate this chunk within the overall document for\n",
    "the purposes of improving search retrieval of the chunk.\n",
    "\n",
    "ONLY IF the chunk includes a table where you will provide a summary of the table.\n",
    "\n",
    "Also provide 3 to 5 hypotetical questions that the chunk will able to answer.\n",
    "\n",
    "Answer only with the succinct context and a list of hypotetical questions, nothing else. \n",
    "\n",
    "Here's the document:\n",
    "{document_text}\n",
    "\"\"\")\n",
    "\n",
    "enrichment_user_prompt = ChatPromptTemplate.from_template(\"\"\"\n",
    "Here's the chunk:\n",
    "{chunk_text}\n",
    "\"\"\")\n"
   ]
  },
  {
   "cell_type": "code",
   "execution_count": 10,
   "id": "6a282cc1",
   "metadata": {},
   "outputs": [],
   "source": [
    "# invoke - local lm studio llm model\n",
    "def invoke_llm_using_openai(system_prompt, query_prompt):\n",
    "    client = OpenAI(base_url=\"http://localhost:1234/v1\", api_key=\"lmstudio\")\n",
    "\n",
    "    response = client.chat.completions.parse(\n",
    "        model= \"google/gemma-3-4b\",  \n",
    "        messages=[\n",
    "            {\"role\": \"system\", \"content\": system_prompt},\n",
    "            {\"role\": \"user\", \"content\": query_prompt}\n",
    "        ],\n",
    "        temperature=0.0,\n",
    "        max_tokens=500,\n",
    "        top_p=0.9,\n",
    "        response_format = ChunkEnrichment,\n",
    "    )\n",
    "\n",
    "\n",
    "    #return response.choices[0].message.content\n",
    "    return response.choices[0].message.parsed\n"
   ]
  },
  {
   "cell_type": "code",
   "execution_count": 17,
   "id": "9bd1e939",
   "metadata": {},
   "outputs": [],
   "source": [
    "# async invoke - local lm studio llm model\n",
    "async def ainvoke_llm_api_generate(prompt):\n",
    "    async with aiohttp.ClientSession() as session:\n",
    "        async with session.post(\n",
    "            \"http://localhost:11434/api/generate\",\n",
    "\n",
    "            json={\n",
    "                \"model\": \"gemma3:4b\",\n",
    "                \"prompt\": prompt,\n",
    "                \"stream\": False,\n",
    "                \"temperature\": 0,\n",
    "                \"top_p\": 0.90,\n",
    "            }\n",
    "        ) as response:\n",
    "            resp_json = await response.json()\n",
    "            return resp_json[\"response\"]"
   ]
  },
  {
   "cell_type": "code",
   "execution_count": 57,
   "id": "01ab7a99",
   "metadata": {},
   "outputs": [],
   "source": [
    "# Using Ollama Model\n",
    "# https://github.com/ollama/ollama-python\n",
    "async def invokeOllamaModel(system_prompt, query_prompt, formatModel):\n",
    "    model='gemma3:4b'\n",
    "    messages=[\n",
    "        {\"role\": \"system\", \"content\": system_prompt},\n",
    "        {\"role\": \"user\", \"content\": query_prompt}\n",
    "    ]\n",
    "    response = await AsyncClient().chat(model=model, messages=messages, format=formatModel.model_json_schema())\n",
    "    response_text = formatModel.model_validate_json(response.message.content)\n",
    "    return response_text\n"
   ]
  },
  {
   "cell_type": "code",
   "execution_count": null,
   "id": "8771349e",
   "metadata": {},
   "outputs": [
    {
     "name": "stderr",
     "output_type": "stream",
     "text": [
      "2025-10-11 22:31:11,302 [INFO] httpx: HTTP Request: POST http://127.0.0.1:11434/api/chat \"HTTP/1.1 200 OK\"\n"
     ]
    },
    {
     "name": "stdout",
     "output_type": "stream",
     "text": [
      "chunk_summary='This is an introductory paragraph from State Insurance, thanking the customer and explaining the importance of reading the policy wording and schedule for claim information.' hypotetical_questions=[\"What does 'policy wording' refer to?\", 'Why is it important to keep the policy schedule and wording handy?', 'What happens if I need to make a claim?'] has_table=False table_summary=None\n"
     ]
    }
   ],
   "source": [
    "system_prompt = enrichment_system_prompt.format(document_text=doc_obj[0].page_content)\n",
    "query_prompt = enrichment_user_prompt.format(chunk_text=doc_chunks[0].chunk_text)\n",
    "\n",
    "response = await invokeOllamaModel(system_prompt, query_prompt, ChunkEnrichment)\n",
    "print(response)"
   ]
  },
  {
   "cell_type": "markdown",
   "id": "67dcabd2",
   "metadata": {},
   "source": [
    "#### Chunk Enrichment and Embedding"
   ]
  },
  {
   "cell_type": "code",
   "execution_count": 62,
   "id": "2b4732da",
   "metadata": {},
   "outputs": [],
   "source": [
    "embedding_model = TextEmbedding(model_name=\"BAAI/bge-base-en-v1.5\")  \n",
    "\n",
    "def invoke_embedding(chunk_text):\n",
    "    embeddings = embedding_model.embed(chunk_text)\n",
    "    # TextEmbedding.embed returns a generator so I used next() \n",
    "    return next(embeddings) "
   ]
  },
  {
   "cell_type": "code",
   "execution_count": null,
   "id": "a2a1a827",
   "metadata": {},
   "outputs": [
    {
     "name": "stderr",
     "output_type": "stream",
     "text": [
      "Enriching Chunks:   0%|          | 0/134 [00:00<?, ?it/s]"
     ]
    },
    {
     "name": "stdout",
     "output_type": "stream",
     "text": [
      "--------------------------------------------------\n",
      "embedding=[] chunk_text='###### **Thank you for choosing State Insurance**  \\nThis policy wording, along with your policy schedule, contains all the information you need\\nto know about your insurance cover. Please read these carefully and keep them on hand as\\nyou will find them useful if you need to make a claim.' metadata={'source': 'C:\\\\Users\\\\aibag\\\\git_repo\\\\policy_wording\\\\state-home-comprehensive-contents-comprehensive-insurance-policy-wording-si6995-2-1224.PDF', 'file_name': 'state-home-comprehensive-contents-comprehensive-insurance-policy-wording-si6995-2-1224.PDF', 'total_pages': '61', 'creation_date': '2024-12-02T10:18:24+13:00', 'header_key': 'Header 6', 'header_value': 'Thank you for choosing State Insurance'} file_name='state-home-comprehensive-contents-comprehensive-insurance-policy-wording-si6995-2-1224.PDF' tags=['Home', 'State'] isActive=True chunk_enrichment='' version='1' created_at=datetime.datetime(2025, 10, 11, 22, 3, 11, 698373, tzinfo=zoneinfo.ZoneInfo(key='Pacific/Auckland')) updated_at=datetime.datetime(2025, 10, 11, 22, 3, 11, 698373, tzinfo=zoneinfo.ZoneInfo(key='Pacific/Auckland'))\n"
     ]
    },
    {
     "name": "stderr",
     "output_type": "stream",
     "text": [
      "2025-10-11 22:40:14,202 [INFO] httpx: HTTP Request: POST http://127.0.0.1:11434/api/chat \"HTTP/1.1 200 OK\"\n",
      "Enriching Chunks:   1%|          | 1/134 [00:05<12:05,  5.45s/it]"
     ]
    },
    {
     "name": "stdout",
     "output_type": "stream",
     "text": [
      "--------------------------------------------------\n",
      "embedding=[] chunk_text='###### **How to contact us**  \\nIn New Zealand, just call 0800 80 24 24. If you have any questions, need help, or want to\\n[make a claim, our contact centres are available 7 days a week or visit state.co.nz](https://www.state.co.nz/)  \\nCall us free from Australia 1 800 887 863  \\nUnited States 1 800 593 9482  \\nUnited Kingdom 0800 096 5308  \\nCall us direct from Somewhere else overseas 64 9 969 1150  \\nOur promise to customers includes communicating clearly.  \\nThis document meets the WriteMark quality award, independent  \\nproof we have achieved a high standard of plain language.  \\nPolicy wording SI6995/2 12/24  \\n<<-- PAGE BREAK -->>' metadata={'source': 'C:\\\\Users\\\\aibag\\\\git_repo\\\\policy_wording\\\\state-home-comprehensive-contents-comprehensive-insurance-policy-wording-si6995-2-1224.PDF', 'file_name': 'state-home-comprehensive-contents-comprehensive-insurance-policy-wording-si6995-2-1224.PDF', 'total_pages': '61', 'creation_date': '2024-12-02T10:18:24+13:00', 'header_key': 'Header 6', 'header_value': 'How to contact us'} file_name='state-home-comprehensive-contents-comprehensive-insurance-policy-wording-si6995-2-1224.PDF' tags=['Home', 'State'] isActive=True chunk_enrichment='' version='1' created_at=datetime.datetime(2025, 10, 11, 22, 3, 11, 698373, tzinfo=zoneinfo.ZoneInfo(key='Pacific/Auckland')) updated_at=datetime.datetime(2025, 10, 11, 22, 3, 11, 698373, tzinfo=zoneinfo.ZoneInfo(key='Pacific/Auckland'))\n"
     ]
    },
    {
     "name": "stderr",
     "output_type": "stream",
     "text": [
      "2025-10-11 22:40:22,381 [INFO] httpx: HTTP Request: POST http://127.0.0.1:11434/api/chat \"HTTP/1.1 200 OK\"\n",
      "Enriching Chunks:   1%|▏         | 2/134 [00:13<15:34,  7.08s/it]"
     ]
    },
    {
     "name": "stdout",
     "output_type": "stream",
     "text": [
      "--------------------------------------------------\n",
      "embedding=[] chunk_text='#### **Contents**  \\nImportant information about your policy 3  \\nSection 1 – Home Comprehensive Insurance 8  \\n- Your cover at a glance 8  \\n- Part one – cover for your home 10  \\n- Part one – automatic benefits 18  \\n- Part one – optional benefits 24  \\n- Part two – your legal liability 25  \\nSection 2 – Contents Comprehensive Insurance 26  \\n- Your cover at a glance 26  \\n- Part one – cover for contents 28  \\n- Part one – automatic benefits 33  \\n- Part one – optional benefits 39  \\n- Part two – legal liability 40  \\nExclusions – what we do not cover 41  \\nClaims – what you need to do 49  \\nConditions of your cover 50  \\nDefinitions 54  \\nHow we pay claims – some examples 56  \\nPage 2 of 59  \\n<<-- PAGE BREAK -->>' metadata={'source': 'C:\\\\Users\\\\aibag\\\\git_repo\\\\policy_wording\\\\state-home-comprehensive-contents-comprehensive-insurance-policy-wording-si6995-2-1224.PDF', 'file_name': 'state-home-comprehensive-contents-comprehensive-insurance-policy-wording-si6995-2-1224.PDF', 'total_pages': '61', 'creation_date': '2024-12-02T10:18:24+13:00', 'header_key': 'Header 4', 'header_value': 'Contents'} file_name='state-home-comprehensive-contents-comprehensive-insurance-policy-wording-si6995-2-1224.PDF' tags=['Home', 'State'] isActive=True chunk_enrichment='' version='1' created_at=datetime.datetime(2025, 10, 11, 22, 3, 11, 698373, tzinfo=zoneinfo.ZoneInfo(key='Pacific/Auckland')) updated_at=datetime.datetime(2025, 10, 11, 22, 3, 11, 698373, tzinfo=zoneinfo.ZoneInfo(key='Pacific/Auckland'))\n"
     ]
    },
    {
     "name": "stderr",
     "output_type": "stream",
     "text": [
      "2025-10-11 22:40:29,028 [INFO] httpx: HTTP Request: POST http://127.0.0.1:11434/api/chat \"HTTP/1.1 200 OK\"\n",
      "Enriching Chunks:   2%|▏         | 3/134 [00:20<15:01,  6.89s/it]"
     ]
    },
    {
     "name": "stdout",
     "output_type": "stream",
     "text": [
      "--------------------------------------------------\n",
      "embedding=[] chunk_text='#### **Important information about your policy**  \\n‘You’ and ‘your’ mean any person or entity shown as the Insured in your policy schedule. If you have\\nContents Insurance, ‘you’ and ‘your’ include any partner of the Insured. ‘We’, ‘us’ and ‘our’ mean IAG  \\nNew Zealand Limited.' metadata={'source': 'C:\\\\Users\\\\aibag\\\\git_repo\\\\policy_wording\\\\state-home-comprehensive-contents-comprehensive-insurance-policy-wording-si6995-2-1224.PDF', 'file_name': 'state-home-comprehensive-contents-comprehensive-insurance-policy-wording-si6995-2-1224.PDF', 'total_pages': '61', 'creation_date': '2024-12-02T10:18:24+13:00', 'header_key': 'Header 4', 'header_value': 'Important information about your policy'} file_name='state-home-comprehensive-contents-comprehensive-insurance-policy-wording-si6995-2-1224.PDF' tags=['Home', 'State'] isActive=True chunk_enrichment='' version='1' created_at=datetime.datetime(2025, 10, 11, 22, 3, 11, 698373, tzinfo=zoneinfo.ZoneInfo(key='Pacific/Auckland')) updated_at=datetime.datetime(2025, 10, 11, 22, 3, 11, 698373, tzinfo=zoneinfo.ZoneInfo(key='Pacific/Auckland'))\n"
     ]
    },
    {
     "name": "stderr",
     "output_type": "stream",
     "text": [
      "2025-10-11 22:40:36,445 [INFO] httpx: HTTP Request: POST http://127.0.0.1:11434/api/chat \"HTTP/1.1 200 OK\"\n",
      "Enriching Chunks:   3%|▎         | 4/134 [00:27<15:20,  7.08s/it]"
     ]
    },
    {
     "name": "stdout",
     "output_type": "stream",
     "text": [
      "--------------------------------------------------\n",
      "embedding=[] chunk_text='###### **What your policy is**  \\nYour policy is a contract between you and us, and has three parts:  \\n- This policy wording. It explains what we cover and do not cover, your responsibilities, how to contact us  \\nand how to make a claim.  \\n- Your policy schedule. This contains information specific to you, such as the type of insurance and cover  \\nlevel you have, who and what is insured, your sums insured, the period of insurance and the premium  \\nthat applies.  \\n- Any addendum, endorsement or warranty that we apply. This may add special terms and conditions to  \\nyour policy. It may be a separate document or printed in your policy schedule.' metadata={'source': 'C:\\\\Users\\\\aibag\\\\git_repo\\\\policy_wording\\\\state-home-comprehensive-contents-comprehensive-insurance-policy-wording-si6995-2-1224.PDF', 'file_name': 'state-home-comprehensive-contents-comprehensive-insurance-policy-wording-si6995-2-1224.PDF', 'total_pages': '61', 'creation_date': '2024-12-02T10:18:24+13:00', 'header_key': 'Header 4', 'header_value': 'Important information about your policy'} file_name='state-home-comprehensive-contents-comprehensive-insurance-policy-wording-si6995-2-1224.PDF' tags=['Home', 'State'] isActive=True chunk_enrichment='' version='1' created_at=datetime.datetime(2025, 10, 11, 22, 3, 11, 698373, tzinfo=zoneinfo.ZoneInfo(key='Pacific/Auckland')) updated_at=datetime.datetime(2025, 10, 11, 22, 3, 11, 698373, tzinfo=zoneinfo.ZoneInfo(key='Pacific/Auckland'))\n"
     ]
    },
    {
     "name": "stderr",
     "output_type": "stream",
     "text": [
      "2025-10-11 22:40:42,255 [INFO] httpx: HTTP Request: POST http://127.0.0.1:11434/api/chat \"HTTP/1.1 200 OK\"\n",
      "Enriching Chunks:   4%|▎         | 5/134 [00:33<14:14,  6.62s/it]"
     ]
    },
    {
     "name": "stdout",
     "output_type": "stream",
     "text": [
      "--------------------------------------------------\n",
      "embedding=[] chunk_text='###### **Receiving your policy documents**  \\nYou may choose to receive your policy documents by email or post:  \\n- If we send your policy documents to you by email, we will send them to the person and email address you  \\nnominated for receiving policy documents. Any policy documents we send to this email address will be  \\nconsidered to have been received by you 24 hours after we send them.  \\n- If we send your policy documents to you by post, we will send them to the person and mailing address you  \\nnominated for receiving policy documents.  \\nYou are responsible for making sure the person and email or mailing address we have for your policy  \\ndocuments are correct. If any of these contact details change, you must let us know as soon as possible. We  \\nwill consider you have received all policy documents we send to the person and email or mailing address you  \\nnominated, even if those details are no longer correct.' metadata={'source': 'C:\\\\Users\\\\aibag\\\\git_repo\\\\policy_wording\\\\state-home-comprehensive-contents-comprehensive-insurance-policy-wording-si6995-2-1224.PDF', 'file_name': 'state-home-comprehensive-contents-comprehensive-insurance-policy-wording-si6995-2-1224.PDF', 'total_pages': '61', 'creation_date': '2024-12-02T10:18:24+13:00', 'header_key': 'Header 4', 'header_value': 'Important information about your policy'} file_name='state-home-comprehensive-contents-comprehensive-insurance-policy-wording-si6995-2-1224.PDF' tags=['Home', 'State'] isActive=True chunk_enrichment='' version='1' created_at=datetime.datetime(2025, 10, 11, 22, 3, 11, 698373, tzinfo=zoneinfo.ZoneInfo(key='Pacific/Auckland')) updated_at=datetime.datetime(2025, 10, 11, 22, 3, 11, 698373, tzinfo=zoneinfo.ZoneInfo(key='Pacific/Auckland'))\n"
     ]
    },
    {
     "name": "stderr",
     "output_type": "stream",
     "text": [
      "2025-10-11 22:40:50,792 [INFO] httpx: HTTP Request: POST http://127.0.0.1:11434/api/chat \"HTTP/1.1 200 OK\"\n",
      "Enriching Chunks:   4%|▍         | 6/134 [00:42<15:32,  7.29s/it]"
     ]
    },
    {
     "name": "stdout",
     "output_type": "stream",
     "text": [
      "--------------------------------------------------\n",
      "embedding=[] chunk_text='###### **How to read your policy**  \\nWords in bold have a special meaning. These words and what they mean are listed in the section ‘Definitions’.  \\nHeadings, examples and comments are a guide only. They do not change the meaning of your policy. The  \\nheadings help you find your way around this policy wording. The examples and comments in boxes help you  \\nunderstand how your policy works.' metadata={'source': 'C:\\\\Users\\\\aibag\\\\git_repo\\\\policy_wording\\\\state-home-comprehensive-contents-comprehensive-insurance-policy-wording-si6995-2-1224.PDF', 'file_name': 'state-home-comprehensive-contents-comprehensive-insurance-policy-wording-si6995-2-1224.PDF', 'total_pages': '61', 'creation_date': '2024-12-02T10:18:24+13:00', 'header_key': 'Header 4', 'header_value': 'Important information about your policy'} file_name='state-home-comprehensive-contents-comprehensive-insurance-policy-wording-si6995-2-1224.PDF' tags=['Home', 'State'] isActive=True chunk_enrichment='' version='1' created_at=datetime.datetime(2025, 10, 11, 22, 3, 11, 698373, tzinfo=zoneinfo.ZoneInfo(key='Pacific/Auckland')) updated_at=datetime.datetime(2025, 10, 11, 22, 3, 11, 698373, tzinfo=zoneinfo.ZoneInfo(key='Pacific/Auckland'))\n"
     ]
    },
    {
     "name": "stderr",
     "output_type": "stream",
     "text": [
      "2025-10-11 22:40:56,899 [INFO] httpx: HTTP Request: POST http://127.0.0.1:11434/api/chat \"HTTP/1.1 200 OK\"\n",
      "                                                                 \r"
     ]
    }
   ],
   "source": [
    "# Progress bar for chunk enrichment within the current file\n",
    "system_prompt = enrichment_system_prompt.format(document_text = doc_obj[0].page_content)\n",
    "\n",
    "with tqdm(total=len(doc_chunks), desc=f\"Enriching Chunks\", leave=False) as pbar_chunks:\n",
    "    for idx, chunk in enumerate(doc_chunks):\n",
    "        \n",
    "        print(\"-\"*50)\n",
    "        print(chunk)\n",
    "\n",
    "        # enrich chunk using LLM\n",
    "        query_prompt =  enrichment_user_prompt.format(chunk_text = chunk.chunk_text)\n",
    "        enriched_text = await invokeOllamaModel(system_prompt, query_prompt, formatModel=ChunkEnrichment)\n",
    "\n",
    "        enriched_parts = []\n",
    "        if enriched_text:\n",
    "            # pre-pend to the chunk:\n",
    "            enriched_parts = [\n",
    "            f\"Chunk Summary: {enriched_text.chunk_summary}\\n\",\n",
    "            f\"Questions this chunk may answer: {\"\\n\".join(f\"- {q}\" for q in enriched_text.hypotetical_questions)}\\n\",\n",
    "            ]\n",
    "             \n",
    "            if enriched_text.has_table and enriched_text.table_summary:\n",
    "                enriched_parts.append(f\"Table Summary: {enriched_text.table_summary}\\n\")\n",
    "        else:\n",
    "            logger.warning(f\"Doc: {chunk.file_name} Chunk: {idx} failed enrichment.\")\n",
    "\n",
    "        enriched_parts.append(f\"Chunk Text:\\n{chunk.chunk_text}\")\n",
    "\n",
    "        enriched_chunk = \"\\n\".join(enriched_parts)\n",
    "\n",
    "        # embed enriched_chunk\n",
    "        embedded_chunk = invoke_embedding(enriched_chunk)\n",
    "        \n",
    "        # write to the DocumentChunk object\n",
    "        if embedded_chunk is not None and len(embedded_chunk) > 0:\n",
    "            chunk.embedding = embedded_chunk\n",
    "\n",
    "        if enriched_chunk:\n",
    "            chunk.chunk_enrichment = enriched_chunk            \n",
    "\n",
    "        # Update chunk-level progress bar\n",
    "        pbar_chunks.update(1)\n",
    "\n",
    "        #if idx > 3: break"
   ]
  },
  {
   "cell_type": "code",
   "execution_count": null,
   "id": "bb6465c8",
   "metadata": {},
   "outputs": [
    {
     "data": {
      "text/plain": [
       "DocumentChunk(embedding=array([ 3.04781888e-02, -2.19033770e-02, -1.59611832e-02,  2.54837368e-02,\n",
       "        3.70973423e-02,  2.73491349e-02, -3.24338488e-02,  3.17719318e-02,\n",
       "        1.31254792e-02, -4.08883095e-02, -2.59651300e-02, -4.77782488e-02,\n",
       "       -1.25312591e-02,  2.56642606e-02,  2.61306092e-02,  3.65858600e-02,\n",
       "        4.28138822e-02,  1.90601517e-02, -3.33063714e-02,  2.18432043e-02,\n",
       "       -2.67962855e-03,  3.24141030e-04,  8.82302970e-03,  7.00652367e-03,\n",
       "        6.17988147e-02, -1.25312591e-02, -2.61757392e-02, -1.42311780e-02,\n",
       "       -5.22913039e-02, -2.85375733e-02, -4.71238559e-03, -2.60102618e-02,\n",
       "       -1.01242950e-02,  2.99065355e-02,  1.66325015e-03, -2.56191287e-02,\n",
       "       -1.09366458e-02,  2.69429591e-02, -1.87385955e-03, -2.43141036e-03,\n",
       "        1.34188272e-02,  6.47623930e-03, -4.89516407e-02, -2.70181783e-02,\n",
       "       -3.99856977e-02,  2.24900758e-03, -2.42652111e-02,  1.19445622e-02,\n",
       "       -7.69476499e-03,  4.11816593e-03, -4.54916321e-02,  3.67663838e-02,\n",
       "        1.04402089e-02,  1.13428207e-02,  4.97940816e-02,  7.79254809e-02,\n",
       "       -2.21440736e-02, -7.51574710e-02,  1.58408359e-02, -3.30957621e-02,\n",
       "        1.42988740e-02, -1.68337077e-02,  2.99967956e-02,  1.34790018e-02,\n",
       "        4.05874401e-02,  1.32082179e-02,  2.75296569e-02,  9.70006734e-02,\n",
       "       -1.11246891e-02, -3.36674154e-02, -6.69136122e-02,  4.93427739e-03,\n",
       "        4.74172011e-02, -9.75572877e-03, -6.17912924e-03, -1.23808244e-02,\n",
       "       -2.35431232e-02,  3.07038426e-02,  1.68637950e-02,  8.41685385e-03,\n",
       "       -3.66761237e-02,  9.53759719e-03, -2.29112934e-02,  4.98241670e-02,\n",
       "       -2.43855603e-02,  9.04116035e-03, -4.64544147e-02, -1.35316541e-02,\n",
       "        2.92596631e-02,  4.96135578e-02, -2.05795467e-02, -2.85375733e-02,\n",
       "        2.22794656e-02, -2.72099837e-03, -1.47026993e-04, -7.22691119e-02,\n",
       "        2.84021813e-02,  3.57847940e-03, -1.10645154e-02, -3.30055021e-02,\n",
       "       -3.49611603e-02, -1.88044105e-02, -4.59730253e-02,  1.37873944e-02,\n",
       "       -6.30022958e-02, -7.54809054e-03, -3.83309126e-02, -5.53601868e-02,\n",
       "        4.28740568e-02, -1.59649446e-03,  2.94251423e-02,  1.29449563e-02,\n",
       "       -4.36864085e-02,  9.25177056e-03, -4.88012061e-02,  2.40245145e-02,\n",
       "        2.28812080e-02, -2.14972030e-02, -3.89326513e-02,  2.03463715e-03,\n",
       "        1.41258733e-02,  4.29342315e-02,  3.17117572e-02,  4.26032729e-02,\n",
       "        3.30355875e-02,  1.09216021e-02,  7.10806716e-03, -3.52582708e-03,\n",
       "       -3.92034352e-02, -9.53157991e-02,  2.27006841e-02,  1.59310978e-02,\n",
       "        2.58146953e-02,  3.99856977e-02,  1.71044916e-02,  1.66381430e-02,\n",
       "        9.53759719e-03,  8.83337227e-04,  4.91622500e-02, -1.20122572e-02,\n",
       "       -2.74544396e-02,  8.97346530e-03, -2.40546018e-02,  2.20237263e-02,\n",
       "        2.69730464e-02, -1.24109108e-02, -2.28511207e-02, -1.65328383e-02,\n",
       "       -8.05129632e-02,  2.23697275e-02,  1.85637139e-02,  1.05756009e-02,\n",
       "        2.05043294e-02, -2.07901560e-02, -1.48404408e-02,  5.15240850e-03,\n",
       "        2.23020301e-03,  6.55897856e-02, -4.47695404e-02, -1.07486015e-02,\n",
       "        4.14900519e-02,  2.29564253e-02, -8.53720214e-03,  1.95114575e-02,\n",
       "        2.64314804e-02, -1.13653857e-02,  1.79619733e-02,  7.34500308e-03,\n",
       "        2.57244334e-02, -3.37877646e-02, -4.72065918e-02,  8.18461995e-04,\n",
       "        5.53902723e-02, -1.39754377e-02,  4.34457101e-02,  4.24528383e-02,\n",
       "        4.26634476e-02, -1.62620544e-02, -7.38073140e-04, -1.94362383e-02,\n",
       "       -6.29421249e-02,  8.50861967e-02,  5.79175865e-03,  6.02643751e-02,\n",
       "       -3.07452120e-03, -1.71195362e-02,  5.80981076e-02,  4.59955912e-03,\n",
       "       -4.21519689e-02, -3.08693200e-02, -7.16673732e-02, -4.79888581e-02,\n",
       "        3.72778624e-02, -3.10648861e-03,  3.20126303e-02, -4.06175293e-02,\n",
       "       -1.57505739e-02,  6.63118735e-02, -5.19377831e-03,  3.07790600e-02,\n",
       "        1.42161343e-02,  1.43736223e-04, -1.63222291e-02, -6.89595342e-02,\n",
       "       -4.63942438e-02,  5.09975627e-02,  2.52580848e-02,  9.13142227e-03,\n",
       "        1.82327572e-02,  4.68455479e-02, -2.57093906e-02,  2.67173070e-02,\n",
       "       -1.05304699e-02,  1.03800348e-03,  5.30660478e-03,  4.69658971e-02,\n",
       "        4.20015305e-02,  2.74732453e-03,  5.97528964e-02, -4.83499020e-02,\n",
       "        4.99746017e-02,  5.80078475e-02,  2.78117228e-03,  4.57925014e-02,\n",
       "       -4.22121398e-02,  7.34725967e-02,  2.67022643e-02, -1.90864768e-04,\n",
       "       -4.01361361e-02,  1.37648284e-02,  4.28138822e-02, -3.00268829e-02,\n",
       "       -1.72549281e-02,  3.26143689e-02,  1.42537430e-02,  3.89627405e-02,\n",
       "       -4.71163318e-02, -4.18586191e-03,  5.91812432e-02, -1.23507371e-02,\n",
       "        3.76840401e-03,  5.60822748e-02,  3.73079516e-02,  6.29421249e-02,\n",
       "       -2.97260135e-02,  2.93649677e-02, -3.51830525e-03, -8.42437614e-03,\n",
       "       -3.43895070e-02,  1.37046548e-02, -1.89247597e-02,  5.87449782e-03,\n",
       "        5.68645373e-02, -2.68376544e-02,  3.99405695e-03, -1.50961811e-02,\n",
       "       -2.24148575e-02,  4.75074649e-02,  8.91780406e-02,  6.40252605e-02,\n",
       "        8.89824703e-03,  7.13664964e-02, -2.78775377e-04,  2.63863485e-02,\n",
       "       -5.18399999e-02, -5.16293906e-02, -3.47806402e-02,  2.84172259e-02,\n",
       "       -3.08693200e-02,  1.17339520e-02,  6.33633435e-02, -7.41946846e-02,\n",
       "       -1.54045736e-02, -3.38479392e-02,  1.55249219e-02, -2.72889603e-02,\n",
       "        2.24449448e-02, -1.25237377e-02,  6.40102150e-03, -3.22834142e-02,\n",
       "       -1.88796278e-02,  9.91669446e-02, -1.45019619e-02, -5.93918525e-02,\n",
       "        4.13997918e-02, -4.57323268e-02,  8.02572258e-03, -6.27616048e-02,\n",
       "        2.28059888e-02,  1.90601517e-02, -1.84283219e-02, -1.09291235e-02,\n",
       "       -9.70307644e-03,  2.43103430e-02,  6.98621497e-02,  6.07156828e-02,\n",
       "        4.13320959e-03,  2.67173070e-02,  5.92414178e-02, -2.51979101e-02,\n",
       "        8.57481174e-03, -1.13804294e-02,  1.94061529e-02, -1.78115387e-02,\n",
       "       -2.13618111e-02, -6.29421249e-02, -1.58558786e-02, -1.81124080e-02,\n",
       "       -2.27819204e-01,  5.54504469e-02,  3.93237844e-02, -2.69730464e-02,\n",
       "        2.07751133e-02, -1.09291235e-02,  7.49769434e-02, -1.12600811e-02,\n",
       "       -3.43293324e-02,  8.10093991e-03,  9.72564146e-03, -2.53483467e-02,\n",
       "        2.36032959e-02,  1.80672780e-02,  1.56151829e-02,  1.56753566e-02,\n",
       "       -2.18883343e-02, -4.48898897e-02, -3.34868953e-02, -7.92793930e-03,\n",
       "       -1.50153216e-03, -7.20284134e-02, -3.83045850e-03, -5.83312847e-03,\n",
       "        2.66872197e-02, -7.33842142e-04, -8.52968078e-03, -1.68487523e-02,\n",
       "       -2.29865126e-02, -1.04101216e-02,  2.89888792e-02, -4.00458723e-02,\n",
       "        4.66951132e-02,  1.54797910e-02, -9.59777087e-03, -6.43863007e-02,\n",
       "        4.33253609e-02,  1.24259545e-02, -1.90150198e-02, -3.65858600e-02,\n",
       "       -1.38851767e-02, -1.12544396e-03, -3.32461968e-02, -4.64243293e-02,\n",
       "        2.26856414e-02,  2.97711436e-02, -2.75447015e-02, -6.06555082e-02,\n",
       "       -6.54769596e-03,  6.05652481e-02,  4.09785733e-02, -3.06887981e-02,\n",
       "       -6.34836927e-02,  2.33926880e-03, -3.90830860e-02,  3.94441336e-02,\n",
       "       -7.32318982e-02,  3.41788977e-02, -2.28661634e-02,  1.39904814e-02,\n",
       "       -7.49543821e-03, -7.07647577e-02,  3.53710959e-03, -4.72667664e-02,\n",
       "        3.52921188e-02, -2.76199188e-02, -7.90687874e-02,  4.82521160e-03,\n",
       "        4.25430983e-02,  3.38479392e-02,  7.20961113e-03, -2.35431232e-02,\n",
       "       -4.17307504e-02, -9.91669446e-02, -8.99603032e-03, -7.76847824e-02,\n",
       "       -2.03238074e-02,  1.96919795e-02,  2.91994885e-02,  3.47806402e-02,\n",
       "       -1.95377832e-03,  2.42200810e-02, -6.36341283e-03,  2.28210334e-02,\n",
       "       -9.77829378e-03, -4.35359739e-02,  4.18811850e-02,  7.19456747e-03,\n",
       "       -3.07188854e-02, -3.76689956e-02,  7.86776561e-03,  1.09817763e-03,\n",
       "       -2.82254210e-03, -1.95866749e-02,  1.65478811e-02,  7.95802660e-03,\n",
       "       -4.54615429e-02, -1.47802671e-02, -1.33210449e-02, -1.50435290e-03,\n",
       "        4.04670909e-02, -4.96737324e-02, -3.20126303e-02, -1.09938107e-01,\n",
       "       -3.69271613e-04, -1.14330817e-02, -2.56943479e-02,  1.17489956e-02,\n",
       "        2.25201622e-02,  6.53641298e-03, -4.75977249e-02,  6.01741136e-04,\n",
       "        2.10910272e-02, -6.02944642e-02,  2.97711436e-02, -7.32995942e-03,\n",
       "       -7.71733001e-03, -9.31946561e-03,  4.18586191e-03, -4.26935330e-02,\n",
       "       -1.73602328e-02,  3.55929881e-02, -3.12303659e-02,  1.08407426e-03,\n",
       "       -8.26190561e-02,  3.07038426e-02,  3.26745436e-02, -6.98621497e-02,\n",
       "        3.76990847e-02,  1.20423445e-02, -1.50660938e-02, -1.68938823e-02,\n",
       "       -1.80522352e-02,  3.26444581e-03, -1.63974464e-02, -7.99563527e-03,\n",
       "        9.97385941e-03, -2.58899126e-02, -2.42652111e-02, -4.20316197e-02,\n",
       "       -3.42992470e-02, -1.75557975e-02,  1.60514452e-02,  5.54805323e-02,\n",
       "        1.08132884e-01,  2.06397213e-02, -1.01769473e-02,  1.54346600e-02,\n",
       "       -6.27616048e-02, -1.49683114e-02,  1.19144749e-02, -6.95612803e-02,\n",
       "       -9.90616344e-03, -2.23245975e-02, -3.65557745e-02, -8.52780009e-04,\n",
       "        2.25803368e-02,  1.03236211e-03, -2.67925244e-02, -2.07751133e-02,\n",
       "       -1.39754377e-02, -1.20724319e-02,  2.81765293e-02,  1.20273009e-02,\n",
       "       -7.20585044e-03,  4.15201373e-02, -9.70006734e-02, -6.35589100e-03,\n",
       "       -7.75493914e-03,  1.58709232e-02,  2.84172259e-02, -5.58415800e-02,\n",
       "       -9.66546685e-03, -1.55850956e-02, -4.79888543e-03,  7.65715633e-03,\n",
       "        6.80569261e-02,  1.23582585e-02, -1.27493904e-03,  8.26641917e-03,\n",
       "       -9.10133496e-03, -9.05620400e-03,  1.26215210e-02,  8.50429467e-04,\n",
       "        5.15090413e-02, -1.46223102e-02,  5.34346141e-02, -1.27117820e-02,\n",
       "       -5.65034933e-02, -1.08219380e-03, -1.00942077e-02, -3.58600123e-03,\n",
       "       -3.61646414e-02,  3.46753327e-03, -1.22905625e-02, -6.03546388e-02,\n",
       "        9.29690059e-03, -9.01859533e-03, -2.62208711e-02,  3.37576792e-02,\n",
       "       -2.65668724e-02, -1.45395705e-02, -3.37877646e-02,  6.44615199e-03,\n",
       "       -1.55399656e-02,  7.38637242e-03,  7.36756809e-03,  2.25803368e-02,\n",
       "        1.62169244e-02,  3.17117572e-02, -2.38439925e-02, -8.16863589e-03,\n",
       "       -3.68265584e-02, -4.11590934e-02,  1.74053628e-02, -3.29152420e-02,\n",
       "       -2.58598253e-02, -6.46871701e-02, -1.56452693e-02, -1.15929195e-03,\n",
       "        1.91955417e-02, -1.66983176e-02, -2.68526990e-02,  2.87180971e-02,\n",
       "       -7.01780617e-03,  1.25989551e-02,  1.46824839e-02, -4.31448407e-02,\n",
       "        1.18543003e-02, -2.47315615e-02,  1.88946724e-02, -4.68756370e-02,\n",
       "        3.31860259e-02,  4.69057225e-02, -5.11179119e-02, -1.76460594e-02,\n",
       "       -5.29231355e-02,  5.22386516e-03, -4.24227491e-03,  1.66983176e-02,\n",
       "       -4.02263962e-02, -6.66804425e-03, -1.01543823e-03,  1.79619733e-02,\n",
       "       -1.01017291e-02,  2.45660823e-02,  1.58051075e-03, -1.20122572e-02,\n",
       "       -2.14972030e-02,  6.91400543e-02,  9.22168326e-03,  5.89706339e-02,\n",
       "       -1.56734767e-03, -2.01282408e-02, -9.73128248e-04, -1.39002204e-02,\n",
       "       -3.88423912e-02,  3.51115949e-02,  1.66983176e-02,  4.85304222e-02,\n",
       "       -1.03048177e-03, -4.46491949e-02, -3.98954377e-02, -3.32762860e-02,\n",
       "        3.67362984e-02,  2.69880909e-02,  1.05831223e-02,  1.00716427e-02,\n",
       "       -5.47960540e-03, -3.16515826e-02, -4.16404866e-02, -3.98051776e-02,\n",
       "        1.30352173e-02, -4.28364472e-03,  3.14108878e-02,  1.25237377e-02,\n",
       "        1.35692628e-02,  1.37196984e-02,  5.05161695e-02, -6.69737905e-02,\n",
       "       -2.97109690e-02,  3.53222042e-02, -2.26593157e-03, -2.96921656e-03,\n",
       "        3.54726389e-02, -5.50593138e-02,  2.05532205e-03,  7.34725967e-02,\n",
       "       -6.63720518e-02, -2.71723745e-03,  6.64547877e-03,  6.33633435e-02,\n",
       "       -7.45124766e-04,  5.34421345e-03, -2.04140693e-02,  2.60704346e-02,\n",
       "        7.29987212e-03,  3.72778624e-02,  2.63073714e-03,  4.00759615e-02,\n",
       "       -5.53300977e-02,  2.16025077e-02,  3.00569702e-02,  1.05079049e-02,\n",
       "       -6.55897856e-02,  5.40664420e-02, -1.56151829e-02, -1.19821709e-02,\n",
       "        6.36642128e-02, -1.14857340e-02,  1.93760656e-02, -4.06175293e-02,\n",
       "        4.74773757e-02,  7.52176438e-03, -4.41678017e-02, -5.86998500e-02,\n",
       "        3.09294946e-02, -4.42881472e-02,  7.08174100e-03, -2.37086006e-02,\n",
       "       -1.87141504e-02, -2.00530235e-02,  3.66460346e-02,  7.73839131e-02,\n",
       "        5.20205237e-02,  1.11261941e-01, -1.85185838e-02,  9.88359842e-03,\n",
       "        2.83570513e-02,  1.89266400e-03,  6.98019713e-02,  8.37623700e-02,\n",
       "        3.40585485e-02,  4.31749262e-02,  1.26290424e-02, -7.69100385e-03,\n",
       "       -5.89405447e-02, -8.14155787e-02, -2.51527801e-02,  7.00426698e-02,\n",
       "       -4.57323268e-02,  7.59999081e-02,  3.86317819e-02,  5.84290661e-02,\n",
       "       -1.16469819e-04,  3.97750884e-02,  5.66840172e-02,  5.28027862e-02,\n",
       "        4.78985943e-02,  4.36262339e-02, -3.60668590e-03, -3.56832482e-02,\n",
       "       -5.20412053e-04,  5.26523509e-04, -1.13052120e-02, -6.75078342e-03,\n",
       "       -2.98914909e-02,  2.76650488e-02, -8.18367973e-02, -1.60965754e-03,\n",
       "       -4.01361361e-02,  3.64429480e-03,  5.72556704e-02,  2.67323498e-02,\n",
       "        2.12264191e-02, -1.77062340e-02,  1.71797089e-02, -4.23475355e-03,\n",
       "        6.44464791e-02,  1.38776554e-02,  2.78117228e-03,  2.23245975e-02,\n",
       "       -9.24424827e-03, -1.96017176e-02,  3.08392346e-02, -2.86278352e-02,\n",
       "        3.41488086e-02, -1.64726637e-02, -1.47200925e-02,  3.89326513e-02,\n",
       "       -4.46792804e-02, -3.83008234e-02, -2.59199999e-02, -3.69469076e-02,\n",
       "       -3.76389101e-02, -5.31036556e-02, -4.84702513e-02,  2.89738365e-02,\n",
       "       -2.61757392e-02, -2.36634705e-02, -5.31412661e-03, -5.16895652e-02,\n",
       "        1.11171678e-02,  2.97560990e-02, -4.20917943e-02,  1.05304699e-02,\n",
       "        2.88685318e-02,  2.58748699e-02,  2.25502495e-02,  2.49873009e-02,\n",
       "        3.10799312e-02, -3.53222042e-02, -8.50711577e-03, -4.59429361e-02,\n",
       "        1.01318164e-02,  4.95834723e-02,  5.17121283e-03, -8.65755044e-03,\n",
       "       -9.45335329e-02,  8.61994177e-03,  2.31971219e-02,  2.42106791e-04,\n",
       "       -7.72635639e-02,  4.52208482e-02,  5.43673113e-02, -2.07149386e-02,\n",
       "        5.90308048e-02,  3.83910835e-02, -1.70443188e-02, -4.69358079e-02,\n",
       "        1.82778873e-02, -2.47748103e-04,  3.98051776e-02,  4.73570265e-02,\n",
       "       -5.74286701e-03,  4.61836345e-02,  6.09864667e-02, -2.30015554e-02,\n",
       "        2.95229256e-03,  3.20728049e-02, -1.22679975e-02, -3.31145665e-03,\n",
       "       -2.78305281e-02,  4.73871175e-03, -2.34114914e-03, -2.60854792e-02,\n",
       "       -6.75153583e-02,  4.72667664e-02, -2.08503306e-02, -5.18399999e-02,\n",
       "        3.27347182e-02, -8.02120939e-02,  2.17228550e-02,  1.51789207e-02,\n",
       "       -2.80862674e-02,  4.67853732e-02,  7.83767831e-03, -2.31219027e-02,\n",
       "       -5.58415800e-02, -6.83728373e-03, -2.52129547e-02, -4.84100766e-02,\n",
       "        4.51305844e-02, -4.88312952e-02, -1.31104356e-02, -2.05193739e-02,\n",
       "       -1.25914337e-02,  2.57996526e-02, -3.23736742e-02, -4.43784101e-03],\n",
       "      dtype=float32), chunk_text='###### **Receiving your policy documents**  \\nYou may choose to receive your policy documents by email or post:  \\n- If we send your policy documents to you by email, we will send them to the person and email address you  \\nnominated for receiving policy documents. Any policy documents we send to this email address will be  \\nconsidered to have been received by you 24 hours after we send them.  \\n- If we send your policy documents to you by post, we will send them to the person and mailing address you  \\nnominated for receiving policy documents.  \\nYou are responsible for making sure the person and email or mailing address we have for your policy  \\ndocuments are correct. If any of these contact details change, you must let us know as soon as possible. We  \\nwill consider you have received all policy documents we send to the person and email or mailing address you  \\nnominated, even if those details are no longer correct.', metadata={'source': 'C:\\\\Users\\\\aibag\\\\git_repo\\\\policy_wording\\\\state-home-comprehensive-contents-comprehensive-insurance-policy-wording-si6995-2-1224.PDF', 'file_name': 'state-home-comprehensive-contents-comprehensive-insurance-policy-wording-si6995-2-1224.PDF', 'total_pages': '61', 'creation_date': '2024-12-02T10:18:24+13:00', 'header_key': 'Header 4', 'header_value': 'Important information about your policy'}, file_name='state-home-comprehensive-contents-comprehensive-insurance-policy-wording-si6995-2-1224.PDF', tags=['Home', 'State'], isActive=True, chunk_enrichment=\"Chunk Summary: This section outlines how policy documents are delivered and the recipient's responsibility for maintaining accurate contact information. Documents are delivered via email or post to the address the recipient designates. Email delivery is considered received 24 hours after sending, while post delivery relies on the recipient's provided address.\\n\\nQuestions this chunk may answer: - What happens if I don’t receive my policy documents?\\n- How quickly will I receive my policy documents via email?\\n- What if my email address or mailing address changes after I’ve received the documents?\\n- Does the company verify the accuracy of my address?\\n\\nChunk Text:\\n###### **Receiving your policy documents**  \\nYou may choose to receive your policy documents by email or post:  \\n- If we send your policy documents to you by email, we will send them to the person and email address you  \\nnominated for receiving policy documents. Any policy documents we send to this email address will be  \\nconsidered to have been received by you 24 hours after we send them.  \\n- If we send your policy documents to you by post, we will send them to the person and mailing address you  \\nnominated for receiving policy documents.  \\nYou are responsible for making sure the person and email or mailing address we have for your policy  \\ndocuments are correct. If any of these contact details change, you must let us know as soon as possible. We  \\nwill consider you have received all policy documents we send to the person and email or mailing address you  \\nnominated, even if those details are no longer correct.\", version='1', created_at=datetime.datetime(2025, 10, 11, 22, 3, 11, 698373, tzinfo=zoneinfo.ZoneInfo(key='Pacific/Auckland')), updated_at=datetime.datetime(2025, 10, 11, 22, 3, 11, 698373, tzinfo=zoneinfo.ZoneInfo(key='Pacific/Auckland')))"
      ]
     },
     "execution_count": 66,
     "metadata": {},
     "output_type": "execute_result"
    }
   ],
   "source": [
    "doc_chunks[5].chunk_enrichment"
   ]
  },
  {
   "cell_type": "code",
   "execution_count": 69,
   "id": "ec190984",
   "metadata": {},
   "outputs": [],
   "source": [
    "# Using SQLALCHEMY\n",
    "# create the engine\n",
    "db_engine = get_engine()"
   ]
  },
  {
   "cell_type": "code",
   "execution_count": 70,
   "id": "aba46aef",
   "metadata": {},
   "outputs": [
    {
     "name": "stdout",
     "output_type": "stream",
     "text": [
      "2025-10-11 22:45:50,167 INFO sqlalchemy.engine.Engine select pg_catalog.version()\n"
     ]
    },
    {
     "name": "stderr",
     "output_type": "stream",
     "text": [
      "2025-10-11 22:45:50,167 [INFO] sqlalchemy.engine.Engine: select pg_catalog.version()\n"
     ]
    },
    {
     "name": "stdout",
     "output_type": "stream",
     "text": [
      "2025-10-11 22:45:50,168 INFO sqlalchemy.engine.Engine [raw sql] ()\n"
     ]
    },
    {
     "name": "stderr",
     "output_type": "stream",
     "text": [
      "2025-10-11 22:45:50,168 [INFO] sqlalchemy.engine.Engine: [raw sql] ()\n"
     ]
    },
    {
     "name": "stdout",
     "output_type": "stream",
     "text": [
      "2025-10-11 22:45:50,172 INFO sqlalchemy.engine.Engine select current_schema()\n"
     ]
    },
    {
     "name": "stderr",
     "output_type": "stream",
     "text": [
      "2025-10-11 22:45:50,172 [INFO] sqlalchemy.engine.Engine: select current_schema()\n"
     ]
    },
    {
     "name": "stdout",
     "output_type": "stream",
     "text": [
      "2025-10-11 22:45:50,172 INFO sqlalchemy.engine.Engine [raw sql] ()\n"
     ]
    },
    {
     "name": "stderr",
     "output_type": "stream",
     "text": [
      "2025-10-11 22:45:50,172 [INFO] sqlalchemy.engine.Engine: [raw sql] ()\n"
     ]
    },
    {
     "name": "stdout",
     "output_type": "stream",
     "text": [
      "2025-10-11 22:45:50,184 INFO sqlalchemy.engine.Engine show standard_conforming_strings\n"
     ]
    },
    {
     "name": "stderr",
     "output_type": "stream",
     "text": [
      "2025-10-11 22:45:50,184 [INFO] sqlalchemy.engine.Engine: show standard_conforming_strings\n"
     ]
    },
    {
     "name": "stdout",
     "output_type": "stream",
     "text": [
      "2025-10-11 22:45:50,186 INFO sqlalchemy.engine.Engine [raw sql] ()\n"
     ]
    },
    {
     "name": "stderr",
     "output_type": "stream",
     "text": [
      "2025-10-11 22:45:50,186 [INFO] sqlalchemy.engine.Engine: [raw sql] ()\n",
      "2025-10-11 22:45:50,200 [INFO] db.db_connection_pool: DB connection opened\n"
     ]
    },
    {
     "name": "stdout",
     "output_type": "stream",
     "text": [
      "2025-10-11 22:45:50,200 INFO sqlalchemy.engine.Engine BEGIN (implicit)\n"
     ]
    },
    {
     "name": "stderr",
     "output_type": "stream",
     "text": [
      "2025-10-11 22:45:50,200 [INFO] sqlalchemy.engine.Engine: BEGIN (implicit)\n"
     ]
    },
    {
     "name": "stdout",
     "output_type": "stream",
     "text": [
      "2025-10-11 22:45:50,200 INFO sqlalchemy.engine.Engine SELECT 1\n"
     ]
    },
    {
     "name": "stderr",
     "output_type": "stream",
     "text": [
      "2025-10-11 22:45:50,200 [INFO] sqlalchemy.engine.Engine: SELECT 1\n"
     ]
    },
    {
     "name": "stdout",
     "output_type": "stream",
     "text": [
      "2025-10-11 22:45:50,200 INFO sqlalchemy.engine.Engine [generated in 0.00237s] ()\n"
     ]
    },
    {
     "name": "stderr",
     "output_type": "stream",
     "text": [
      "2025-10-11 22:45:50,200 [INFO] sqlalchemy.engine.Engine: [generated in 0.00237s] ()\n"
     ]
    },
    {
     "name": "stdout",
     "output_type": "stream",
     "text": [
      "1\n",
      "2025-10-11 22:45:50,207 INFO sqlalchemy.engine.Engine ROLLBACK\n"
     ]
    },
    {
     "name": "stderr",
     "output_type": "stream",
     "text": [
      "2025-10-11 22:45:50,207 [INFO] sqlalchemy.engine.Engine: ROLLBACK\n",
      "2025-10-11 22:45:50,207 [INFO] db.db_connection_pool: DB connection closed\n"
     ]
    }
   ],
   "source": [
    "# test\n",
    "async with get_conn(db_engine) as conn:\n",
    "    stmt = text(\"SELECT 1\")\n",
    "    result = await conn.execute(stmt)\n",
    "    print(result.scalar())\n"
   ]
  },
  {
   "cell_type": "code",
   "execution_count": 71,
   "id": "1edb4422",
   "metadata": {},
   "outputs": [
    {
     "name": "stderr",
     "output_type": "stream",
     "text": [
      "2025-10-11 22:45:59,225 [INFO] db.db_connection_pool: DB connection opened\n"
     ]
    },
    {
     "name": "stdout",
     "output_type": "stream",
     "text": [
      "2025-10-11 22:45:59,226 INFO sqlalchemy.engine.Engine BEGIN (implicit)\n"
     ]
    },
    {
     "name": "stderr",
     "output_type": "stream",
     "text": [
      "2025-10-11 22:45:59,226 [INFO] sqlalchemy.engine.Engine: BEGIN (implicit)\n"
     ]
    },
    {
     "name": "stdout",
     "output_type": "stream",
     "text": [
      "2025-10-11 22:45:59,228 INFO sqlalchemy.engine.Engine SET search_path TO public, document;\n"
     ]
    },
    {
     "name": "stderr",
     "output_type": "stream",
     "text": [
      "2025-10-11 22:45:59,228 [INFO] sqlalchemy.engine.Engine: SET search_path TO public, document;\n"
     ]
    },
    {
     "name": "stdout",
     "output_type": "stream",
     "text": [
      "2025-10-11 22:45:59,228 INFO sqlalchemy.engine.Engine [generated in 0.00066s] ()\n"
     ]
    },
    {
     "name": "stderr",
     "output_type": "stream",
     "text": [
      "2025-10-11 22:45:59,228 [INFO] sqlalchemy.engine.Engine: [generated in 0.00066s] ()\n"
     ]
    },
    {
     "name": "stdout",
     "output_type": "stream",
     "text": [
      "2025-10-11 22:45:59,232 INFO sqlalchemy.engine.Engine CREATE SCHEMA IF NOT EXISTS document;\n"
     ]
    },
    {
     "name": "stderr",
     "output_type": "stream",
     "text": [
      "2025-10-11 22:45:59,232 [INFO] sqlalchemy.engine.Engine: CREATE SCHEMA IF NOT EXISTS document;\n"
     ]
    },
    {
     "name": "stdout",
     "output_type": "stream",
     "text": [
      "2025-10-11 22:45:59,233 INFO sqlalchemy.engine.Engine [generated in 0.00139s] ()\n"
     ]
    },
    {
     "name": "stderr",
     "output_type": "stream",
     "text": [
      "2025-10-11 22:45:59,233 [INFO] sqlalchemy.engine.Engine: [generated in 0.00139s] ()\n"
     ]
    },
    {
     "name": "stdout",
     "output_type": "stream",
     "text": [
      "2025-10-11 22:45:59,235 INFO sqlalchemy.engine.Engine \n",
      "            CREATE TABLE IF NOT EXISTS document.document_chunk (\n",
      "                id              UUID PRIMARY KEY DEFAULT gen_random_uuid(),\n",
      "                embedding       VECTOR(1536),\n",
      "                chunk_text      TEXT,\n",
      "                doc_metadata    JSONB,\n",
      "                file_name       TEXT,\n",
      "                doc_tags        TEXT[],\n",
      "                isActive        BOOLEAN,\n",
      "                version         TEXT,\n",
      "                created_at      TIMESTAMP DEFAULT CURRENT_TIMESTAMP,\n",
      "                updated_at      TIMESTAMP\n",
      "            );\n",
      "        \n"
     ]
    },
    {
     "name": "stderr",
     "output_type": "stream",
     "text": [
      "2025-10-11 22:45:59,235 [INFO] sqlalchemy.engine.Engine: \n",
      "            CREATE TABLE IF NOT EXISTS document.document_chunk (\n",
      "                id              UUID PRIMARY KEY DEFAULT gen_random_uuid(),\n",
      "                embedding       VECTOR(1536),\n",
      "                chunk_text      TEXT,\n",
      "                doc_metadata    JSONB,\n",
      "                file_name       TEXT,\n",
      "                doc_tags        TEXT[],\n",
      "                isActive        BOOLEAN,\n",
      "                version         TEXT,\n",
      "                created_at      TIMESTAMP DEFAULT CURRENT_TIMESTAMP,\n",
      "                updated_at      TIMESTAMP\n",
      "            );\n",
      "        \n"
     ]
    },
    {
     "name": "stdout",
     "output_type": "stream",
     "text": [
      "2025-10-11 22:45:59,236 INFO sqlalchemy.engine.Engine [generated in 0.00071s] ()\n"
     ]
    },
    {
     "name": "stderr",
     "output_type": "stream",
     "text": [
      "2025-10-11 22:45:59,236 [INFO] sqlalchemy.engine.Engine: [generated in 0.00071s] ()\n"
     ]
    },
    {
     "name": "stdout",
     "output_type": "stream",
     "text": [
      "2025-10-11 22:45:59,238 INFO sqlalchemy.engine.Engine \n",
      "            CREATE INDEX IF NOT EXISTS documents_embedding_idx\n",
      "            ON document.document_chunk\n",
      "            USING ivfflat (embedding vector_l2_ops)\n",
      "            WITH (lists = 100);\n",
      "        \n"
     ]
    },
    {
     "name": "stderr",
     "output_type": "stream",
     "text": [
      "2025-10-11 22:45:59,238 [INFO] sqlalchemy.engine.Engine: \n",
      "            CREATE INDEX IF NOT EXISTS documents_embedding_idx\n",
      "            ON document.document_chunk\n",
      "            USING ivfflat (embedding vector_l2_ops)\n",
      "            WITH (lists = 100);\n",
      "        \n"
     ]
    },
    {
     "name": "stdout",
     "output_type": "stream",
     "text": [
      "2025-10-11 22:45:59,239 INFO sqlalchemy.engine.Engine [generated in 0.00138s] ()\n"
     ]
    },
    {
     "name": "stderr",
     "output_type": "stream",
     "text": [
      "2025-10-11 22:45:59,239 [INFO] sqlalchemy.engine.Engine: [generated in 0.00138s] ()\n"
     ]
    },
    {
     "name": "stdout",
     "output_type": "stream",
     "text": [
      "2025-10-11 22:45:59,256 INFO sqlalchemy.engine.Engine COMMIT\n"
     ]
    },
    {
     "name": "stderr",
     "output_type": "stream",
     "text": [
      "2025-10-11 22:45:59,256 [INFO] sqlalchemy.engine.Engine: COMMIT\n",
      "2025-10-11 22:45:59,259 [INFO] __main__: Document schema initialisation finished\n",
      "2025-10-11 22:45:59,259 [INFO] db.db_connection_pool: DB connection closed\n"
     ]
    }
   ],
   "source": [
    "# create schema and tables using sqlalchemy\n",
    "async with get_conn(db_engine) as conn:\n",
    "    # You can wrap everything in an explicit transaction if you want\n",
    "    # an atomic create/commit block.\n",
    "    # the transaction is automatically committed when the block exits\n",
    "    async with conn.begin():   \n",
    "\n",
    "        await conn.execute(text(\"SET search_path TO public, document;\"))\n",
    "\n",
    "        # Create schema\n",
    "        await conn.execute(\n",
    "            text(\"CREATE SCHEMA IF NOT EXISTS document;\")\n",
    "        )\n",
    "\n",
    "        # Create table\n",
    "        create_table_sql = \"\"\"\n",
    "            CREATE TABLE IF NOT EXISTS document.document_chunk (\n",
    "                id              UUID PRIMARY KEY DEFAULT gen_random_uuid(),\n",
    "                embedding       VECTOR(1536),\n",
    "                chunk_text      TEXT,\n",
    "                doc_metadata    JSONB,\n",
    "                file_name       TEXT,\n",
    "                doc_tags        TEXT[],\n",
    "                isActive        BOOLEAN,\n",
    "                version         TEXT,\n",
    "                created_at      TIMESTAMP DEFAULT CURRENT_TIMESTAMP,\n",
    "                updated_at      TIMESTAMP\n",
    "            );\n",
    "        \"\"\"\n",
    "        await conn.execute(text(create_table_sql))\n",
    "\n",
    "        # Create table index\n",
    "        create_index_sql = \"\"\"\n",
    "            CREATE INDEX IF NOT EXISTS documents_embedding_idx\n",
    "            ON document.document_chunk\n",
    "            USING ivfflat (embedding vector_l2_ops)\n",
    "            WITH (lists = 100);\n",
    "        \"\"\"\n",
    "        await conn.execute(text(create_index_sql))\n",
    "\n",
    "    logger.info(\"Document schema initialisation finished\")"
   ]
  },
  {
   "cell_type": "code",
   "execution_count": null,
   "id": "eb0d4020",
   "metadata": {},
   "outputs": [],
   "source": [
    "# Batch insert the doc chunks to the document_chunk table\n",
    "async def insert_chunk_batch(conn, rows: Sequence[Dict[str, Any]]):\n",
    "\n",
    "    insert_sql = \"\"\"\n",
    "    INSERT INTO document.document_chunk\n",
    "      (embedding, chunk_text, doc_metadata, file_name, doc_tags, isActive, version, created_at, updated_at)\n",
    "    VALUES\n",
    "      (:embedding, :chunktext, :docmetadata, :filename, :doctags, :isActive, :version, :createdat, :updatedat)\n",
    "    \"\"\"\n",
    "    await conn.execute(text(insert_sql), rows)\n",
    "\n",
    "\n",
    "async def ingest_chunks(engine, docchunks: List[Any]):\n",
    "\n",
    "    async with get_conn(engine) as conn:\n",
    "\n",
    "        BATCH_SIZE = 10\n",
    "\n",
    "        for i in range(0, len(docchunks), BATCH_SIZE):\n",
    "            batch = docchunks[i:i+BATCH_SIZE]\n",
    "\n",
    "            texts = [d.chunktext for d in batch]\n",
    "            embeddings = await client.aembed(texts)\n",
    "\n",
    "            rows = []\n",
    "            for d, emb in zip(batch, embeddings):\n",
    "                # Align columns per DocumentChunkBase\n",
    "                doctags = \",\".join(d.tags) if getattr(d, \"tags\", None) else None\n",
    "                rows.append({\n",
    "                    \"embedding\": emb,\n",
    "                    \"chunktext\": d.chunktext,\n",
    "                    \"docmetadata\": json.dumps(d.metadata or {}) if isinstance(d.metadata, dict) else d.metadata,\n",
    "                    \"filename\": getattr(d, \"filename\", None),\n",
    "                    \"doctags\": doctags,\n",
    "                    \"isActive\": getattr(d, \"isActive\", True),\n",
    "                    \"version\": getattr(d, \"version\", None),\n",
    "                    \"createdat\": getattr(d, \"createdat\", current_nz_datetime),\n",
    "                    \"updatedat\": getattr(d, \"updatedat\", None),\n",
    "                })\n",
    "\n",
    "            async with conn.begin():\n",
    "                await insert_chunk_batch(conn, rows)"
   ]
  },
  {
   "cell_type": "code",
   "execution_count": null,
   "id": "536e9b29",
   "metadata": {},
   "outputs": [],
   "source": []
  }
 ],
 "metadata": {
  "kernelspec": {
   "display_name": "retriever-techniques-py3.12",
   "language": "python",
   "name": "python3"
  },
  "language_info": {
   "codemirror_mode": {
    "name": "ipython",
    "version": 3
   },
   "file_extension": ".py",
   "mimetype": "text/x-python",
   "name": "python",
   "nbconvert_exporter": "python",
   "pygments_lexer": "ipython3",
   "version": "3.12.10"
  }
 },
 "nbformat": 4,
 "nbformat_minor": 5
}
