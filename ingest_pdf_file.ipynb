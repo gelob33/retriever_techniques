{
 "cells": [
  {
   "cell_type": "code",
   "execution_count": 1,
   "id": "11509b2e",
   "metadata": {},
   "outputs": [
    {
     "name": "stderr",
     "output_type": "stream",
     "text": [
      "c:\\Users\\aibag\\git_repo\\retriever_techniques\\.venv\\Lib\\site-packages\\tqdm\\auto.py:21: TqdmWarning: IProgress not found. Please update jupyter and ipywidgets. See https://ipywidgets.readthedocs.io/en/stable/user_install.html\n",
      "  from .autonotebook import tqdm as notebook_tqdm\n"
     ]
    }
   ],
   "source": [
    "import os\n",
    "from langchain_pymupdf4llm import PyMuPDF4LLMLoader\n",
    "from langchain.text_splitter import MarkdownHeaderTextSplitter, RecursiveCharacterTextSplitter\n",
    "from langchain_core.documents import Document\n",
    "from langchain_core.prompts import ChatPromptTemplate\n",
    "from ollama import AsyncClient\n",
    "from typing import List, Sequence, Any\n",
    "from db.db_connection_pool_using_pycopg2 import get_connection, release_connection, close_pool\n",
    "from db.db_connection_pool import get_engine, get_conn\n",
    "from pydantic import BaseModel, Field\n",
    "from typing import List, Optional, Dict\n",
    "from db.schema import Document_Chunk\n",
    "from openai import OpenAI\n",
    "from datetime import datetime\n",
    "from zoneinfo import ZoneInfo\n",
    "import requests\n",
    "import logging\n",
    "import asyncio\n",
    "import aiohttp\n",
    "from sqlalchemy import text\n",
    "from fastembed import TextEmbedding\n",
    "from dotenv import load_dotenv\n",
    "from tqdm import tqdm\n",
    "import json "
   ]
  },
  {
   "cell_type": "code",
   "execution_count": 2,
   "id": "7bf06d4e",
   "metadata": {},
   "outputs": [
    {
     "data": {
      "text/plain": [
       "True"
      ]
     },
     "execution_count": 2,
     "metadata": {},
     "output_type": "execute_result"
    }
   ],
   "source": [
    "load_dotenv(override=True)"
   ]
  },
  {
   "cell_type": "code",
   "execution_count": 3,
   "id": "2c9aa979",
   "metadata": {},
   "outputs": [],
   "source": [
    "# convert pdf to markdown\n",
    "# https://pymupdf.readthedocs.io/en/latest/pymupdf4llm/api.html#pymupdf4llm-api\n",
    "FOLDER_PATH = r\"C:\\Users\\aibag\\git_repo\\policy_wording\"\n",
    "\n",
    "FILE_NAME = \"state-home-comprehensive-contents-comprehensive-insurance-policy-wording-si6995-2-1224.PDF\"\n"
   ]
  },
  {
   "cell_type": "code",
   "execution_count": 4,
   "id": "176b1226",
   "metadata": {},
   "outputs": [],
   "source": [
    "logging.basicConfig(\n",
    "    level=logging.INFO,\n",
    "    format=\"%(asctime)s [%(levelname)s] %(name)s: %(message)s\"\n",
    ")\n",
    "\n",
    "logger = logging.getLogger(__name__)\n",
    "\n",
    "# Suppress httpx logging to prevent it from breaking the progress bar\n",
    "logging.getLogger(\"httpx\").setLevel(logging.WARNING)\n",
    "\n",
    "current_nz_datetime = datetime.now()\n"
   ]
  },
  {
   "cell_type": "markdown",
   "id": "538c17a6",
   "metadata": {},
   "source": [
    "#### Ingest"
   ]
  },
  {
   "cell_type": "code",
   "execution_count": 5,
   "id": "28c1480a",
   "metadata": {},
   "outputs": [
    {
     "name": "stderr",
     "output_type": "stream",
     "text": [
      "2025-10-14 20:54:53,831 [INFO] __main__: Processing file: C:\\Users\\aibag\\git_repo\\policy_wording\\state-home-comprehensive-contents-comprehensive-insurance-policy-wording-si6995-2-1224.PDF\n",
      "2025-10-14 20:55:02,675 [INFO] __main__: Successfully processed file: state-home-comprehensive-contents-comprehensive-insurance-policy-wording-si6995-2-1224.PDF; Total Pages: 61\n"
     ]
    }
   ],
   "source": [
    "# function to load pdf file and convert a pdf file to a markdown file\n",
    "async def load_pdf_file(filepath:str, filename:str, mode:str =\"single\") -> List[Document]:\n",
    "\n",
    "    full_path = os.path.join(filepath, filename)\n",
    "    logger.info(f\"Processing file: {full_path}\")\n",
    "\n",
    "    if not os.path.exists(full_path):\n",
    "        raise FileNotFoundError(f\"File not found: {full_path}\")\n",
    "\n",
    "    if not filename.lower().strip().endswith(\".pdf\"):\n",
    "        raise TypeError (\"Invalid File Type; only PDFs are allowed.\")\n",
    "\n",
    "    # custom pages_delimiter to identify where are ends of pages in single mode \n",
    "    # page = load each page as a Document object; single = load entire PDF as a single Document object\n",
    "    doc_loader = PyMuPDF4LLMLoader(full_path \n",
    "                                   ,mode=mode\n",
    "                                   ,pages_delimiter=\"<<-- PAGE BREAK -->>\\n\\n\"\n",
    "                                   ,table_strategy=\"lines_strict\" # lines, text, lines_strict, lines_strict is default\n",
    "                                   #,page_separators=True\n",
    "                                  )\n",
    "                            \n",
    "    # lazy loading\n",
    "    docs = []\n",
    "    async for doc in doc_loader.alazy_load():\n",
    "        docs.append(doc)\n",
    "\n",
    "    logger.info(f\"Successfully processed file: {filename}; Total Pages: {docs[0].metadata[\"total_pages\"]}\")\n",
    "\n",
    "    return docs\n",
    "\n",
    "doc_obj =  await load_pdf_file(FOLDER_PATH, FILE_NAME, mode=\"single\")\n"
   ]
  },
  {
   "cell_type": "markdown",
   "id": "9241ae50",
   "metadata": {},
   "source": [
    "#### Chunking"
   ]
  },
  {
   "cell_type": "code",
   "execution_count": 6,
   "id": "855a013d",
   "metadata": {},
   "outputs": [],
   "source": [
    "# functions to chunk/split a markdown file into chunks\n",
    "def chunk_header_splitter(doc_contents)->list[Document]:\n",
    "\n",
    "    headers_to_split_on = [\n",
    "        (\"#\", \"Header 1\"),\n",
    "        (\"##\", \"Header 2\"),\n",
    "        (\"###\", \"Header 3\"),\n",
    "        ('####', \"Header 4\"),\n",
    "        ('#####', \"Header 5\"),\n",
    "        ('######', \"Header 6\"),\n",
    "        ('#######', \"Header 7\")\n",
    "    ]\n",
    "\n",
    "    markdown_splitter = MarkdownHeaderTextSplitter(headers_to_split_on, strip_headers=False)\n",
    "\n",
    "    return markdown_splitter.split_text(doc_contents)\n",
    "\n",
    "def chunk_header_recursivesplitter(doc_contents)->list:\n",
    "    text_splitter = RecursiveCharacterTextSplitter(\n",
    "        separators=[\". \", \"! \", \"? \", \"\\n\\n\", \"\\n\", \" \", \"\"],\n",
    "        chunk_size=2000,\n",
    "        chunk_overlap=200,\n",
    "    )\n",
    "    chunks = text_splitter.split_text(doc_contents)\n",
    "    return chunks\n",
    "\n",
    "#print(chunk_header_splitter(doc_obj[0].page_content))\n",
    "#print(chunk_header_recursivesplitter(doc[0].page_content))"
   ]
  },
  {
   "cell_type": "code",
   "execution_count": 7,
   "id": "a90ed7c9",
   "metadata": {},
   "outputs": [],
   "source": [
    "# model of the vector db\n",
    "class DocumentChunk(BaseModel):\n",
    "    embedding: List[float]\n",
    "    chunk_text: str\n",
    "    metadata: Optional[Dict[str, str]] = Field(default_factory=dict)\n",
    "    file_name: str\n",
    "    tags: Optional[List[str]] = Field(default_factory=list)\n",
    "    isActive: bool = Field(default=False)\n",
    "    chunk_enrichment: str = None\n",
    "    version: Optional[str] = None\n",
    "    created_at: Optional[datetime] = None\n",
    "    updated_at: Optional[datetime] = None\n",
    "\n",
    "# model for the llm enrichment output\n",
    "class ChunkEnrichment(BaseModel):\n",
    "    chunk_summary: str\n",
    "    hypotetical_questions: list[str]\n",
    "    has_table: bool = Field(default=False)\n",
    "    table_summary: Optional[str] = None"
   ]
  },
  {
   "cell_type": "code",
   "execution_count": 8,
   "id": "5121ba2f",
   "metadata": {},
   "outputs": [
    {
     "name": "stderr",
     "output_type": "stream",
     "text": [
      "2025-10-14 20:55:02,730 [INFO] __main__: Chunk Size for document 'state-home-comprehensive-contents-comprehensive-insurance-policy-wording-si6995-2-1224.PDF': 135\n"
     ]
    }
   ],
   "source": [
    "def chunk_document(doc_obj)->list[str]:\n",
    "\n",
    "    # get metadata from the doc object \n",
    "    source_path = doc_obj[0].metadata.get(\"source\", \"\")\n",
    "    file_name = source_path.split(\"\\\\\")[-1] if source_path else \"unknown\"\n",
    "\n",
    "    doc_metadata = {\n",
    "        \"source\"        : doc_obj[0].metadata.get(\"source\"),\n",
    "        \"file_name\"     : file_name,\n",
    "        \"total_pages\"   : str(doc_obj[0].metadata.get(\"total_pages\")),\n",
    "        \"creation_date\" : doc_obj[0].metadata.get(\"creationdate\"),\n",
    "    }\n",
    "\n",
    "    try:\n",
    "        chunks = chunk_header_splitter(doc_obj[0].page_content)\n",
    "        logger.info(f\"Chunk Size for document '{file_name}': {len(chunks)}\")\n",
    "    except Exception as e:\n",
    "        logger.error(f\"Call to chunk_header_splitter failed: {e}\")    \n",
    "\n",
    "    doc_chunks_list = []\n",
    "\n",
    "    for chunk in chunks:\n",
    "\n",
    "        # skip pages that only have 30 char or less\n",
    "        if len(chunk.page_content) < 30: \n",
    "            continue \n",
    "\n",
    "        # additional metadata \n",
    "        chunk_metadata = doc_metadata.copy()\n",
    "\n",
    "        header_key, header_value = next(iter(chunk.metadata.items()), (None, None))\n",
    "\n",
    "        chunk_metadata[\"header_key\"] = header_key \n",
    "        chunk_metadata[\"header_value\"] = header_value.replace(\"*\",\"\").replace(\"#\",\"\")\n",
    "\n",
    "        # create an instance of DocumentChunk\n",
    "        doc_chunk = DocumentChunk(\n",
    "            embedding = [],\n",
    "            chunk_text = chunk.page_content,\n",
    "            metadata = chunk_metadata,\n",
    "            file_name = file_name,\n",
    "            isActive = True,\n",
    "            chunk_enrichment = \"\",\n",
    "            version = \"1\",\n",
    "            tags = [\"Home\", \"State\"],\n",
    "            created_at = current_nz_datetime,\n",
    "            updated_at= current_nz_datetime,\n",
    "        )\n",
    "\n",
    "        doc_chunks_list.append(doc_chunk)\n",
    "\n",
    "    return doc_chunks_list\n",
    "\n",
    "doc_chunks = chunk_document(doc_obj)\n",
    "#print(chunk_document(doc_obj))"
   ]
  },
  {
   "cell_type": "markdown",
   "id": "8fd08809",
   "metadata": {},
   "source": [
    "#### Enrich Chunks"
   ]
  },
  {
   "cell_type": "code",
   "execution_count": 9,
   "id": "156db80d",
   "metadata": {},
   "outputs": [],
   "source": [
    "# enrich each chunks \n",
    "# https://www.anthropic.com/engineering/contextual-retrieval\n",
    "enrichment_system_prompt = ChatPromptTemplate.from_template(\"\"\"\n",
    "You are an expert general insurance underwriting product manager.  \n",
    "You will be given a document and a chunk of text from the document:\n",
    "\n",
    "Please give a short context to situate this chunk within the overall document for\n",
    "the purposes of improving search retrieval of the chunk.\n",
    "\n",
    "ONLY IF the chunk includes a table where you will provide a summary of the table.\n",
    "\n",
    "Also provide 3 to 5 hypotetical questions that the chunk will able to answer.\n",
    "\n",
    "Answer only with the succinct context and a list of hypotetical questions, nothing else. \n",
    "\n",
    "Here's the document:\n",
    "{document_text}\n",
    "\"\"\")\n",
    "\n",
    "enrichment_user_prompt = ChatPromptTemplate.from_template(\"\"\"\n",
    "Here's the chunk:\n",
    "{chunk_text}\n",
    "\"\"\")\n"
   ]
  },
  {
   "cell_type": "code",
   "execution_count": 10,
   "id": "6a282cc1",
   "metadata": {},
   "outputs": [],
   "source": [
    "# invoke - local lm studio llm model\n",
    "def invoke_llm_using_openai(system_prompt, query_prompt):\n",
    "    client = OpenAI(base_url=\"http://localhost:1234/v1\", api_key=\"lmstudio\")\n",
    "\n",
    "    response = client.chat.completions.parse(\n",
    "        model= \"google/gemma-3-4b\",  \n",
    "        messages=[\n",
    "            {\"role\": \"system\", \"content\": system_prompt},\n",
    "            {\"role\": \"user\", \"content\": query_prompt}\n",
    "        ],\n",
    "        temperature=0.0,\n",
    "        max_tokens=500,\n",
    "        top_p=0.9,\n",
    "        response_format = ChunkEnrichment,\n",
    "    )\n",
    "\n",
    "\n",
    "    #return response.choices[0].message.content\n",
    "    return response.choices[0].message.parsed\n"
   ]
  },
  {
   "cell_type": "code",
   "execution_count": 11,
   "id": "9bd1e939",
   "metadata": {},
   "outputs": [],
   "source": [
    "# async invoke - local lm studio llm model\n",
    "async def ainvoke_llm_api_generate(prompt):\n",
    "    async with aiohttp.ClientSession() as session:\n",
    "        async with session.post(\n",
    "            \"http://localhost:11434/api/generate\",\n",
    "\n",
    "            json={\n",
    "                \"model\": \"gemma3:4b\",\n",
    "                \"prompt\": prompt,\n",
    "                \"stream\": False,\n",
    "                \"temperature\": 0,\n",
    "                \"top_p\": 0.90,\n",
    "            }\n",
    "        ) as response:\n",
    "            resp_json = await response.json()\n",
    "            return resp_json[\"response\"]"
   ]
  },
  {
   "cell_type": "code",
   "execution_count": 12,
   "id": "01ab7a99",
   "metadata": {},
   "outputs": [],
   "source": [
    "# Using Ollama Model\n",
    "# https://github.com/ollama/ollama-python\n",
    "async def invokeOllamaModel(system_prompt, query_prompt, formatModel):\n",
    "    model='gemma3:4b'\n",
    "    messages=[\n",
    "        {\"role\": \"system\", \"content\": system_prompt},\n",
    "        {\"role\": \"user\", \"content\": query_prompt}\n",
    "    ]\n",
    "    response = await AsyncClient().chat(model=model, messages=messages, format=formatModel.model_json_schema())\n",
    "    response_text = formatModel.model_validate_json(response.message.content)\n",
    "    return response_text\n"
   ]
  },
  {
   "cell_type": "code",
   "execution_count": 13,
   "id": "8771349e",
   "metadata": {},
   "outputs": [
    {
     "name": "stdout",
     "output_type": "stream",
     "text": [
      "chunk_summary='This is an introductory paragraph from State Insurance, thanking the customer and explaining the importance of reading the policy wording and schedule. It emphasizes their usefulness for future claims.' hypotetical_questions=[\"What does 'policy schedule' refer to?\", 'Why is it important to keep these documents?', 'What happens if I need to make a claim?'] has_table=False table_summary=None\n"
     ]
    }
   ],
   "source": [
    "system_prompt = enrichment_system_prompt.format(document_text=doc_obj[0].page_content)\n",
    "query_prompt = enrichment_user_prompt.format(chunk_text=doc_chunks[0].chunk_text)\n",
    "\n",
    "response = await invokeOllamaModel(system_prompt, query_prompt, ChunkEnrichment)\n",
    "print(response)"
   ]
  },
  {
   "cell_type": "markdown",
   "id": "67dcabd2",
   "metadata": {},
   "source": [
    "#### Chunk Enrichment and Embedding"
   ]
  },
  {
   "cell_type": "code",
   "execution_count": 14,
   "id": "2b4732da",
   "metadata": {},
   "outputs": [],
   "source": [
    "embedding_model = TextEmbedding(model_name=\"BAAI/bge-base-en-v1.5\")  \n",
    "\n",
    "def invoke_embedding(chunk_text):\n",
    "    embeddings = embedding_model.embed(chunk_text)\n",
    "    # TextEmbedding.embed returns a generator so I used next() \n",
    "    return next(embeddings) "
   ]
  },
  {
   "cell_type": "code",
   "execution_count": 15,
   "id": "a2a1a827",
   "metadata": {},
   "outputs": [
    {
     "name": "stderr",
     "output_type": "stream",
     "text": [
      "                                                                 \r"
     ]
    }
   ],
   "source": [
    "# Progress bar for chunk enrichment within the current file\n",
    "system_prompt = enrichment_system_prompt.format(document_text = doc_obj[0].page_content)\n",
    "\n",
    "with tqdm(total=len(doc_chunks), desc=f\"Enriching Chunks\", leave=False) as pbar_chunks:\n",
    "    for idx, chunk in enumerate(doc_chunks):\n",
    "        \n",
    "        # enrich chunk using LLM\n",
    "        query_prompt =  enrichment_user_prompt.format(chunk_text = chunk.chunk_text)\n",
    "        enriched_text = await invokeOllamaModel(system_prompt, query_prompt, formatModel=ChunkEnrichment)\n",
    "\n",
    "        enriched_parts = []\n",
    "        if enriched_text:\n",
    "            # pre-pend to the chunk:\n",
    "            enriched_parts.append(f\"Chunk Summary: {enriched_text.chunk_summary}\\n\")\n",
    "            enriched_parts.append(f\"Questions this chunk may answer: {\"\\n\".join(f\"- {q}\" for q in enriched_text.hypotetical_questions)}\\n\")\n",
    "             \n",
    "            if enriched_text.has_table and enriched_text.table_summary:\n",
    "                enriched_parts.append(f\"Table Summary: {enriched_text.table_summary}\\n\")\n",
    "        else:\n",
    "            logger.warning(f\"Doc: {chunk.file_name} Chunk: {idx} failed enrichment.\")\n",
    "\n",
    "        enriched_parts.append(f\"Chunk Text:\\n{chunk.chunk_text}\")\n",
    "\n",
    "        enriched_chunk = \"\\n\".join(enriched_parts)\n",
    "\n",
    "        # check if enriched_chunk is not empty\n",
    "        if not enriched_chunk or len(enriched_chunk.strip()) == 0:\n",
    "            logger.warning(f\"Chunk {idx} has no text to embed. Chunk: {chunk}\")\n",
    "            break\n",
    "\n",
    "        # embed enriched_chunk\n",
    "        embedded_chunk = invoke_embedding(enriched_chunk)\n",
    "        if len(embedded_chunk) == 0:\n",
    "            logger.warning(f\"Call to embedding failed: {embedded_chunk}\")\n",
    "            break\n",
    "\n",
    "        # write to the DocumentChunk object\n",
    "        if embedded_chunk is not None and len(embedded_chunk) > 0:\n",
    "            chunk.embedding = embedded_chunk\n",
    "\n",
    "        if enriched_chunk:\n",
    "            chunk.chunk_enrichment = enriched_chunk            \n",
    "             \n",
    "        # Update chunk-level progress bar\n",
    "        pbar_chunks.update(1)\n",
    "\n",
    "        if idx > 5: break"
   ]
  },
  {
   "cell_type": "code",
   "execution_count": 16,
   "id": "bb6465c8",
   "metadata": {},
   "outputs": [
    {
     "data": {
      "text/plain": [
       "'Chunk Summary: This section explains how the policy documents will be delivered and outlines the recipient’s responsibility for maintaining accurate contact information.\\n\\nQuestions this chunk may answer: - What are the two delivery methods offered?\\n- How long after sending an email does the company consider the document received?\\n- What is the recipient’s responsibility regarding their contact details?\\n- What should the recipient do if their contact details change?\\n\\nChunk Text:\\n###### **Receiving your policy documents**  \\nYou may choose to receive your policy documents by email or post:  \\n- If we send your policy documents to you by email, we will send them to the person and email address you  \\nnominated for receiving policy documents. Any policy documents we send to this email address will be  \\nconsidered to have been received by you 24 hours after we send them.  \\n- If we send your policy documents to you by post, we will send them to the person and mailing address you  \\nnominated for receiving policy documents.  \\nYou are responsible for making sure the person and email or mailing address we have for your policy  \\ndocuments are correct. If any of these contact details change, you must let us know as soon as possible. We  \\nwill consider you have received all policy documents we send to the person and email or mailing address you  \\nnominated, even if those details are no longer correct.'"
      ]
     },
     "execution_count": 16,
     "metadata": {},
     "output_type": "execute_result"
    }
   ],
   "source": [
    "doc_chunks[5].chunk_enrichment"
   ]
  },
  {
   "cell_type": "code",
   "execution_count": 17,
   "id": "ec190984",
   "metadata": {},
   "outputs": [],
   "source": [
    "# Using SQLALCHEMY\n",
    "# create the engine\n",
    "db_engine = get_engine()"
   ]
  },
  {
   "cell_type": "code",
   "execution_count": 20,
   "id": "aba46aef",
   "metadata": {},
   "outputs": [
    {
     "name": "stdout",
     "output_type": "stream",
     "text": [
      "2025-10-14 20:56:56,919 INFO sqlalchemy.engine.Engine select pg_catalog.version()\n"
     ]
    },
    {
     "name": "stderr",
     "output_type": "stream",
     "text": [
      "2025-10-14 20:56:56,919 [INFO] sqlalchemy.engine.Engine: select pg_catalog.version()\n"
     ]
    },
    {
     "name": "stdout",
     "output_type": "stream",
     "text": [
      "2025-10-14 20:56:56,921 INFO sqlalchemy.engine.Engine [raw sql] ()\n"
     ]
    },
    {
     "name": "stderr",
     "output_type": "stream",
     "text": [
      "2025-10-14 20:56:56,921 [INFO] sqlalchemy.engine.Engine: [raw sql] ()\n"
     ]
    },
    {
     "name": "stdout",
     "output_type": "stream",
     "text": [
      "2025-10-14 20:56:56,925 INFO sqlalchemy.engine.Engine select current_schema()\n"
     ]
    },
    {
     "name": "stderr",
     "output_type": "stream",
     "text": [
      "2025-10-14 20:56:56,925 [INFO] sqlalchemy.engine.Engine: select current_schema()\n"
     ]
    },
    {
     "name": "stdout",
     "output_type": "stream",
     "text": [
      "2025-10-14 20:56:56,926 INFO sqlalchemy.engine.Engine [raw sql] ()\n"
     ]
    },
    {
     "name": "stderr",
     "output_type": "stream",
     "text": [
      "2025-10-14 20:56:56,926 [INFO] sqlalchemy.engine.Engine: [raw sql] ()\n"
     ]
    },
    {
     "name": "stdout",
     "output_type": "stream",
     "text": [
      "2025-10-14 20:56:56,932 INFO sqlalchemy.engine.Engine show standard_conforming_strings\n"
     ]
    },
    {
     "name": "stderr",
     "output_type": "stream",
     "text": [
      "2025-10-14 20:56:56,932 [INFO] sqlalchemy.engine.Engine: show standard_conforming_strings\n"
     ]
    },
    {
     "name": "stdout",
     "output_type": "stream",
     "text": [
      "2025-10-14 20:56:56,933 INFO sqlalchemy.engine.Engine [raw sql] ()\n"
     ]
    },
    {
     "name": "stderr",
     "output_type": "stream",
     "text": [
      "2025-10-14 20:56:56,933 [INFO] sqlalchemy.engine.Engine: [raw sql] ()\n",
      "2025-10-14 20:56:56,937 [INFO] db.db_connection_pool: DB connection opened\n"
     ]
    },
    {
     "name": "stdout",
     "output_type": "stream",
     "text": [
      "2025-10-14 20:56:56,939 INFO sqlalchemy.engine.Engine BEGIN (implicit)\n"
     ]
    },
    {
     "name": "stderr",
     "output_type": "stream",
     "text": [
      "2025-10-14 20:56:56,939 [INFO] sqlalchemy.engine.Engine: BEGIN (implicit)\n"
     ]
    },
    {
     "name": "stdout",
     "output_type": "stream",
     "text": [
      "2025-10-14 20:56:56,940 INFO sqlalchemy.engine.Engine SELECT 1\n"
     ]
    },
    {
     "name": "stderr",
     "output_type": "stream",
     "text": [
      "2025-10-14 20:56:56,940 [INFO] sqlalchemy.engine.Engine: SELECT 1\n"
     ]
    },
    {
     "name": "stdout",
     "output_type": "stream",
     "text": [
      "2025-10-14 20:56:56,940 INFO sqlalchemy.engine.Engine [generated in 0.00306s] ()\n"
     ]
    },
    {
     "name": "stderr",
     "output_type": "stream",
     "text": [
      "2025-10-14 20:56:56,940 [INFO] sqlalchemy.engine.Engine: [generated in 0.00306s] ()\n"
     ]
    },
    {
     "name": "stdout",
     "output_type": "stream",
     "text": [
      "1\n",
      "2025-10-14 20:56:56,946 INFO sqlalchemy.engine.Engine ROLLBACK\n"
     ]
    },
    {
     "name": "stderr",
     "output_type": "stream",
     "text": [
      "2025-10-14 20:56:56,946 [INFO] sqlalchemy.engine.Engine: ROLLBACK\n",
      "2025-10-14 20:56:56,949 [INFO] db.db_connection_pool: DB connection closed\n"
     ]
    }
   ],
   "source": [
    "# test\n",
    "async with get_conn(db_engine) as conn:\n",
    "    stmt = text(\"SELECT 1\")\n",
    "    result = await conn.execute(stmt)\n",
    "    print(result.scalar())\n"
   ]
  },
  {
   "cell_type": "code",
   "execution_count": 21,
   "id": "1edb4422",
   "metadata": {},
   "outputs": [
    {
     "name": "stderr",
     "output_type": "stream",
     "text": [
      "2025-10-14 20:57:02,832 [INFO] db.db_connection_pool: DB connection opened\n"
     ]
    },
    {
     "name": "stdout",
     "output_type": "stream",
     "text": [
      "2025-10-14 20:57:02,832 INFO sqlalchemy.engine.Engine BEGIN (implicit)\n"
     ]
    },
    {
     "name": "stderr",
     "output_type": "stream",
     "text": [
      "2025-10-14 20:57:02,832 [INFO] sqlalchemy.engine.Engine: BEGIN (implicit)\n"
     ]
    },
    {
     "name": "stdout",
     "output_type": "stream",
     "text": [
      "2025-10-14 20:57:02,833 INFO sqlalchemy.engine.Engine SET search_path TO public, document;\n"
     ]
    },
    {
     "name": "stderr",
     "output_type": "stream",
     "text": [
      "2025-10-14 20:57:02,833 [INFO] sqlalchemy.engine.Engine: SET search_path TO public, document;\n"
     ]
    },
    {
     "name": "stdout",
     "output_type": "stream",
     "text": [
      "2025-10-14 20:57:02,833 INFO sqlalchemy.engine.Engine [generated in 0.00058s] ()\n"
     ]
    },
    {
     "name": "stderr",
     "output_type": "stream",
     "text": [
      "2025-10-14 20:57:02,833 [INFO] sqlalchemy.engine.Engine: [generated in 0.00058s] ()\n"
     ]
    },
    {
     "name": "stdout",
     "output_type": "stream",
     "text": [
      "2025-10-14 20:57:02,837 INFO sqlalchemy.engine.Engine CREATE SCHEMA IF NOT EXISTS document;\n"
     ]
    },
    {
     "name": "stderr",
     "output_type": "stream",
     "text": [
      "2025-10-14 20:57:02,837 [INFO] sqlalchemy.engine.Engine: CREATE SCHEMA IF NOT EXISTS document;\n"
     ]
    },
    {
     "name": "stdout",
     "output_type": "stream",
     "text": [
      "2025-10-14 20:57:02,838 INFO sqlalchemy.engine.Engine [generated in 0.00177s] ()\n"
     ]
    },
    {
     "name": "stderr",
     "output_type": "stream",
     "text": [
      "2025-10-14 20:57:02,838 [INFO] sqlalchemy.engine.Engine: [generated in 0.00177s] ()\n"
     ]
    },
    {
     "name": "stdout",
     "output_type": "stream",
     "text": [
      "2025-10-14 20:57:02,840 INFO sqlalchemy.engine.Engine \n",
      "            CREATE TABLE IF NOT EXISTS document.document_chunk (\n",
      "                id              UUID PRIMARY KEY DEFAULT gen_random_uuid(),\n",
      "                embedding       VECTOR(768),\n",
      "                chunk_text      TEXT,\n",
      "                doc_metadata    JSONB,\n",
      "                file_name       TEXT,\n",
      "                tags            TEXT[],\n",
      "                isActive        BOOLEAN,\n",
      "                version         TEXT,\n",
      "                created_at      TIMESTAMP DEFAULT CURRENT_TIMESTAMP,\n",
      "                updated_at      TIMESTAMP\n",
      "            );\n",
      "        \n"
     ]
    },
    {
     "name": "stderr",
     "output_type": "stream",
     "text": [
      "2025-10-14 20:57:02,840 [INFO] sqlalchemy.engine.Engine: \n",
      "            CREATE TABLE IF NOT EXISTS document.document_chunk (\n",
      "                id              UUID PRIMARY KEY DEFAULT gen_random_uuid(),\n",
      "                embedding       VECTOR(768),\n",
      "                chunk_text      TEXT,\n",
      "                doc_metadata    JSONB,\n",
      "                file_name       TEXT,\n",
      "                tags            TEXT[],\n",
      "                isActive        BOOLEAN,\n",
      "                version         TEXT,\n",
      "                created_at      TIMESTAMP DEFAULT CURRENT_TIMESTAMP,\n",
      "                updated_at      TIMESTAMP\n",
      "            );\n",
      "        \n"
     ]
    },
    {
     "name": "stdout",
     "output_type": "stream",
     "text": [
      "2025-10-14 20:57:02,842 INFO sqlalchemy.engine.Engine [generated in 0.00093s] ()\n"
     ]
    },
    {
     "name": "stderr",
     "output_type": "stream",
     "text": [
      "2025-10-14 20:57:02,842 [INFO] sqlalchemy.engine.Engine: [generated in 0.00093s] ()\n"
     ]
    },
    {
     "name": "stdout",
     "output_type": "stream",
     "text": [
      "2025-10-14 20:57:02,844 INFO sqlalchemy.engine.Engine \n",
      "            CREATE INDEX IF NOT EXISTS documents_embedding_idx\n",
      "            ON document.document_chunk\n",
      "            USING ivfflat (embedding vector_l2_ops)\n",
      "            WITH (lists = 100);\n",
      "        \n"
     ]
    },
    {
     "name": "stderr",
     "output_type": "stream",
     "text": [
      "2025-10-14 20:57:02,844 [INFO] sqlalchemy.engine.Engine: \n",
      "            CREATE INDEX IF NOT EXISTS documents_embedding_idx\n",
      "            ON document.document_chunk\n",
      "            USING ivfflat (embedding vector_l2_ops)\n",
      "            WITH (lists = 100);\n",
      "        \n"
     ]
    },
    {
     "name": "stdout",
     "output_type": "stream",
     "text": [
      "2025-10-14 20:57:02,845 INFO sqlalchemy.engine.Engine [generated in 0.00093s] ()\n"
     ]
    },
    {
     "name": "stderr",
     "output_type": "stream",
     "text": [
      "2025-10-14 20:57:02,845 [INFO] sqlalchemy.engine.Engine: [generated in 0.00093s] ()\n"
     ]
    },
    {
     "name": "stdout",
     "output_type": "stream",
     "text": [
      "2025-10-14 20:57:02,864 INFO sqlalchemy.engine.Engine COMMIT\n"
     ]
    },
    {
     "name": "stderr",
     "output_type": "stream",
     "text": [
      "2025-10-14 20:57:02,864 [INFO] sqlalchemy.engine.Engine: COMMIT\n",
      "2025-10-14 20:57:02,867 [INFO] __main__: Document schema initialisation finished\n",
      "2025-10-14 20:57:02,868 [INFO] db.db_connection_pool: DB connection closed\n"
     ]
    }
   ],
   "source": [
    "# create schema and tables using sqlalchemy\n",
    "async with get_conn(db_engine) as conn:\n",
    "    # You can wrap everything in an explicit transaction if you want\n",
    "    # an atomic create/commit block.\n",
    "    # the transaction is automatically committed when the block exits\n",
    "    async with conn.begin():   \n",
    "\n",
    "        await conn.execute(text(\"SET search_path TO public, document;\"))\n",
    "\n",
    "        # Create schema\n",
    "        await conn.execute(\n",
    "            text(\"CREATE SCHEMA IF NOT EXISTS document;\")\n",
    "        )\n",
    "\n",
    "        # Create table\n",
    "        create_table_sql = \"\"\"\n",
    "            CREATE TABLE IF NOT EXISTS document.document_chunk (\n",
    "                id              UUID PRIMARY KEY DEFAULT gen_random_uuid(),\n",
    "                embedding       VECTOR(768),\n",
    "                chunk_text      TEXT,\n",
    "                doc_metadata    JSONB,\n",
    "                file_name       TEXT,\n",
    "                tags            TEXT[],\n",
    "                isActive        BOOLEAN,\n",
    "                version         TEXT,\n",
    "                created_at      TIMESTAMP DEFAULT CURRENT_TIMESTAMP,\n",
    "                updated_at      TIMESTAMP\n",
    "            );\n",
    "        \"\"\"\n",
    "        await conn.execute(text(create_table_sql))\n",
    "\n",
    "        # Create table index\n",
    "        create_index_sql = \"\"\"\n",
    "            CREATE INDEX IF NOT EXISTS documents_embedding_idx\n",
    "            ON document.document_chunk\n",
    "            USING ivfflat (embedding vector_l2_ops)\n",
    "            WITH (lists = 100);\n",
    "        \"\"\"\n",
    "        await conn.execute(text(create_index_sql))\n",
    "\n",
    "    logger.info(\"Document schema initialisation finished\")"
   ]
  },
  {
   "cell_type": "code",
   "execution_count": 34,
   "id": "eb0d4020",
   "metadata": {},
   "outputs": [],
   "source": [
    "\n",
    "# Batch insert the doc chunks to the document_chunk table\n",
    "async def insert_chunk_batch(conn, rows: Sequence[Dict[str, Any]]):\n",
    "\n",
    "    insert_sql = \"\"\"\n",
    "    INSERT INTO document.document_chunk\n",
    "      (embedding, chunk_text, doc_metadata, file_name, tags, isActive, version, created_at, updated_at)\n",
    "    VALUES\n",
    "      (:embedding, :chunktext, :docmetadata, :filename, :tags, :isActive, :version, :createdat, :updatedat)\n",
    "    \"\"\"\n",
    "    await conn.execute(text(insert_sql), rows)\n",
    "\n",
    "\n",
    "async def persist_chunks(engine, doc_chunks: List[Any]):\n",
    "\n",
    "    async with get_conn(engine) as conn:\n",
    "\n",
    "        BATCH_SIZE = 5\n",
    "\n",
    "        for i in range(0, len(doc_chunks), BATCH_SIZE):\n",
    "\n",
    "            # slicing the docchunk list\n",
    "            insert_batch = doc_chunks[i:i+BATCH_SIZE]\n",
    "\n",
    "            insert_rows = []\n",
    "\n",
    "            for chunk in insert_batch:\n",
    "\n",
    "                # Convert embedding to string format for pgvector: \"[val1,val2,val3,...]\"\n",
    "                if hasattr(chunk.embedding, 'tolist'):\n",
    "                    embedding_str = str(chunk.embedding.tolist())\n",
    "                else:\n",
    "                    embedding_str = str(chunk.embedding) if isinstance(chunk.embedding, list) else chunk.embedding\n",
    "                \n",
    "                # Align columns as per DocumentChunkBase schema\n",
    "                insert_rows.append({\n",
    "                    \"embedding\":    embedding_str,\n",
    "                    \"chunktext\":    chunk.chunk_text,\n",
    "                    \"docmetadata\":  json.dumps(chunk.metadata or {}) if isinstance(chunk.metadata, dict) else chunk.metadata,\n",
    "                    \"filename\":     getattr(chunk, \"filename\", None),\n",
    "                    \"tags\":         getattr(chunk, \"tags\", None),\n",
    "                    \"isActive\":     getattr(chunk, \"isActive\", True),\n",
    "                    \"version\":      getattr(chunk, \"version\", None),\n",
    "                    \"createdat\":    getattr(chunk, \"created_at\", current_nz_datetime),\n",
    "                    \"updatedat\":    getattr(chunk, \"updated_at\", None),\n",
    "                })\n",
    "    \n",
    "                # wrap the sql statement to a transaction\n",
    "                async with conn.begin():\n",
    "                    await insert_chunk_batch(conn, insert_rows)\n",
    "\n",
    "    \n",
    "            break\n",
    "\n",
    "            # async with conn.begin():\n",
    "            #     await insert_chunk_batch(conn, insert_rows)"
   ]
  },
  {
   "cell_type": "code",
   "execution_count": 35,
   "id": "536e9b29",
   "metadata": {},
   "outputs": [
    {
     "name": "stderr",
     "output_type": "stream",
     "text": [
      "2025-10-14 21:10:09,731 [INFO] db.db_connection_pool: DB connection opened\n"
     ]
    },
    {
     "name": "stdout",
     "output_type": "stream",
     "text": [
      "2025-10-14 21:10:09,732 INFO sqlalchemy.engine.Engine BEGIN (implicit)\n"
     ]
    },
    {
     "name": "stderr",
     "output_type": "stream",
     "text": [
      "2025-10-14 21:10:09,732 [INFO] sqlalchemy.engine.Engine: BEGIN (implicit)\n"
     ]
    },
    {
     "name": "stdout",
     "output_type": "stream",
     "text": [
      "2025-10-14 21:10:09,735 INFO sqlalchemy.engine.Engine \n",
      "    INSERT INTO document.document_chunk\n",
      "      (embedding, chunk_text, doc_metadata, file_name, tags, isActive, version, created_at, updated_at)\n",
      "    VALUES\n",
      "      ($1, $2, $3, $4, $5, $6, $7, $8, $9)\n",
      "    \n"
     ]
    },
    {
     "name": "stderr",
     "output_type": "stream",
     "text": [
      "2025-10-14 21:10:09,735 [INFO] sqlalchemy.engine.Engine: \n",
      "    INSERT INTO document.document_chunk\n",
      "      (embedding, chunk_text, doc_metadata, file_name, tags, isActive, version, created_at, updated_at)\n",
      "    VALUES\n",
      "      ($1, $2, $3, $4, $5, $6, $7, $8, $9)\n",
      "    \n"
     ]
    },
    {
     "name": "stdout",
     "output_type": "stream",
     "text": [
      "2025-10-14 21:10:09,735 INFO sqlalchemy.engine.Engine [cached since 779.4s ago] ('[-0.0034308889880776405, -0.007139021530747414, 0.0031478696037083864, -0.00457066809758544, 0.08033902198076248, 0.05846758559346199, 0.016311163082 ... (16662 characters truncated) ... 0789836123585701, 0.008140179328620434, -0.025290774181485176, -0.01674243062734604, 0.048178769648075104, -0.04824037849903107, -0.0414017029106617]', '###### **Thank you for choosing State Insurance**  \\nThis policy wording, along with your policy schedule, contains all the information you need\\nto know about your insurance cover. Please read these carefully and keep them on hand as\\nyou will find them useful if you need to make a claim.', '{\"source\": \"C:\\\\\\\\Users\\\\\\\\aibag\\\\\\\\git_repo\\\\\\\\policy_wording\\\\\\\\state-home-comprehensive-contents-comprehensive-insurance-policy-wording-si6995-2-1 ... (118 characters truncated) ... total_pages\": \"61\", \"creation_date\": \"2024-12-02T10:18:24+13:00\", \"header_key\": \"Header 6\", \"header_value\": \"Thank you for choosing State Insurance\"}', None, ['Home', 'State'], True, '1', datetime.datetime(2025, 10, 14, 20, 54, 53, 823628), datetime.datetime(2025, 10, 14, 20, 54, 53, 823628))\n"
     ]
    },
    {
     "name": "stderr",
     "output_type": "stream",
     "text": [
      "2025-10-14 21:10:09,735 [INFO] sqlalchemy.engine.Engine: [cached since 779.4s ago] ('[-0.0034308889880776405, -0.007139021530747414, 0.0031478696037083864, -0.00457066809758544, 0.08033902198076248, 0.05846758559346199, 0.016311163082 ... (16662 characters truncated) ... 0789836123585701, 0.008140179328620434, -0.025290774181485176, -0.01674243062734604, 0.048178769648075104, -0.04824037849903107, -0.0414017029106617]', '###### **Thank you for choosing State Insurance**  \\nThis policy wording, along with your policy schedule, contains all the information you need\\nto know about your insurance cover. Please read these carefully and keep them on hand as\\nyou will find them useful if you need to make a claim.', '{\"source\": \"C:\\\\\\\\Users\\\\\\\\aibag\\\\\\\\git_repo\\\\\\\\policy_wording\\\\\\\\state-home-comprehensive-contents-comprehensive-insurance-policy-wording-si6995-2-1 ... (118 characters truncated) ... total_pages\": \"61\", \"creation_date\": \"2024-12-02T10:18:24+13:00\", \"header_key\": \"Header 6\", \"header_value\": \"Thank you for choosing State Insurance\"}', None, ['Home', 'State'], True, '1', datetime.datetime(2025, 10, 14, 20, 54, 53, 823628), datetime.datetime(2025, 10, 14, 20, 54, 53, 823628))\n"
     ]
    },
    {
     "name": "stdout",
     "output_type": "stream",
     "text": [
      "2025-10-14 21:10:09,783 INFO sqlalchemy.engine.Engine COMMIT\n"
     ]
    },
    {
     "name": "stderr",
     "output_type": "stream",
     "text": [
      "2025-10-14 21:10:09,783 [INFO] sqlalchemy.engine.Engine: COMMIT\n"
     ]
    },
    {
     "name": "stdout",
     "output_type": "stream",
     "text": [
      "2025-10-14 21:10:09,788 INFO sqlalchemy.engine.Engine BEGIN (implicit)\n"
     ]
    },
    {
     "name": "stderr",
     "output_type": "stream",
     "text": [
      "2025-10-14 21:10:09,788 [INFO] sqlalchemy.engine.Engine: BEGIN (implicit)\n"
     ]
    },
    {
     "name": "stdout",
     "output_type": "stream",
     "text": [
      "2025-10-14 21:10:09,789 INFO sqlalchemy.engine.Engine \n",
      "    INSERT INTO document.document_chunk\n",
      "      (embedding, chunk_text, doc_metadata, file_name, tags, isActive, version, created_at, updated_at)\n",
      "    VALUES\n",
      "      ($1, $2, $3, $4, $5, $6, $7, $8, $9)\n",
      "    \n"
     ]
    },
    {
     "name": "stderr",
     "output_type": "stream",
     "text": [
      "2025-10-14 21:10:09,789 [INFO] sqlalchemy.engine.Engine: \n",
      "    INSERT INTO document.document_chunk\n",
      "      (embedding, chunk_text, doc_metadata, file_name, tags, isActive, version, created_at, updated_at)\n",
      "    VALUES\n",
      "      ($1, $2, $3, $4, $5, $6, $7, $8, $9)\n",
      "    \n"
     ]
    },
    {
     "name": "stdout",
     "output_type": "stream",
     "text": [
      "2025-10-14 21:10:09,791 INFO sqlalchemy.engine.Engine [cached since 779.4s ago] [('[-0.0034308889880776405, -0.007139021530747414, 0.0031478696037083864, -0.00457066809758544, 0.08033902198076248, 0.05846758559346199, 0.016311163082 ... (16662 characters truncated) ... 0789836123585701, 0.008140179328620434, -0.025290774181485176, -0.01674243062734604, 0.048178769648075104, -0.04824037849903107, -0.0414017029106617]', '###### **Thank you for choosing State Insurance**  \\nThis policy wording, along with your policy schedule, contains all the information you need\\nto know about your insurance cover. Please read these carefully and keep them on hand as\\nyou will find them useful if you need to make a claim.', '{\"source\": \"C:\\\\\\\\Users\\\\\\\\aibag\\\\\\\\git_repo\\\\\\\\policy_wording\\\\\\\\state-home-comprehensive-contents-comprehensive-insurance-policy-wording-si6995-2-1 ... (118 characters truncated) ... total_pages\": \"61\", \"creation_date\": \"2024-12-02T10:18:24+13:00\", \"header_key\": \"Header 6\", \"header_value\": \"Thank you for choosing State Insurance\"}', None, ['Home', 'State'], True, '1', datetime.datetime(2025, 10, 14, 20, 54, 53, 823628), datetime.datetime(2025, 10, 14, 20, 54, 53, 823628)), ('[0.021638186648488045, 0.005479548126459122, 0.010142413899302483, -0.0116591090336442, 0.008330157026648521, 0.021700410172343254, 0.002716440241783 ... (16668 characters truncated) ... 508567184209824, 0.027051622048020363, -0.01338580809533596, -0.021762633696198463, 0.011371325701475143, -0.02154485136270523, -0.03353841230273247]', '###### **How to contact us**  \\nIn New Zealand, just call 0800 80 24 24. If you have any questions, need help, or want to\\n[make a claim, our contact ... (347 characters truncated) ... Mark quality award, independent  \\nproof we have achieved a high standard of plain language.  \\nPolicy wording SI6995/2 12/24  \\n<<-- PAGE BREAK -->>', '{\"source\": \"C:\\\\\\\\Users\\\\\\\\aibag\\\\\\\\git_repo\\\\\\\\policy_wording\\\\\\\\state-home-comprehensive-contents-comprehensive-insurance-policy-wording-si6995-2-1 ... (97 characters truncated) ... si6995-2-1224.PDF\", \"total_pages\": \"61\", \"creation_date\": \"2024-12-02T10:18:24+13:00\", \"header_key\": \"Header 6\", \"header_value\": \"How to contact us\"}', None, ['Home', 'State'], True, '1', datetime.datetime(2025, 10, 14, 20, 54, 53, 823628), datetime.datetime(2025, 10, 14, 20, 54, 53, 823628))]\n"
     ]
    },
    {
     "name": "stderr",
     "output_type": "stream",
     "text": [
      "2025-10-14 21:10:09,791 [INFO] sqlalchemy.engine.Engine: [cached since 779.4s ago] [('[-0.0034308889880776405, -0.007139021530747414, 0.0031478696037083864, -0.00457066809758544, 0.08033902198076248, 0.05846758559346199, 0.016311163082 ... (16662 characters truncated) ... 0789836123585701, 0.008140179328620434, -0.025290774181485176, -0.01674243062734604, 0.048178769648075104, -0.04824037849903107, -0.0414017029106617]', '###### **Thank you for choosing State Insurance**  \\nThis policy wording, along with your policy schedule, contains all the information you need\\nto know about your insurance cover. Please read these carefully and keep them on hand as\\nyou will find them useful if you need to make a claim.', '{\"source\": \"C:\\\\\\\\Users\\\\\\\\aibag\\\\\\\\git_repo\\\\\\\\policy_wording\\\\\\\\state-home-comprehensive-contents-comprehensive-insurance-policy-wording-si6995-2-1 ... (118 characters truncated) ... total_pages\": \"61\", \"creation_date\": \"2024-12-02T10:18:24+13:00\", \"header_key\": \"Header 6\", \"header_value\": \"Thank you for choosing State Insurance\"}', None, ['Home', 'State'], True, '1', datetime.datetime(2025, 10, 14, 20, 54, 53, 823628), datetime.datetime(2025, 10, 14, 20, 54, 53, 823628)), ('[0.021638186648488045, 0.005479548126459122, 0.010142413899302483, -0.0116591090336442, 0.008330157026648521, 0.021700410172343254, 0.002716440241783 ... (16668 characters truncated) ... 508567184209824, 0.027051622048020363, -0.01338580809533596, -0.021762633696198463, 0.011371325701475143, -0.02154485136270523, -0.03353841230273247]', '###### **How to contact us**  \\nIn New Zealand, just call 0800 80 24 24. If you have any questions, need help, or want to\\n[make a claim, our contact ... (347 characters truncated) ... Mark quality award, independent  \\nproof we have achieved a high standard of plain language.  \\nPolicy wording SI6995/2 12/24  \\n<<-- PAGE BREAK -->>', '{\"source\": \"C:\\\\\\\\Users\\\\\\\\aibag\\\\\\\\git_repo\\\\\\\\policy_wording\\\\\\\\state-home-comprehensive-contents-comprehensive-insurance-policy-wording-si6995-2-1 ... (97 characters truncated) ... si6995-2-1224.PDF\", \"total_pages\": \"61\", \"creation_date\": \"2024-12-02T10:18:24+13:00\", \"header_key\": \"Header 6\", \"header_value\": \"How to contact us\"}', None, ['Home', 'State'], True, '1', datetime.datetime(2025, 10, 14, 20, 54, 53, 823628), datetime.datetime(2025, 10, 14, 20, 54, 53, 823628))]\n"
     ]
    },
    {
     "name": "stdout",
     "output_type": "stream",
     "text": [
      "2025-10-14 21:10:09,838 INFO sqlalchemy.engine.Engine COMMIT\n"
     ]
    },
    {
     "name": "stderr",
     "output_type": "stream",
     "text": [
      "2025-10-14 21:10:09,838 [INFO] sqlalchemy.engine.Engine: COMMIT\n"
     ]
    },
    {
     "name": "stdout",
     "output_type": "stream",
     "text": [
      "2025-10-14 21:10:09,844 INFO sqlalchemy.engine.Engine BEGIN (implicit)\n"
     ]
    },
    {
     "name": "stderr",
     "output_type": "stream",
     "text": [
      "2025-10-14 21:10:09,844 [INFO] sqlalchemy.engine.Engine: BEGIN (implicit)\n"
     ]
    },
    {
     "name": "stdout",
     "output_type": "stream",
     "text": [
      "2025-10-14 21:10:09,846 INFO sqlalchemy.engine.Engine \n",
      "    INSERT INTO document.document_chunk\n",
      "      (embedding, chunk_text, doc_metadata, file_name, tags, isActive, version, created_at, updated_at)\n",
      "    VALUES\n",
      "      ($1, $2, $3, $4, $5, $6, $7, $8, $9)\n",
      "    \n"
     ]
    },
    {
     "name": "stderr",
     "output_type": "stream",
     "text": [
      "2025-10-14 21:10:09,846 [INFO] sqlalchemy.engine.Engine: \n",
      "    INSERT INTO document.document_chunk\n",
      "      (embedding, chunk_text, doc_metadata, file_name, tags, isActive, version, created_at, updated_at)\n",
      "    VALUES\n",
      "      ($1, $2, $3, $4, $5, $6, $7, $8, $9)\n",
      "    \n"
     ]
    },
    {
     "name": "stdout",
     "output_type": "stream",
     "text": [
      "2025-10-14 21:10:09,846 INFO sqlalchemy.engine.Engine [cached since 779.5s ago] [('[-0.0034308889880776405, -0.007139021530747414, 0.0031478696037083864, -0.00457066809758544, 0.08033902198076248, 0.05846758559346199, 0.016311163082 ... (16662 characters truncated) ... 0789836123585701, 0.008140179328620434, -0.025290774181485176, -0.01674243062734604, 0.048178769648075104, -0.04824037849903107, -0.0414017029106617]', '###### **Thank you for choosing State Insurance**  \\nThis policy wording, along with your policy schedule, contains all the information you need\\nto know about your insurance cover. Please read these carefully and keep them on hand as\\nyou will find them useful if you need to make a claim.', '{\"source\": \"C:\\\\\\\\Users\\\\\\\\aibag\\\\\\\\git_repo\\\\\\\\policy_wording\\\\\\\\state-home-comprehensive-contents-comprehensive-insurance-policy-wording-si6995-2-1 ... (118 characters truncated) ... total_pages\": \"61\", \"creation_date\": \"2024-12-02T10:18:24+13:00\", \"header_key\": \"Header 6\", \"header_value\": \"Thank you for choosing State Insurance\"}', None, ['Home', 'State'], True, '1', datetime.datetime(2025, 10, 14, 20, 54, 53, 823628), datetime.datetime(2025, 10, 14, 20, 54, 53, 823628)), ('[0.021638186648488045, 0.005479548126459122, 0.010142413899302483, -0.0116591090336442, 0.008330157026648521, 0.021700410172343254, 0.002716440241783 ... (16668 characters truncated) ... 508567184209824, 0.027051622048020363, -0.01338580809533596, -0.021762633696198463, 0.011371325701475143, -0.02154485136270523, -0.03353841230273247]', '###### **How to contact us**  \\nIn New Zealand, just call 0800 80 24 24. If you have any questions, need help, or want to\\n[make a claim, our contact ... (347 characters truncated) ... Mark quality award, independent  \\nproof we have achieved a high standard of plain language.  \\nPolicy wording SI6995/2 12/24  \\n<<-- PAGE BREAK -->>', '{\"source\": \"C:\\\\\\\\Users\\\\\\\\aibag\\\\\\\\git_repo\\\\\\\\policy_wording\\\\\\\\state-home-comprehensive-contents-comprehensive-insurance-policy-wording-si6995-2-1 ... (97 characters truncated) ... si6995-2-1224.PDF\", \"total_pages\": \"61\", \"creation_date\": \"2024-12-02T10:18:24+13:00\", \"header_key\": \"Header 6\", \"header_value\": \"How to contact us\"}', None, ['Home', 'State'], True, '1', datetime.datetime(2025, 10, 14, 20, 54, 53, 823628), datetime.datetime(2025, 10, 14, 20, 54, 53, 823628)), ('[-0.015605813823640347, -0.010840331204235554, 0.017889592796564102, -0.0034694389905780554, 0.08434752374887466, 0.016565000638365746, 0.00404609274 ... (16705 characters truncated) ... 054719313979148865, 0.01078704372048378, -0.03985953330993652, -0.033891260623931885, 0.07411620020866394, -0.0459800586104393, -0.03343450650572777]', '#### **Contents**  \\nImportant information about your policy 3  \\nSection 1 – Home Comprehensive Insurance 8  \\n- Your cover at a glance 8  \\n- Part  ... (428 characters truncated) ... at you need to do 49  \\nConditions of your cover 50  \\nDefinitions 54  \\nHow we pay claims – some examples 56  \\nPage 2 of 59  \\n<<-- PAGE BREAK -->>', '{\"source\": \"C:\\\\\\\\Users\\\\\\\\aibag\\\\\\\\git_repo\\\\\\\\policy_wording\\\\\\\\state-home-comprehensive-contents-comprehensive-insurance-policy-wording-si6995-2-1 ... (88 characters truncated) ... -wording-si6995-2-1224.PDF\", \"total_pages\": \"61\", \"creation_date\": \"2024-12-02T10:18:24+13:00\", \"header_key\": \"Header 4\", \"header_value\": \"Contents\"}', None, ['Home', 'State'], True, '1', datetime.datetime(2025, 10, 14, 20, 54, 53, 823628), datetime.datetime(2025, 10, 14, 20, 54, 53, 823628))]\n"
     ]
    },
    {
     "name": "stderr",
     "output_type": "stream",
     "text": [
      "2025-10-14 21:10:09,846 [INFO] sqlalchemy.engine.Engine: [cached since 779.5s ago] [('[-0.0034308889880776405, -0.007139021530747414, 0.0031478696037083864, -0.00457066809758544, 0.08033902198076248, 0.05846758559346199, 0.016311163082 ... (16662 characters truncated) ... 0789836123585701, 0.008140179328620434, -0.025290774181485176, -0.01674243062734604, 0.048178769648075104, -0.04824037849903107, -0.0414017029106617]', '###### **Thank you for choosing State Insurance**  \\nThis policy wording, along with your policy schedule, contains all the information you need\\nto know about your insurance cover. Please read these carefully and keep them on hand as\\nyou will find them useful if you need to make a claim.', '{\"source\": \"C:\\\\\\\\Users\\\\\\\\aibag\\\\\\\\git_repo\\\\\\\\policy_wording\\\\\\\\state-home-comprehensive-contents-comprehensive-insurance-policy-wording-si6995-2-1 ... (118 characters truncated) ... total_pages\": \"61\", \"creation_date\": \"2024-12-02T10:18:24+13:00\", \"header_key\": \"Header 6\", \"header_value\": \"Thank you for choosing State Insurance\"}', None, ['Home', 'State'], True, '1', datetime.datetime(2025, 10, 14, 20, 54, 53, 823628), datetime.datetime(2025, 10, 14, 20, 54, 53, 823628)), ('[0.021638186648488045, 0.005479548126459122, 0.010142413899302483, -0.0116591090336442, 0.008330157026648521, 0.021700410172343254, 0.002716440241783 ... (16668 characters truncated) ... 508567184209824, 0.027051622048020363, -0.01338580809533596, -0.021762633696198463, 0.011371325701475143, -0.02154485136270523, -0.03353841230273247]', '###### **How to contact us**  \\nIn New Zealand, just call 0800 80 24 24. If you have any questions, need help, or want to\\n[make a claim, our contact ... (347 characters truncated) ... Mark quality award, independent  \\nproof we have achieved a high standard of plain language.  \\nPolicy wording SI6995/2 12/24  \\n<<-- PAGE BREAK -->>', '{\"source\": \"C:\\\\\\\\Users\\\\\\\\aibag\\\\\\\\git_repo\\\\\\\\policy_wording\\\\\\\\state-home-comprehensive-contents-comprehensive-insurance-policy-wording-si6995-2-1 ... (97 characters truncated) ... si6995-2-1224.PDF\", \"total_pages\": \"61\", \"creation_date\": \"2024-12-02T10:18:24+13:00\", \"header_key\": \"Header 6\", \"header_value\": \"How to contact us\"}', None, ['Home', 'State'], True, '1', datetime.datetime(2025, 10, 14, 20, 54, 53, 823628), datetime.datetime(2025, 10, 14, 20, 54, 53, 823628)), ('[-0.015605813823640347, -0.010840331204235554, 0.017889592796564102, -0.0034694389905780554, 0.08434752374887466, 0.016565000638365746, 0.00404609274 ... (16705 characters truncated) ... 054719313979148865, 0.01078704372048378, -0.03985953330993652, -0.033891260623931885, 0.07411620020866394, -0.0459800586104393, -0.03343450650572777]', '#### **Contents**  \\nImportant information about your policy 3  \\nSection 1 – Home Comprehensive Insurance 8  \\n- Your cover at a glance 8  \\n- Part  ... (428 characters truncated) ... at you need to do 49  \\nConditions of your cover 50  \\nDefinitions 54  \\nHow we pay claims – some examples 56  \\nPage 2 of 59  \\n<<-- PAGE BREAK -->>', '{\"source\": \"C:\\\\\\\\Users\\\\\\\\aibag\\\\\\\\git_repo\\\\\\\\policy_wording\\\\\\\\state-home-comprehensive-contents-comprehensive-insurance-policy-wording-si6995-2-1 ... (88 characters truncated) ... -wording-si6995-2-1224.PDF\", \"total_pages\": \"61\", \"creation_date\": \"2024-12-02T10:18:24+13:00\", \"header_key\": \"Header 4\", \"header_value\": \"Contents\"}', None, ['Home', 'State'], True, '1', datetime.datetime(2025, 10, 14, 20, 54, 53, 823628), datetime.datetime(2025, 10, 14, 20, 54, 53, 823628))]\n"
     ]
    },
    {
     "name": "stdout",
     "output_type": "stream",
     "text": [
      "2025-10-14 21:10:09,895 INFO sqlalchemy.engine.Engine COMMIT\n"
     ]
    },
    {
     "name": "stderr",
     "output_type": "stream",
     "text": [
      "2025-10-14 21:10:09,895 [INFO] sqlalchemy.engine.Engine: COMMIT\n"
     ]
    },
    {
     "name": "stdout",
     "output_type": "stream",
     "text": [
      "2025-10-14 21:10:09,899 INFO sqlalchemy.engine.Engine BEGIN (implicit)\n"
     ]
    },
    {
     "name": "stderr",
     "output_type": "stream",
     "text": [
      "2025-10-14 21:10:09,899 [INFO] sqlalchemy.engine.Engine: BEGIN (implicit)\n"
     ]
    },
    {
     "name": "stdout",
     "output_type": "stream",
     "text": [
      "2025-10-14 21:10:09,900 INFO sqlalchemy.engine.Engine \n",
      "    INSERT INTO document.document_chunk\n",
      "      (embedding, chunk_text, doc_metadata, file_name, tags, isActive, version, created_at, updated_at)\n",
      "    VALUES\n",
      "      ($1, $2, $3, $4, $5, $6, $7, $8, $9)\n",
      "    \n"
     ]
    },
    {
     "name": "stderr",
     "output_type": "stream",
     "text": [
      "2025-10-14 21:10:09,900 [INFO] sqlalchemy.engine.Engine: \n",
      "    INSERT INTO document.document_chunk\n",
      "      (embedding, chunk_text, doc_metadata, file_name, tags, isActive, version, created_at, updated_at)\n",
      "    VALUES\n",
      "      ($1, $2, $3, $4, $5, $6, $7, $8, $9)\n",
      "    \n"
     ]
    },
    {
     "name": "stdout",
     "output_type": "stream",
     "text": [
      "2025-10-14 21:10:09,900 INFO sqlalchemy.engine.Engine [cached since 779.5s ago] [('[-0.0034308889880776405, -0.007139021530747414, 0.0031478696037083864, -0.00457066809758544, 0.08033902198076248, 0.05846758559346199, 0.016311163082 ... (16662 characters truncated) ... 0789836123585701, 0.008140179328620434, -0.025290774181485176, -0.01674243062734604, 0.048178769648075104, -0.04824037849903107, -0.0414017029106617]', '###### **Thank you for choosing State Insurance**  \\nThis policy wording, along with your policy schedule, contains all the information you need\\nto know about your insurance cover. Please read these carefully and keep them on hand as\\nyou will find them useful if you need to make a claim.', '{\"source\": \"C:\\\\\\\\Users\\\\\\\\aibag\\\\\\\\git_repo\\\\\\\\policy_wording\\\\\\\\state-home-comprehensive-contents-comprehensive-insurance-policy-wording-si6995-2-1 ... (118 characters truncated) ... total_pages\": \"61\", \"creation_date\": \"2024-12-02T10:18:24+13:00\", \"header_key\": \"Header 6\", \"header_value\": \"Thank you for choosing State Insurance\"}', None, ['Home', 'State'], True, '1', datetime.datetime(2025, 10, 14, 20, 54, 53, 823628), datetime.datetime(2025, 10, 14, 20, 54, 53, 823628)), ('[0.021638186648488045, 0.005479548126459122, 0.010142413899302483, -0.0116591090336442, 0.008330157026648521, 0.021700410172343254, 0.002716440241783 ... (16668 characters truncated) ... 508567184209824, 0.027051622048020363, -0.01338580809533596, -0.021762633696198463, 0.011371325701475143, -0.02154485136270523, -0.03353841230273247]', '###### **How to contact us**  \\nIn New Zealand, just call 0800 80 24 24. If you have any questions, need help, or want to\\n[make a claim, our contact ... (347 characters truncated) ... Mark quality award, independent  \\nproof we have achieved a high standard of plain language.  \\nPolicy wording SI6995/2 12/24  \\n<<-- PAGE BREAK -->>', '{\"source\": \"C:\\\\\\\\Users\\\\\\\\aibag\\\\\\\\git_repo\\\\\\\\policy_wording\\\\\\\\state-home-comprehensive-contents-comprehensive-insurance-policy-wording-si6995-2-1 ... (97 characters truncated) ... si6995-2-1224.PDF\", \"total_pages\": \"61\", \"creation_date\": \"2024-12-02T10:18:24+13:00\", \"header_key\": \"Header 6\", \"header_value\": \"How to contact us\"}', None, ['Home', 'State'], True, '1', datetime.datetime(2025, 10, 14, 20, 54, 53, 823628), datetime.datetime(2025, 10, 14, 20, 54, 53, 823628)), ('[-0.015605813823640347, -0.010840331204235554, 0.017889592796564102, -0.0034694389905780554, 0.08434752374887466, 0.016565000638365746, 0.00404609274 ... (16705 characters truncated) ... 054719313979148865, 0.01078704372048378, -0.03985953330993652, -0.033891260623931885, 0.07411620020866394, -0.0459800586104393, -0.03343450650572777]', '#### **Contents**  \\nImportant information about your policy 3  \\nSection 1 – Home Comprehensive Insurance 8  \\n- Your cover at a glance 8  \\n- Part  ... (428 characters truncated) ... at you need to do 49  \\nConditions of your cover 50  \\nDefinitions 54  \\nHow we pay claims – some examples 56  \\nPage 2 of 59  \\n<<-- PAGE BREAK -->>', '{\"source\": \"C:\\\\\\\\Users\\\\\\\\aibag\\\\\\\\git_repo\\\\\\\\policy_wording\\\\\\\\state-home-comprehensive-contents-comprehensive-insurance-policy-wording-si6995-2-1 ... (88 characters truncated) ... -wording-si6995-2-1224.PDF\", \"total_pages\": \"61\", \"creation_date\": \"2024-12-02T10:18:24+13:00\", \"header_key\": \"Header 4\", \"header_value\": \"Contents\"}', None, ['Home', 'State'], True, '1', datetime.datetime(2025, 10, 14, 20, 54, 53, 823628), datetime.datetime(2025, 10, 14, 20, 54, 53, 823628)), ('[0.022218788042664528, 0.010725012049078941, 0.02000293880701065, -0.008735270239412785, 0.029092444106936455, 0.048055291175842285, 0.02977076545357 ... (16661 characters truncated) ... 0711488723755, -0.016626406461000443, -0.05185389146208763, 0.005309747997671366, 0.040036026388406754, -0.011945990845561028, -0.027178071439266205]', '#### **Important information about your policy**  \\n‘You’ and ‘your’ mean any person or entity shown as the Insured in your policy schedule. If you have\\nContents Insurance, ‘you’ and ‘your’ include any partner of the Insured. ‘We’, ‘us’ and ‘our’ mean IAG  \\nNew Zealand Limited.', '{\"source\": \"C:\\\\\\\\Users\\\\\\\\aibag\\\\\\\\git_repo\\\\\\\\policy_wording\\\\\\\\state-home-comprehensive-contents-comprehensive-insurance-policy-wording-si6995-2-1 ... (119 characters truncated) ... otal_pages\": \"61\", \"creation_date\": \"2024-12-02T10:18:24+13:00\", \"header_key\": \"Header 4\", \"header_value\": \"Important information about your policy\"}', None, ['Home', 'State'], True, '1', datetime.datetime(2025, 10, 14, 20, 54, 53, 823628), datetime.datetime(2025, 10, 14, 20, 54, 53, 823628))]\n"
     ]
    },
    {
     "name": "stderr",
     "output_type": "stream",
     "text": [
      "2025-10-14 21:10:09,900 [INFO] sqlalchemy.engine.Engine: [cached since 779.5s ago] [('[-0.0034308889880776405, -0.007139021530747414, 0.0031478696037083864, -0.00457066809758544, 0.08033902198076248, 0.05846758559346199, 0.016311163082 ... (16662 characters truncated) ... 0789836123585701, 0.008140179328620434, -0.025290774181485176, -0.01674243062734604, 0.048178769648075104, -0.04824037849903107, -0.0414017029106617]', '###### **Thank you for choosing State Insurance**  \\nThis policy wording, along with your policy schedule, contains all the information you need\\nto know about your insurance cover. Please read these carefully and keep them on hand as\\nyou will find them useful if you need to make a claim.', '{\"source\": \"C:\\\\\\\\Users\\\\\\\\aibag\\\\\\\\git_repo\\\\\\\\policy_wording\\\\\\\\state-home-comprehensive-contents-comprehensive-insurance-policy-wording-si6995-2-1 ... (118 characters truncated) ... total_pages\": \"61\", \"creation_date\": \"2024-12-02T10:18:24+13:00\", \"header_key\": \"Header 6\", \"header_value\": \"Thank you for choosing State Insurance\"}', None, ['Home', 'State'], True, '1', datetime.datetime(2025, 10, 14, 20, 54, 53, 823628), datetime.datetime(2025, 10, 14, 20, 54, 53, 823628)), ('[0.021638186648488045, 0.005479548126459122, 0.010142413899302483, -0.0116591090336442, 0.008330157026648521, 0.021700410172343254, 0.002716440241783 ... (16668 characters truncated) ... 508567184209824, 0.027051622048020363, -0.01338580809533596, -0.021762633696198463, 0.011371325701475143, -0.02154485136270523, -0.03353841230273247]', '###### **How to contact us**  \\nIn New Zealand, just call 0800 80 24 24. If you have any questions, need help, or want to\\n[make a claim, our contact ... (347 characters truncated) ... Mark quality award, independent  \\nproof we have achieved a high standard of plain language.  \\nPolicy wording SI6995/2 12/24  \\n<<-- PAGE BREAK -->>', '{\"source\": \"C:\\\\\\\\Users\\\\\\\\aibag\\\\\\\\git_repo\\\\\\\\policy_wording\\\\\\\\state-home-comprehensive-contents-comprehensive-insurance-policy-wording-si6995-2-1 ... (97 characters truncated) ... si6995-2-1224.PDF\", \"total_pages\": \"61\", \"creation_date\": \"2024-12-02T10:18:24+13:00\", \"header_key\": \"Header 6\", \"header_value\": \"How to contact us\"}', None, ['Home', 'State'], True, '1', datetime.datetime(2025, 10, 14, 20, 54, 53, 823628), datetime.datetime(2025, 10, 14, 20, 54, 53, 823628)), ('[-0.015605813823640347, -0.010840331204235554, 0.017889592796564102, -0.0034694389905780554, 0.08434752374887466, 0.016565000638365746, 0.00404609274 ... (16705 characters truncated) ... 054719313979148865, 0.01078704372048378, -0.03985953330993652, -0.033891260623931885, 0.07411620020866394, -0.0459800586104393, -0.03343450650572777]', '#### **Contents**  \\nImportant information about your policy 3  \\nSection 1 – Home Comprehensive Insurance 8  \\n- Your cover at a glance 8  \\n- Part  ... (428 characters truncated) ... at you need to do 49  \\nConditions of your cover 50  \\nDefinitions 54  \\nHow we pay claims – some examples 56  \\nPage 2 of 59  \\n<<-- PAGE BREAK -->>', '{\"source\": \"C:\\\\\\\\Users\\\\\\\\aibag\\\\\\\\git_repo\\\\\\\\policy_wording\\\\\\\\state-home-comprehensive-contents-comprehensive-insurance-policy-wording-si6995-2-1 ... (88 characters truncated) ... -wording-si6995-2-1224.PDF\", \"total_pages\": \"61\", \"creation_date\": \"2024-12-02T10:18:24+13:00\", \"header_key\": \"Header 4\", \"header_value\": \"Contents\"}', None, ['Home', 'State'], True, '1', datetime.datetime(2025, 10, 14, 20, 54, 53, 823628), datetime.datetime(2025, 10, 14, 20, 54, 53, 823628)), ('[0.022218788042664528, 0.010725012049078941, 0.02000293880701065, -0.008735270239412785, 0.029092444106936455, 0.048055291175842285, 0.02977076545357 ... (16661 characters truncated) ... 0711488723755, -0.016626406461000443, -0.05185389146208763, 0.005309747997671366, 0.040036026388406754, -0.011945990845561028, -0.027178071439266205]', '#### **Important information about your policy**  \\n‘You’ and ‘your’ mean any person or entity shown as the Insured in your policy schedule. If you have\\nContents Insurance, ‘you’ and ‘your’ include any partner of the Insured. ‘We’, ‘us’ and ‘our’ mean IAG  \\nNew Zealand Limited.', '{\"source\": \"C:\\\\\\\\Users\\\\\\\\aibag\\\\\\\\git_repo\\\\\\\\policy_wording\\\\\\\\state-home-comprehensive-contents-comprehensive-insurance-policy-wording-si6995-2-1 ... (119 characters truncated) ... otal_pages\": \"61\", \"creation_date\": \"2024-12-02T10:18:24+13:00\", \"header_key\": \"Header 4\", \"header_value\": \"Important information about your policy\"}', None, ['Home', 'State'], True, '1', datetime.datetime(2025, 10, 14, 20, 54, 53, 823628), datetime.datetime(2025, 10, 14, 20, 54, 53, 823628))]\n"
     ]
    },
    {
     "name": "stdout",
     "output_type": "stream",
     "text": [
      "2025-10-14 21:10:09,947 INFO sqlalchemy.engine.Engine COMMIT\n"
     ]
    },
    {
     "name": "stderr",
     "output_type": "stream",
     "text": [
      "2025-10-14 21:10:09,947 [INFO] sqlalchemy.engine.Engine: COMMIT\n"
     ]
    },
    {
     "name": "stdout",
     "output_type": "stream",
     "text": [
      "2025-10-14 21:10:09,951 INFO sqlalchemy.engine.Engine BEGIN (implicit)\n"
     ]
    },
    {
     "name": "stderr",
     "output_type": "stream",
     "text": [
      "2025-10-14 21:10:09,951 [INFO] sqlalchemy.engine.Engine: BEGIN (implicit)\n"
     ]
    },
    {
     "name": "stdout",
     "output_type": "stream",
     "text": [
      "2025-10-14 21:10:09,951 INFO sqlalchemy.engine.Engine \n",
      "    INSERT INTO document.document_chunk\n",
      "      (embedding, chunk_text, doc_metadata, file_name, tags, isActive, version, created_at, updated_at)\n",
      "    VALUES\n",
      "      ($1, $2, $3, $4, $5, $6, $7, $8, $9)\n",
      "    \n"
     ]
    },
    {
     "name": "stderr",
     "output_type": "stream",
     "text": [
      "2025-10-14 21:10:09,951 [INFO] sqlalchemy.engine.Engine: \n",
      "    INSERT INTO document.document_chunk\n",
      "      (embedding, chunk_text, doc_metadata, file_name, tags, isActive, version, created_at, updated_at)\n",
      "    VALUES\n",
      "      ($1, $2, $3, $4, $5, $6, $7, $8, $9)\n",
      "    \n"
     ]
    },
    {
     "name": "stdout",
     "output_type": "stream",
     "text": [
      "2025-10-14 21:10:09,952 INFO sqlalchemy.engine.Engine [cached since 779.6s ago] [('[-0.0034308889880776405, -0.007139021530747414, 0.0031478696037083864, -0.00457066809758544, 0.08033902198076248, 0.05846758559346199, 0.016311163082 ... (16662 characters truncated) ... 0789836123585701, 0.008140179328620434, -0.025290774181485176, -0.01674243062734604, 0.048178769648075104, -0.04824037849903107, -0.0414017029106617]', '###### **Thank you for choosing State Insurance**  \\nThis policy wording, along with your policy schedule, contains all the information you need\\nto know about your insurance cover. Please read these carefully and keep them on hand as\\nyou will find them useful if you need to make a claim.', '{\"source\": \"C:\\\\\\\\Users\\\\\\\\aibag\\\\\\\\git_repo\\\\\\\\policy_wording\\\\\\\\state-home-comprehensive-contents-comprehensive-insurance-policy-wording-si6995-2-1 ... (118 characters truncated) ... total_pages\": \"61\", \"creation_date\": \"2024-12-02T10:18:24+13:00\", \"header_key\": \"Header 6\", \"header_value\": \"Thank you for choosing State Insurance\"}', None, ['Home', 'State'], True, '1', datetime.datetime(2025, 10, 14, 20, 54, 53, 823628), datetime.datetime(2025, 10, 14, 20, 54, 53, 823628)), ('[0.021638186648488045, 0.005479548126459122, 0.010142413899302483, -0.0116591090336442, 0.008330157026648521, 0.021700410172343254, 0.002716440241783 ... (16668 characters truncated) ... 508567184209824, 0.027051622048020363, -0.01338580809533596, -0.021762633696198463, 0.011371325701475143, -0.02154485136270523, -0.03353841230273247]', '###### **How to contact us**  \\nIn New Zealand, just call 0800 80 24 24. If you have any questions, need help, or want to\\n[make a claim, our contact ... (347 characters truncated) ... Mark quality award, independent  \\nproof we have achieved a high standard of plain language.  \\nPolicy wording SI6995/2 12/24  \\n<<-- PAGE BREAK -->>', '{\"source\": \"C:\\\\\\\\Users\\\\\\\\aibag\\\\\\\\git_repo\\\\\\\\policy_wording\\\\\\\\state-home-comprehensive-contents-comprehensive-insurance-policy-wording-si6995-2-1 ... (97 characters truncated) ... si6995-2-1224.PDF\", \"total_pages\": \"61\", \"creation_date\": \"2024-12-02T10:18:24+13:00\", \"header_key\": \"Header 6\", \"header_value\": \"How to contact us\"}', None, ['Home', 'State'], True, '1', datetime.datetime(2025, 10, 14, 20, 54, 53, 823628), datetime.datetime(2025, 10, 14, 20, 54, 53, 823628)), ('[-0.015605813823640347, -0.010840331204235554, 0.017889592796564102, -0.0034694389905780554, 0.08434752374887466, 0.016565000638365746, 0.00404609274 ... (16705 characters truncated) ... 054719313979148865, 0.01078704372048378, -0.03985953330993652, -0.033891260623931885, 0.07411620020866394, -0.0459800586104393, -0.03343450650572777]', '#### **Contents**  \\nImportant information about your policy 3  \\nSection 1 – Home Comprehensive Insurance 8  \\n- Your cover at a glance 8  \\n- Part  ... (428 characters truncated) ... at you need to do 49  \\nConditions of your cover 50  \\nDefinitions 54  \\nHow we pay claims – some examples 56  \\nPage 2 of 59  \\n<<-- PAGE BREAK -->>', '{\"source\": \"C:\\\\\\\\Users\\\\\\\\aibag\\\\\\\\git_repo\\\\\\\\policy_wording\\\\\\\\state-home-comprehensive-contents-comprehensive-insurance-policy-wording-si6995-2-1 ... (88 characters truncated) ... -wording-si6995-2-1224.PDF\", \"total_pages\": \"61\", \"creation_date\": \"2024-12-02T10:18:24+13:00\", \"header_key\": \"Header 4\", \"header_value\": \"Contents\"}', None, ['Home', 'State'], True, '1', datetime.datetime(2025, 10, 14, 20, 54, 53, 823628), datetime.datetime(2025, 10, 14, 20, 54, 53, 823628)), ('[0.022218788042664528, 0.010725012049078941, 0.02000293880701065, -0.008735270239412785, 0.029092444106936455, 0.048055291175842285, 0.02977076545357 ... (16661 characters truncated) ... 0711488723755, -0.016626406461000443, -0.05185389146208763, 0.005309747997671366, 0.040036026388406754, -0.011945990845561028, -0.027178071439266205]', '#### **Important information about your policy**  \\n‘You’ and ‘your’ mean any person or entity shown as the Insured in your policy schedule. If you have\\nContents Insurance, ‘you’ and ‘your’ include any partner of the Insured. ‘We’, ‘us’ and ‘our’ mean IAG  \\nNew Zealand Limited.', '{\"source\": \"C:\\\\\\\\Users\\\\\\\\aibag\\\\\\\\git_repo\\\\\\\\policy_wording\\\\\\\\state-home-comprehensive-contents-comprehensive-insurance-policy-wording-si6995-2-1 ... (119 characters truncated) ... otal_pages\": \"61\", \"creation_date\": \"2024-12-02T10:18:24+13:00\", \"header_key\": \"Header 4\", \"header_value\": \"Important information about your policy\"}', None, ['Home', 'State'], True, '1', datetime.datetime(2025, 10, 14, 20, 54, 53, 823628), datetime.datetime(2025, 10, 14, 20, 54, 53, 823628)), ('[0.0053767370991408825, 0.00248461845330894, 0.004308936186134815, 0.014745465479791164, 0.07220297306776047, 0.027136486023664474, 0.004618334118276 ... (16641 characters truncated) ... 1297845840454, -0.009470603428781033, -0.059434641152620316, -0.04189704358577728, 0.05979686230421066, -0.011530742980539799, -0.021657874807715416]', '###### **What your policy is**  \\nYour policy is a contract between you and us, and has three parts:  \\n- This policy wording. It explains what we co ... (356 characters truncated) ... arranty that we apply. This may add special terms and conditions to  \\nyour policy. It may be a separate document or printed in your policy schedule.', '{\"source\": \"C:\\\\\\\\Users\\\\\\\\aibag\\\\\\\\git_repo\\\\\\\\policy_wording\\\\\\\\state-home-comprehensive-contents-comprehensive-insurance-policy-wording-si6995-2-1 ... (119 characters truncated) ... otal_pages\": \"61\", \"creation_date\": \"2024-12-02T10:18:24+13:00\", \"header_key\": \"Header 4\", \"header_value\": \"Important information about your policy\"}', None, ['Home', 'State'], True, '1', datetime.datetime(2025, 10, 14, 20, 54, 53, 823628), datetime.datetime(2025, 10, 14, 20, 54, 53, 823628))]\n"
     ]
    },
    {
     "name": "stderr",
     "output_type": "stream",
     "text": [
      "2025-10-14 21:10:09,952 [INFO] sqlalchemy.engine.Engine: [cached since 779.6s ago] [('[-0.0034308889880776405, -0.007139021530747414, 0.0031478696037083864, -0.00457066809758544, 0.08033902198076248, 0.05846758559346199, 0.016311163082 ... (16662 characters truncated) ... 0789836123585701, 0.008140179328620434, -0.025290774181485176, -0.01674243062734604, 0.048178769648075104, -0.04824037849903107, -0.0414017029106617]', '###### **Thank you for choosing State Insurance**  \\nThis policy wording, along with your policy schedule, contains all the information you need\\nto know about your insurance cover. Please read these carefully and keep them on hand as\\nyou will find them useful if you need to make a claim.', '{\"source\": \"C:\\\\\\\\Users\\\\\\\\aibag\\\\\\\\git_repo\\\\\\\\policy_wording\\\\\\\\state-home-comprehensive-contents-comprehensive-insurance-policy-wording-si6995-2-1 ... (118 characters truncated) ... total_pages\": \"61\", \"creation_date\": \"2024-12-02T10:18:24+13:00\", \"header_key\": \"Header 6\", \"header_value\": \"Thank you for choosing State Insurance\"}', None, ['Home', 'State'], True, '1', datetime.datetime(2025, 10, 14, 20, 54, 53, 823628), datetime.datetime(2025, 10, 14, 20, 54, 53, 823628)), ('[0.021638186648488045, 0.005479548126459122, 0.010142413899302483, -0.0116591090336442, 0.008330157026648521, 0.021700410172343254, 0.002716440241783 ... (16668 characters truncated) ... 508567184209824, 0.027051622048020363, -0.01338580809533596, -0.021762633696198463, 0.011371325701475143, -0.02154485136270523, -0.03353841230273247]', '###### **How to contact us**  \\nIn New Zealand, just call 0800 80 24 24. If you have any questions, need help, or want to\\n[make a claim, our contact ... (347 characters truncated) ... Mark quality award, independent  \\nproof we have achieved a high standard of plain language.  \\nPolicy wording SI6995/2 12/24  \\n<<-- PAGE BREAK -->>', '{\"source\": \"C:\\\\\\\\Users\\\\\\\\aibag\\\\\\\\git_repo\\\\\\\\policy_wording\\\\\\\\state-home-comprehensive-contents-comprehensive-insurance-policy-wording-si6995-2-1 ... (97 characters truncated) ... si6995-2-1224.PDF\", \"total_pages\": \"61\", \"creation_date\": \"2024-12-02T10:18:24+13:00\", \"header_key\": \"Header 6\", \"header_value\": \"How to contact us\"}', None, ['Home', 'State'], True, '1', datetime.datetime(2025, 10, 14, 20, 54, 53, 823628), datetime.datetime(2025, 10, 14, 20, 54, 53, 823628)), ('[-0.015605813823640347, -0.010840331204235554, 0.017889592796564102, -0.0034694389905780554, 0.08434752374887466, 0.016565000638365746, 0.00404609274 ... (16705 characters truncated) ... 054719313979148865, 0.01078704372048378, -0.03985953330993652, -0.033891260623931885, 0.07411620020866394, -0.0459800586104393, -0.03343450650572777]', '#### **Contents**  \\nImportant information about your policy 3  \\nSection 1 – Home Comprehensive Insurance 8  \\n- Your cover at a glance 8  \\n- Part  ... (428 characters truncated) ... at you need to do 49  \\nConditions of your cover 50  \\nDefinitions 54  \\nHow we pay claims – some examples 56  \\nPage 2 of 59  \\n<<-- PAGE BREAK -->>', '{\"source\": \"C:\\\\\\\\Users\\\\\\\\aibag\\\\\\\\git_repo\\\\\\\\policy_wording\\\\\\\\state-home-comprehensive-contents-comprehensive-insurance-policy-wording-si6995-2-1 ... (88 characters truncated) ... -wording-si6995-2-1224.PDF\", \"total_pages\": \"61\", \"creation_date\": \"2024-12-02T10:18:24+13:00\", \"header_key\": \"Header 4\", \"header_value\": \"Contents\"}', None, ['Home', 'State'], True, '1', datetime.datetime(2025, 10, 14, 20, 54, 53, 823628), datetime.datetime(2025, 10, 14, 20, 54, 53, 823628)), ('[0.022218788042664528, 0.010725012049078941, 0.02000293880701065, -0.008735270239412785, 0.029092444106936455, 0.048055291175842285, 0.02977076545357 ... (16661 characters truncated) ... 0711488723755, -0.016626406461000443, -0.05185389146208763, 0.005309747997671366, 0.040036026388406754, -0.011945990845561028, -0.027178071439266205]', '#### **Important information about your policy**  \\n‘You’ and ‘your’ mean any person or entity shown as the Insured in your policy schedule. If you have\\nContents Insurance, ‘you’ and ‘your’ include any partner of the Insured. ‘We’, ‘us’ and ‘our’ mean IAG  \\nNew Zealand Limited.', '{\"source\": \"C:\\\\\\\\Users\\\\\\\\aibag\\\\\\\\git_repo\\\\\\\\policy_wording\\\\\\\\state-home-comprehensive-contents-comprehensive-insurance-policy-wording-si6995-2-1 ... (119 characters truncated) ... otal_pages\": \"61\", \"creation_date\": \"2024-12-02T10:18:24+13:00\", \"header_key\": \"Header 4\", \"header_value\": \"Important information about your policy\"}', None, ['Home', 'State'], True, '1', datetime.datetime(2025, 10, 14, 20, 54, 53, 823628), datetime.datetime(2025, 10, 14, 20, 54, 53, 823628)), ('[0.0053767370991408825, 0.00248461845330894, 0.004308936186134815, 0.014745465479791164, 0.07220297306776047, 0.027136486023664474, 0.004618334118276 ... (16641 characters truncated) ... 1297845840454, -0.009470603428781033, -0.059434641152620316, -0.04189704358577728, 0.05979686230421066, -0.011530742980539799, -0.021657874807715416]', '###### **What your policy is**  \\nYour policy is a contract between you and us, and has three parts:  \\n- This policy wording. It explains what we co ... (356 characters truncated) ... arranty that we apply. This may add special terms and conditions to  \\nyour policy. It may be a separate document or printed in your policy schedule.', '{\"source\": \"C:\\\\\\\\Users\\\\\\\\aibag\\\\\\\\git_repo\\\\\\\\policy_wording\\\\\\\\state-home-comprehensive-contents-comprehensive-insurance-policy-wording-si6995-2-1 ... (119 characters truncated) ... otal_pages\": \"61\", \"creation_date\": \"2024-12-02T10:18:24+13:00\", \"header_key\": \"Header 4\", \"header_value\": \"Important information about your policy\"}', None, ['Home', 'State'], True, '1', datetime.datetime(2025, 10, 14, 20, 54, 53, 823628), datetime.datetime(2025, 10, 14, 20, 54, 53, 823628))]\n"
     ]
    },
    {
     "name": "stdout",
     "output_type": "stream",
     "text": [
      "2025-10-14 21:10:09,953 INFO sqlalchemy.engine.Engine COMMIT\n"
     ]
    },
    {
     "name": "stderr",
     "output_type": "stream",
     "text": [
      "2025-10-14 21:10:09,953 [INFO] sqlalchemy.engine.Engine: COMMIT\n",
      "2025-10-14 21:10:09,953 [INFO] db.db_connection_pool: DB connection closed\n"
     ]
    }
   ],
   "source": [
    "await persist_chunks(db_engine, doc_chunks)"
   ]
  },
  {
   "cell_type": "code",
   "execution_count": null,
   "id": "83466552",
   "metadata": {},
   "outputs": [],
   "source": []
  }
 ],
 "metadata": {
  "kernelspec": {
   "display_name": "retriever-techniques-py3.12",
   "language": "python",
   "name": "python3"
  },
  "language_info": {
   "codemirror_mode": {
    "name": "ipython",
    "version": 3
   },
   "file_extension": ".py",
   "mimetype": "text/x-python",
   "name": "python",
   "nbconvert_exporter": "python",
   "pygments_lexer": "ipython3",
   "version": "3.12.10"
  }
 },
 "nbformat": 4,
 "nbformat_minor": 5
}
