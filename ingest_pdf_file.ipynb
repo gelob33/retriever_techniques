{
 "cells": [
  {
   "cell_type": "code",
   "execution_count": 8,
   "id": "11509b2e",
   "metadata": {},
   "outputs": [],
   "source": [
    "import os\n",
    "from langchain_pymupdf4llm import PyMuPDF4LLMLoader\n",
    "from langchain.text_splitter import MarkdownHeaderTextSplitter, RecursiveCharacterTextSplitter\n",
    "from langchain_core.documents import Document\n",
    "from typing import List, Sequence, Any\n",
    "from db.db_connection_pool_using_pycopg2 import get_connection, release_connection, close_pool\n",
    "from db.db_connection_pool import get_engine, get_conn\n",
    "from pydantic import BaseModel, Field\n",
    "from typing import List, Optional, Dict\n",
    "from db.schema import Document_Chunk\n",
    "from datetime import datetime\n",
    "from zoneinfo import ZoneInfo\n",
    "import logging\n",
    "import asyncio\n",
    "from sqlalchemy import text\n",
    "from fastembed import TextEmbedding\n",
    "from dotenv import load_dotenv\n",
    "import tqdm"
   ]
  },
  {
   "cell_type": "code",
   "execution_count": 7,
   "id": "7bf06d4e",
   "metadata": {},
   "outputs": [
    {
     "data": {
      "text/plain": [
       "True"
      ]
     },
     "execution_count": 7,
     "metadata": {},
     "output_type": "execute_result"
    }
   ],
   "source": [
    "load_dotenv(override=True)"
   ]
  },
  {
   "cell_type": "code",
   "execution_count": 8,
   "id": "2c9aa979",
   "metadata": {},
   "outputs": [],
   "source": [
    "# convert pdf to markdown\n",
    "# https://pymupdf.readthedocs.io/en/latest/pymupdf4llm/api.html#pymupdf4llm-api\n",
    "FOLDER_PATH = r\"C:\\Users\\aibag\\git_repo\\policy_wording\"\n",
    "\n",
    "FILE_NAME = \"state-home-comprehensive-contents-comprehensive-insurance-policy-wording-si6995-2-1224.PDF\"\n"
   ]
  },
  {
   "cell_type": "code",
   "execution_count": 9,
   "id": "176b1226",
   "metadata": {},
   "outputs": [],
   "source": [
    "logging.basicConfig(\n",
    "    level=logging.INFO,\n",
    "    format=\"%(asctime)s [%(levelname)s] %(name)s: %(message)s\"\n",
    ")\n",
    "\n",
    "logger = logging.getLogger(__name__)\n",
    "\n",
    "current_nz_datetime = datetime.now(tz=ZoneInfo(\"Pacific/Auckland\"))\n"
   ]
  },
  {
   "cell_type": "code",
   "execution_count": 10,
   "id": "28c1480a",
   "metadata": {},
   "outputs": [
    {
     "name": "stderr",
     "output_type": "stream",
     "text": [
      "2025-09-25 20:57:23,611 [INFO] __main__: Processing file: C:\\Users\\aibag\\git_repo\\policy_wording\\state-home-comprehensive-contents-comprehensive-insurance-policy-wording-si6995-2-1224.PDF\n",
      "2025-09-25 20:57:32,380 [INFO] __main__: Successfully processed file: state-home-comprehensive-contents-comprehensive-insurance-policy-wording-si6995-2-1224.PDF; Total Pages: 61\n"
     ]
    }
   ],
   "source": [
    "# function to load pdf file and convert a pdf file to a markdown file\n",
    "async def load_pdf_file(filepath:str, filename:str, mode:str =\"single\") -> List[Document]:\n",
    "\n",
    "    full_path = os.path.join(filepath, filename)\n",
    "    logger.info(f\"Processing file: {full_path}\")\n",
    "\n",
    "    if not os.path.exists(full_path):\n",
    "        raise FileNotFoundError(f\"File not found: {full_path}\")\n",
    "\n",
    "    if not filename.lower().strip().endswith(\".pdf\"):\n",
    "        raise TypeError (\"Invalid File Type; only PDFs are allowed.\")\n",
    "\n",
    "    # custom pages_delimiter to identify where are ends of pages in single mode \n",
    "    # page = load each page as a Document object; single = load entire PDF as a single Document object\n",
    "    doc_loader = PyMuPDF4LLMLoader(full_path \n",
    "                                    ,mode=mode\n",
    "                                    ,pages_delimiter=\"<<-- PAGE BREAK -->>\\n\\n\"\n",
    "                                    ,table_strategy=\"lines_strict\" # lines, text, lines_strict, lines_strict is default\n",
    "                                    #,page_separators=True\n",
    "                                   )\n",
    "                            \n",
    "    # lazy loading\n",
    "    docs = []\n",
    "    async for doc in doc_loader.alazy_load():\n",
    "        docs.append(doc)\n",
    "\n",
    "    logger.info(f\"Successfully processed file: {filename}; Total Pages: {docs[0].metadata[\"total_pages\"]}\")\n",
    "\n",
    "    return docs\n",
    "\n",
    "doc_obj =  await load_pdf_file(FOLDER_PATH, FILE_NAME, mode=\"single\")\n"
   ]
  },
  {
   "cell_type": "code",
   "execution_count": 11,
   "id": "855a013d",
   "metadata": {},
   "outputs": [
    {
     "name": "stdout",
     "output_type": "stream",
     "text": [
      "[Document(metadata={}, page_content='<<-- PAGE BREAK -->>'), Document(metadata={'Header 6': '**Thank you for choosing State Insurance**'}, page_content='This policy wording, along with your policy schedule, contains all the information you need\\nto know about your insurance cover. Please read these carefully and keep them on hand as\\nyou will find them useful if you need to make a claim.'), Document(metadata={'Header 6': '**How to contact us**'}, page_content='In New Zealand, just call 0800 80 24 24. If you have any questions, need help, or want to\\n[make a claim, our contact centres are available 7 days a week or visit state.co.nz](https://www.state.co.nz/)  \\nCall us free from Australia 1 800 887 863  \\nUnited States 1 800 593 9482  \\nUnited Kingdom 0800 096 5308  \\nCall us direct from Somewhere else overseas 64 9 969 1150  \\nOur promise to customers includes communicating clearly.  \\nThis document meets the WriteMark quality award, independent  \\nproof we have achieved a high standard of plain language.  \\nPolicy wording SI6995/2 12/24  \\n<<-- PAGE BREAK -->>'), Document(metadata={'Header 4': '**Contents**'}, page_content='Important information about your policy 3  \\nSection 1 – Home Comprehensive Insurance 8  \\n- Your cover at a glance 8  \\n- Part one – cover for your home 10  \\n- Part one – automatic benefits 18  \\n- Part one – optional benefits 24  \\n- Part two – your legal liability 25  \\nSection 2 – Contents Comprehensive Insurance 26  \\n- Your cover at a glance 26  \\n- Part one – cover for contents 28  \\n- Part one – automatic benefits 33  \\n- Part one – optional benefits 39  \\n- Part two – legal liability 40  \\nExclusions – what we do not cover 41  \\nClaims – what you need to do 49  \\nConditions of your cover 50  \\nDefinitions 54  \\nHow we pay claims – some examples 56  \\nPage 2 of 59  \\n<<-- PAGE BREAK -->>'), Document(metadata={'Header 4': '**Important information about your policy**'}, page_content='‘You’ and ‘your’ mean any person or entity shown as the Insured in your policy schedule. If you have\\nContents Insurance, ‘you’ and ‘your’ include any partner of the Insured. ‘We’, ‘us’ and ‘our’ mean IAG  \\nNew Zealand Limited.'), Document(metadata={'Header 4': '**Important information about your policy**', 'Header 6': '**What your policy is**'}, page_content='Your policy is a contract between you and us, and has three parts:  \\n- This policy wording. It explains what we cover and do not cover, your responsibilities, how to contact us  \\nand how to make a claim.  \\n- Your policy schedule. This contains information specific to you, such as the type of insurance and cover  \\nlevel you have, who and what is insured, your sums insured, the period of insurance and the premium  \\nthat applies.  \\n- Any addendum, endorsement or warranty that we apply. This may add special terms and conditions to  \\nyour policy. It may be a separate document or printed in your policy schedule.'), Document(metadata={'Header 4': '**Important information about your policy**', 'Header 6': '**Receiving your policy documents**'}, page_content='You may choose to receive your policy documents by email or post:  \\n- If we send your policy documents to you by email, we will send them to the person and email address you  \\nnominated for receiving policy documents. Any policy documents we send to this email address will be  \\nconsidered to have been received by you 24 hours after we send them.  \\n- If we send your policy documents to you by post, we will send them to the person and mailing address you  \\nnominated for receiving policy documents.  \\nYou are responsible for making sure the person and email or mailing address we have for your policy  \\ndocuments are correct. If any of these contact details change, you must let us know as soon as possible. We  \\nwill consider you have received all policy documents we send to the person and email or mailing address you  \\nnominated, even if those details are no longer correct.'), Document(metadata={'Header 4': '**Important information about your policy**', 'Header 6': '**How to read your policy**'}, page_content='Words in bold have a special meaning. These words and what they mean are listed in the section ‘Definitions’.  \\nHeadings, examples and comments are a guide only. They do not change the meaning of your policy. The  \\nheadings help you find your way around this policy wording. The examples and comments in boxes help you  \\nunderstand how your policy works.'), Document(metadata={'Header 4': '**Important information about your policy**', 'Header 6': '**What you must let us know about as soon as possible**'}, page_content='You must let us know as soon as possible if any of the following applies:  \\n- your circumstances change, and the change may affect the chance of a claim or the amount of a claim  \\nunder your policy  \\n- information in your policy schedule needs to be amended  \\n- other insurance covers your home or contents  \\n- your home will be vacant for more than 60 consecutive days  \\n- something happens that could lead to a claim under your policy.  \\nPage 3 of 59  \\n<<-- PAGE BREAK -->>  \\nSee also:  \\n- ‘Change in circumstances’ and ‘Duplicate insurance’ in the section ‘Conditions of your cover’  \\n- ‘Limited cover if your home is vacant for more than 60 days’ in this section  \\n- ‘Claims – what you need to do’ that explains what else you need to do for a claim.  \\nIf you are not sure whether we need to know about something, it is important that you check with us.'), Document(metadata={'Header 4': '**Important information about your policy**', 'Header 6': '**15-day cooling-off period for your new, renewed or** **amended policy**'}, page_content='You have a 15-day cooling-off period when any of the following happens:  \\n- You take out your new policy. The cooling-off period begins on the date your policy starts.  \\n- Your policy renews. The cooling-off period begins on the renewal date.  \\n- You amend your policy part way through the period of insurance. For example, you add an optional  \\nbenefit or increase a sum insured. The cooling-off period begins on the date your policy amendment takes  \\neffect and only applies to the amendment.  \\nIf, for any reason, you change your mind about your policy or the amendment to your policy, we will refund the  \\napplicable premium you have paid if both the following apply:  \\n- you let us know within the 15 days  \\n- you have not made a claim under the cover that you have changed your mind about.  \\nWe then treat your policy or the amendment to your policy as if it never existed.'), Document(metadata={'Header 4': '**Important information about your policy**', 'Header 6': '**No cover for certain events for the first 72 hours**'}, page_content='We do not cover loss that happens during the first 72 hours of your policy, caused by storm, flood, landslide,  \\ntsunami, bushfire or volcanic activity. This restriction only applies when you first take out your policy with us.  \\nHowever, this restriction does not apply if either:  \\n- your policy started immediately following another policy you had, that also insured the same property  \\nagainst the risks of storm, flood, landslide, tsunami, bushfire and volcanic activity  \\n- you took out your Home Insurance at the time you purchased your home.  \\nIn this clause, ‘bushfire’ means any wildfire.'), Document(metadata={'Header 4': '**Important information about your policy**', 'Header 6': '**Limited cover if your home is vacant for more than 60 days**'}, page_content='Cover is limited if you or a person you authorise has not been living at your home for more than 60  \\nconsecutive days. In that situation, we do not cover any:  \\n- loss caused by any deliberate or intentional act, including vandalism, theft or attempted theft, or an  \\nintentionally lit fire  \\n- loss caused by water that leaks, overflows or is discharged from any water system, sanitary fixture or  \\nappliance installed at your home  \\n- contamination damage  \\n- hidden gradual damage.  \\nPage 4 of 59  \\n<<-- PAGE BREAK -->>  \\nHowever, this restriction does not apply if either:  \\n- You have notified us and we have agreed in writing to cover your home or contents while your home is  \\nunoccupied. We may, at this time, change the terms of your policy.  \\n- We have recorded your home as a holiday home and all the following apply:  \\n- your home and contents are inspected inside and outside by you or a nominated person at least every  \\n60 days  \\n- your home and its grounds and contents are adequately maintained  \\n- mail is cleared regularly  \\n- the water supply is turned off  \\n- all doors are locked and all windows are secured.  \\nThis restriction ends as soon as you or a person you authorise lives in your home again.  \\nIn this clause, ‘water system’ means a system of pipes and associated fittings, tanks or other parts that  \\nsupplies, stores or distributes water at your home.'), Document(metadata={'Header 4': '**Important information about your policy**', 'Header 6': '**You pay the excess**'}, page_content='The excess is the first amount of your claim that you must pay. The applicable excess is deducted from each  \\nclaim settlement or from the policy limit if that is less, unless stated otherwise in an automatic or optional  \\nbenefit. Your policy schedule shows the different excesses that apply.  \\nIf you have Home Insurance and your policy insures more than one dwelling at the same address, the excess  \\napplies individually to each dwelling.  \\nIf one incident results in a claim under more than one benefit or sub-section of a benefit, we deduct only the  \\nhighest applicable excess.  \\nIf one incident results in more than one claim under certain personal property policies you hold with us at the  \\nsame address, we deduct only the highest excess of the policies you are claiming under. This applies to a boat,  \\ncar, caravan, contents, home, landlord’s, motorcycle, motorhome, residential contract works or trailer policy.  \\nExamples of how we deduct the excess from a claim or the policy limit  \\nSituation: We accept your claim under a benefit that has a limit of $5,000. Your claim is $2,500.  \\nA $750 excess applies.  \\nSince your claim is less than the benefit limit, we deduct the excess from your claim.  \\nCover: We pay you $1,750.  \\nSituation: We accept your claim under a benefit that has a limit of $2,000. Your claim is $2,500.  \\nA $750 excess applies.  \\nSince the benefit limit is less than your claim, we deduct the excess from the benefit limit.  \\nCover: We pay you $1,250.  \\nPage 5 of 59  \\n<<-- PAGE BREAK -->>'), Document(metadata={'Header 4': '**Important information about your policy**', 'Header 6': '**We provide cover if you pay the premium**'}, page_content='When you take out your policy, you agree to pay us the premium. In return for paying the premium, we provide  \\nthe cover you have chosen.  \\nYou may pay the premium in either:  \\n- one lump sum each year  \\n- instalments by direct debit from an account or credit card you nominate, if we offer you the option of  \\ninstalments.  \\nYour policy schedule shows the amount you need to pay and the due date for the annual premium or each  \\ninstalment.  \\nWhat happens if you do not pay on time  \\nIf any premium is not paid by the due date, we will send you a notice. The notice will outline the overdue  \\namount and when it needs to be paid to keep your policy active.  \\nIf the premium remains unpaid after the date specified in our notice, we will cancel your policy for non\\npayment. If you choose to pay the premium in instalments, cancellation will take effect from the date your  \\npolicy was paid up to.  \\nIf you choose to pay the premium in one lump sum each year but do not pay in full, cancellation will take  \\neffect from the date your new policy started or your existing policy renewed. We will refund any partial  \\npremium paid.  \\nWe will not pay any claim for anything that happens after the cancellation takes effect.  \\nYou may need to make a claim when the premium is overdue but before we cancel your policy for non-payment.  \\nIf this happens, you must pay the overdue amount as part of the claim settlement process.'), Document(metadata={'Header 4': '**Important information about your policy**', 'Header 6': '**What happens when your policy is about to renew**'}, page_content='We will write to you at least 14 days before your policy expires. We will let you know the date and time of  \\nexpiry and advise you if we are prepared to renew your policy. If we offer to renew your policy, we will send  \\nyou an updated policy schedule and quote a renewal premium. You should review any offer of renewal to  \\nensure the insurance cover is still appropriate for you.  \\nIf you paid the last premium by direct debit, we continue to deduct the renewal premium in the same way  \\nfrom the same account or credit card. This means your policy will automatically renew if we offer you a  \\nrenewal. We do this whether you pay in one lump sum each year or in instalments. If you do not want us  \\nto continue to deduct these payments and automatically renew your policy, please contact us before your  \\ncurrent policy expires.  \\nOn renewal, we may change any of the following sums insured to account for general factors that affect the  \\nrepair, replacement or rebuilding cost:  \\n- your home sum insured  \\n- any special feature sums insured  \\n- your contents sum insured.  \\nIf you have specified items under your Contents Insurance, your specified sums insured for these items  \\nwill remain at the value you nominated. As we do not review or change your specified sums insured on  \\nrenewal, you must ask us to update these sums insured if you want them changed.  \\nPage 6 of 59  \\n<<-- PAGE BREAK -->>  \\nIn our offer of renewal, we show you the sums insured that will apply during the next period of insurance.  \\nYou are responsible for checking that the sums insured are enough to cover loss to your home, any special  \\nfeatures or contents. If you do not agree with the sums insured in our offer of renewal, please contact us.'), Document(metadata={'Header 4': '**Important information about your policy**', 'Header 6': '**How we collect and use your personal details**'}, page_content='We collect and hold the personal information you gave us when you applied for your policy, and any further  \\ninformation you give us while insured with us, including when you make a claim.  \\nWe use this information to decide whether and on what terms to provide you with insurance cover, and to  \\nadminister your policy and any claims. To do these things, we may share your personal information with our  \\nservice providers and other parties that have a financial interest in the covered property.  \\nYou have the right to access and correct any information that we hold about you by contacting us.'), Document(metadata={'Header 4': '**Important information about your policy**', 'Header 6': '**You can make a complaint**'}, page_content='Sometimes things do not go to plan and at times you may feel we have let you down. If this happens, please  \\nlet us know. We will do our best to put things right or explain something we could have made clearer.  \\nIf you are still not satisfied, you can make a complaint by contacting us. We will take you through the steps of  \\nthe complaints process and continue to work with you to try and find a resolution.  \\nPage 7 of 59  \\n<<-- PAGE BREAK -->>  \\n|Col1|Col2|Col3|\\n|---|---|---|\\n||||'), Document(metadata={'Header 4': '**Section 1 – Home Comprehensive Insurance**'}, page_content='This section applies if your policy schedule shows you have Home Comprehensive Insurance.'), Document(metadata={'Header 4': '**Section 1 – Home Comprehensive Insurance**', 'Header 5': '**Your cover at a glance**'}, page_content='This table summarises the cover and does not form part of your policy. Your policy sets out full details about  \\n|your cover and the limits, exclusions and conditions that apply.|Col2|\\n|---|---|\\n||Home Comprehensive Insurance|\\n|What we cover|What we cover|\\n|Sudden and accidental loss or damage||\\n|Legal liability||\\n|Automatic cover and benefits|Automatic cover and benefits|\\n|Electronic programs||\\n|Fatal injury||\\n|Hidden gradual damage||\\n|Landscaping||\\n|Methamphetamine contamination||\\n|Natural hazard damage||\\n|New structure build||\\n|Removal of debris||\\n|Replacement of keys and locks||\\n|Sale and purchase||\\n|Stress payment||\\n|Sustainability upgrade||\\n|Temporary accommodation||\\n|Water or sewage pipe blockage||  \\nPage 8 of 59  \\n<<-- PAGE BREAK -->>  \\n|Col1|Home Comprehensive Insurance|\\n|---|---|\\n|Optional benefits|Optional benefits|\\n|Additional costs for heritage homes|Available to purchase|\\n|Excess-free glass and bathroom fixtures|Available to purchase|\\n|Lifestyle block fencing|Available to purchase|\\n|Matching floor coverings|Available to purchase|  \\nPage 9 of 59  \\n<<-- PAGE BREAK -->>'), Document(metadata={'Header 4': '**Section 1 – Home Comprehensive Insurance**', 'Header 5': '**Part one – cover for your home**'}, page_content='In this part, we explain how we cover your home, and what is included and not included as part of your home.  \\nWe also set out what happens and what we pay following loss to your home, including how your sums  \\ninsured are reduced and reinstated.'), Document(metadata={'Header 4': '**Section 1 – Home Comprehensive Insurance**', 'Header 5': '**Part one – cover for your home**', 'Header 6': '**What we cover**'}, page_content='We cover sudden and accidental loss to your home that happens during the period of insurance.'), Document(metadata={'Header 4': '**Section 1 – Home Comprehensive Insurance**', 'Header 5': '**Part one – cover for your home**', 'Header 6': '**What we mean by ‘home’**'}, page_content='In your Home Insurance, ‘home’ means each residential dwelling you own at the property address shown in  \\nyour policy schedule.  \\nWhat ‘home’ also includes  \\nWe also cover the following items you own as part of your home, that are within or on its residential boundary  \\nand used only for domestic purposes:  \\n- permanent outbuildings, including garages, carports, sheds, glasshouses and animal shelters  \\n- fixtures and fittings, including home appliances permanently fitted to the gas, plumbing or electrical supply  \\n- fitted floor coverings, including glued, smooth edge and tacked carpets, and floating floors  \\n- kitchen ovens  \\n- patios, permanently constructed paths and paving, decks, steps, gates and fences.  \\nWe also cover the following items as part of your home, that are used only for domestic purposes:  \\n- Walls, including garden and retaining walls.  \\n- Permanently fixed spa pools and swimming pools, including their necessary equipment such as pumps.  \\n- Tennis courts.  \\n- Permanently sited water storage tanks, septic tanks and heating oil tanks and their associated equipment,  \\nexcluding their contents.  \\n- Solar power and solar water heating systems.  \\n- Permanently constructed driveways you own that provide direct access to your home.  \\n- Service infrastructure you are legally responsible for that supplies your home, such as power and  \\ntelephone lines, data cables, and supply and wastewater pipes. This service infrastructure is not limited to  \\nitems at the property address.  \\nWe also cover the following items you own as part of your home, that are used only for domestic purposes,  \\nor primarily for domestic purposes and to a lesser extent for rural lifestyle purposes:  \\n- outbuildings within or on the residential boundary of your home and that may be used for the storage of any:  \\n- tools  \\n- animal feed  \\n- uninstalled equipment  \\n- machinery and vehicles  \\n- bridges, culverts, permanent fords and dams  \\n- wells and boreholes including their pumps, linings and casings  \\n- private utility plant and associated equipment, such as wind and water mills, and diesel generators.  \\nPage 10 of 59  \\n<<-- PAGE BREAK -->>  \\nWhat ‘home’ also includes, but only if noted as a special feature  \\nWe only cover the following items if your policy schedule shows the item as a special feature with a special  \\nfeature sum insured:  \\n- wharfs, piers, landings or jetties  \\n- cable cars or their associated equipment.  \\nWhat ‘home’ does not include  \\nWe do not cover any:  \\n- Parts of your home that are used for business or commercial purposes, except if:  \\n- your home is rented out as a residential property  \\n- the part of your home is used only as a home office for clerical purposes.  \\n- Parts of your home that are built for or used for farming or rural lifestyle purposes, whether commercial  \\nor not. Examples are stables, barns or other farm buildings that provide animal shelter, outbuildings used  \\nprimarily to store animal feed or machinery, or fences.  \\nHowever, this does not apply to the extent cover is provided:  \\n- for the limited rural lifestyle use of certain items described above in ‘What ‘home’ also includes’  \\n- under the ‘Lifestyle block fencing’ optional benefit.  \\n- Parts of your home that are being constructed, de-constructed or undergoing alterations and not  \\nsuitable for permanent residential use or occupation, except as provided under the ‘New structure build’  \\nautomatic benefit.  \\n- Temporary structures.  \\n- Loose gravel or shingle, including gravel or shingle driveways, patios, paths or paving.  \\n- Fittings not permanently attached, such as curtains or blinds.  \\n- Loose floor coverings, such as mats, rugs or runners.  \\n- Appliances not permanently fitted to the gas, plumbing or electrical supply, except kitchen ovens.  \\n- Household goods and personal effects.  \\n- Live plants, including trees, shrubs, hedges or grass, except as provided under the ‘Landscaping’  \\nautomatic benefit.  \\n- Land, earth or fill.  \\n- Structures or property not at the property address shown in your policy schedule.'), Document(metadata={'Header 4': '**Section 1 – Home Comprehensive Insurance**', 'Header 5': '**Part one – cover for your home**', 'Header 6': '**What we pay – the most we pay**'}, page_content='The following clauses set out the most we pay for loss to your home.  \\nWhen the most we pay is the replacement cost up to your total sum insured  \\nThe most we pay for loss to your home for an event is your total sum insured, if either:  \\n- your policy schedule shows the basis of settlement is ‘Sum insured replacement’  \\n- your policy schedule shows the basis of settlement is ‘Replacement’ but the loss is not as a result of fire  \\nor explosion.  \\nPage 11 of 59  \\n<<-- PAGE BREAK -->>  \\n**Home sum insured**  \\nThe most we pay for loss to your home for an event, excluding special features, is your home sum insured.  \\nHowever, within your home sum insured, the most we pay in total for an event for loss to:  \\n- all retaining walls is $50,000  \\n- a permanently fixed swimming pool, including its necessary equipment such as pumps is $50,000  \\n- a bridge, culvert, permanent ford or dam is $15,000.  \\nThese limits do not apply if your policy schedule shows the item as a special feature with a special feature  \\nsum insured.  \\n**Special feature sum insured**  \\nThe most we pay for loss to a special feature for an event is its special feature sum insured.  \\n**Total sum insured**  \\nThe most we pay for loss under ‘Part one’ of your Home Insurance in total for an event is your total sum  \\ninsured.  \\nYour total sum insured includes:  \\n- your home sum insured  \\n- any special feature sums insured  \\n- all automatic and optional benefits, unless stated otherwise in a benefit.  \\n**Home sum insured**  \\n- cost to rebuild your home  \\n- all retaining walls up to $50,000  \\n- a permanently fixed swimming  \\npool, including its necessary  \\nequipment such as pumps,\\nup to $50,000  \\n- a bridge, culvert, permanent\\nford or dam up to $15,000  \\n**Special feature sums insured**  \\n- all retaining walls over $50,000  \\n- a permanently fixed swimming  \\npool, including its necessary  \\nequipment such as pumps,\\nover $50,000  \\n- a bridge, culvert, permanent\\nford or dam over $15,000  \\n- a wharf, pier, landing or jetty  \\n- a cable car and its associated  \\nequipment  \\nPage 12 of 59  \\n**Total sum**  \\n**insured**  \\nincludes all  \\nautomatic  \\nand optional  \\nbenefits, unless  \\nstated otherwise  \\nin a benefit  \\n<<-- PAGE BREAK -->>  \\nExample of what we pay if your home is covered for ‘Sum insured replacement’  \\nSituation: We accept a claim for loss to your home and retaining wall as a result of a fire that starts in the  \\nkitchen. We decide your home and retaining wall are a total loss. You choose to rebuild on the same site.  \\nYour policy schedule shows:  \\n- Basis of settlement: ‘Sum insured replacement’  \\n- Home sum insured: $550,000  \\n- Special feature sum insured for retaining walls: $70,000.  \\nCover: As your home is covered for ‘Sum insured replacement’, the limits of your home sum insured and  \\nspecial feature sum insured for retaining walls apply.  \\nWe pay you $620,000 to settle your claim, less the excess and any unpaid premium instalments. This\\namount is the cost to replace your home up to its home sum insured of $550,000 and the cost to rebuild\\nyour retaining wall up to its special feature sum insured of $70,000.  \\nWhen the most we pay is the replacement cost  \\nThe most we pay for loss to your home for an event, excluding special features, is its replacement cost up  \\nto the floor area shown in your policy schedule, if all the following apply:  \\n- your policy schedule shows the basis of settlement is ‘Replacement’  \\n- the loss is as a result of fire or explosion that is not caused by a natural hazard  \\n- you repair or rebuild your home.  \\nThe limit of your home sum insured does not apply.  \\n**Limits still apply to certain items unless noted as a special feature**  \\nUnless your policy schedule shows the item as a special feature with a special feature sum insured, the  \\nmost we pay in total for an event for loss to:  \\n- all retaining walls is $50,000  \\n- a permanently fixed swimming pool, including its necessary equipment such as pumps is $50,000  \\n- a bridge, culvert, permanent ford or dam is $15,000.  \\nThe most we pay for loss to a special feature for an event is its special feature sum insured.  \\nHowever, the limit of your special feature sum insured does not apply if both the following conditions are met:  \\n- you gave us an insurance valuation for the special feature before the loss  \\n- your policy schedule shows the date of the insurance valuation for the special feature.  \\nPage 13 of 59  \\n<<-- PAGE BREAK -->>  \\nExample of what we pay if your home is covered for ‘Replacement’  \\nSituation: We accept a claim for loss to your home and retaining wall as a result of a fire that starts in the  \\nkitchen. We decide your home and retaining wall are a total loss. You choose to rebuild on the same site.  \\nYour policy schedule shows:  \\n- Basis of settlement: ‘Replacement’  \\n- Floor area: 150m [2]  \\n- Home sum insured: $550,000  \\n- Special feature sum insured for retaining walls: $70,000.  \\nCover: As your home is covered for ‘Replacement’ and the loss is as a result of fire, the limit of your  \\nhome sum insured does not apply.  \\nAs you have not provided an insurance valuation for your retaining wall before the loss, the limit of your  \\nspecial feature sum insured for retaining walls still applies.  \\nWe determine the cost to rebuild your 150m [2] home to the standard set out in ‘Standard of repair or\\nrebuild’ is $600,000. We pay you $670,000 to settle your claim, less the excess and any unpaid premium\\ninstalments. This amount is the cost to replace your home of $600,000 and the cost to rebuild your\\nretaining wall up to its special feature sum insured of $70,000.  \\nWhen your sums insured are reduced  \\nWhen a claim is payable by us, or under the NHI Act, for loss to your home or special feature, the  \\napplicable sum insured and your total sum insured are reduced. These sums insured reduce from the time  \\nof the loss, by the amount required to repair that loss.  \\n**Pre-existing loss**  \\nIf at the start of the period of insurance your home or special feature has pre-existing unrepaired loss, the  \\napplicable sum insured and your total sum insured are reduced. These sums insured reduce from the start  \\nof the period of insurance, by the amount required to repair that loss. The loss must have been covered  \\nunder a previous period of insurance, another policy or the NHI Act.  \\nExample of how your sums insured are reduced after we settle a claim  \\nSituation: We accept a claim for damage to your retaining wall and determine the cost of repair is $60,000.  \\nYour policy schedule shows:  \\n- Special feature sum insured for retaining walls: $100,000  \\n- Total sum insured: $700,000.  \\nCover: Your special feature sum insured is reduced by $60,000 (the cost of repair). Your special feature\\nsum insured is now $40,000 ($100,000 less the cost of repair). Your total sum insured is therefore\\n$640,000 ($700,000 less the cost of repair).  \\nWhen your sums insured are reinstated  \\nAll sums insured that were reduced by ‘When your sums insured are reduced’ above are reinstated when,  \\nand to the extent that, any payment is applied to repair your home or special feature.  \\nPage 14 of 59  \\n<<-- PAGE BREAK -->>  \\nWhen property is shared  \\nThe most we pay for loss to a shared part of your home is your legal share of the reasonable cost to repair or  \\nrebuild that shared part.  \\nIn this clause, a ‘shared part’ means a part of your home that you and other property owners either jointly  \\nown or are jointly responsible for.  \\nExamples of shared parts of a home:  \\n- driveways  \\n- walls, including garden and retaining walls  \\n- gates and fences  \\n- data cables, supply and wastewater pipes.'), Document(metadata={'Header 4': '**Section 1 – Home Comprehensive Insurance**', 'Header 5': '**Part one – cover for your home**', 'Header 6': '**What we pay – how we settle a claim**'}, page_content='The following clauses set out how we settle a claim for loss to your home. These clauses are subject to ‘What  \\nwe pay – the most we pay’.  \\nWhen your home is economic to repair  \\nIf we decide it is economic to repair the loss to your home, at our option we pay you either:  \\n- the reasonable cost you incur to repair the part of your home that sustained loss  \\n- our estimate of the reasonable cost you would incur to repair the part of your home that sustained loss.  \\nWhen your home is a total loss  \\nIf we decide your home is a total loss, at our option we pay you one of the following:  \\n- the reasonable cost you incur to rebuild the part of your home that sustained loss  \\n- our estimate of the reasonable cost you would incur to rebuild the part of your home that sustained loss,  \\nless any demolition and removal costs we incurred  \\n- the reasonable cost you incur to buy another home anywhere in New Zealand including reasonable legal  \\nand associated fees, if you choose to buy another home.  \\nHowever, if you sell your home before we settle your claim, the most we pay is the lower amount of either:  \\n- your total sum insured  \\n- the difference between the market value of your home immediately before and immediately after the loss,  \\nplus demolition and removal costs we determine are necessary.  \\nWe deduct any costs covered under your Home Insurance that we have met up to the date on which the  \\nsale settles.  \\nYou may assign your entitlement to this payment to the purchaser. The condition ‘We must approve any  \\nassignment of your insurance’ does not apply to this payment.  \\nPage 15 of 59  \\n<<-- PAGE BREAK -->>  \\nStandard of repair or rebuild  \\nSettlement is based on the reasonable cost to repair or rebuild the part of your home that sustained loss to  \\nan equivalent size and specification on its original site within a reasonable time frame. We pay to repair or  \\nrebuild to a condition as near as reasonably possible to when it was new, using current industry accepted  \\nbuilding materials and construction methods.  \\nWe do not cover any of the following:  \\n- additional materials, work or expense required only to comply with government or local authority bylaws or\\nregulations, except as provided under ‘Compliance costs’ below  \\n- design, engineers’, surveyors’ or building consultants’ fees, or consents or other associated legal fees,  \\nexcept as provided under ‘Professional and other fees’ below  \\n- additional costs or fees required only to comply with any heritage covenant or order if your home or the  \\nproperty address shown in your policy schedule is either:  \\n- registered with Heritage New Zealand Pouhere Taonga  \\n- identified by the local council as a heritage building or being in a heritage zone.  \\nHowever, this does not apply to the extent cover is provided under the ‘Additional costs for heritage homes’  \\noptional benefit.  \\nCompliance costs  \\nIf you repair or rebuild your home, we also include the reasonable cost of additional materials, work and  \\nexpense required only to comply with government or local authority bylaws and regulations. We only pay  \\nthese costs for the part of your home that sustained loss that we accept a claim for.  \\nWe do not pay compliance costs if any of the following applies:  \\n- your home does not comply with all requirements that existed at the time it was originally built and at the  \\ntime of any alteration  \\n- notice of non-compliance had already been served before the loss  \\n- you choose not to repair or rebuild your home.  \\nProfessional and other fees  \\nIf you repair or rebuild your home, we also include the reasonable cost of:  \\n- design, engineers’, surveyors’ and building consultants’ fees  \\n- consents and associated legal fees.  \\nThese costs must be necessary to repair or rebuild the part of your home that sustained loss and be  \\napproved by us before they are incurred.  \\nWe do not pay these costs if you choose not to repair or rebuild your home.  \\nDemolition and removal costs  \\nIf we accept a claim for loss to your home, we also include the reasonable cost to:  \\n- demolish the part of your home that sustained loss so that part can be repaired or rebuilt, and the  \\nassociated debris removed  \\n- remove household contents to enable your home to be repaired or rebuilt, but not the cost of storing them  \\nor returning them to your home.  \\nThese costs must be necessary and approved by us before they are incurred.  \\nPage 16 of 59  \\n<<-- PAGE BREAK -->>  \\nIf we pay to demolish any part of your home, this gives us the choice to take the debris and dispose of it as  \\nwe see fit and retain any salvage.  \\nCosts not covered  \\nWe do not pay for any of the following:  \\n- Stabilising, supporting, preparing, repairing, restoring or other treatment of land, earth or fill. This applies  \\neven if this work is either:  \\n- necessary to comply with regulations to permit the repair or rebuild of the part of your home that  \\nsustained loss  \\n- covered under the NHI Act.  \\n- The cost of engaging another person to prepare, advise on, or negotiate a claim made under your Home  \\nInsurance.  \\n- Costs relating to an undamaged part of your home, unless we decide this is necessary to repair or rebuild  \\nthe loss covered.  \\nPage 17 of 59  \\n<<-- PAGE BREAK -->>'), Document(metadata={'Header 4': '**Section 1 – Home Comprehensive Insurance**', 'Header 5': '**Part one – automatic benefits**'}, page_content='You automatically get the following benefits. The terms and conditions of your policy apply.  \\nThe amounts we pay under these benefits are included in the amounts payable under ‘Part one – cover for  \\nyour home’, unless stated otherwise in a benefit.'), Document(metadata={'Header 4': '**Section 1 – Home Comprehensive Insurance**', 'Header 5': '**Part one – automatic benefits**', 'Header 6': '**Electronic programs**'}, page_content='If we pay a claim for loss to your home’s electronic equipment, we also pay the necessary and reasonable  \\ncost you incur to restore, reprogram or reset its programs, software and other coded instructions.  \\nWe do not cover the loss of any data, or the loss of use or reduced functionality of any data, stored on any of  \\nthat electronic equipment.'), Document(metadata={'Header 4': '**Section 1 – Home Comprehensive Insurance**', 'Header 5': '**Part one – automatic benefits**', 'Header 6': '**Fatal injury**'}, page_content='If we accept a claim for loss to your home from fire, burglary, theft or home invasion resulting in you or your\\nfamily being fatally injured, we pay your or their legal representative $10,000.  \\nThe most we pay for an event is $10,000. If more than one person is entitled to cover under this benefit, we  \\ndivide that amount equally between the people.  \\nThe amount we pay is in addition to any payment under ‘Part one – cover for your home’.  \\nIf you have other fatal injury cover with us, we only pay one benefit under all policies in total for an event,  \\nbeing the benefit most favourable to you.  \\nIn this benefit, ‘family’ means your partner, and any family member permanently living with you or who is a  \\nstudent living away from home while attending a school or tertiary institution.'), Document(metadata={'Header 4': '**Section 1 – Home Comprehensive Insurance**', 'Header 5': '**Part one – automatic benefits**', 'Header 6': '**Hidden gradual damage**'}, page_content='We cover accidental hidden gradual damage to your home that first happens, and is discovered, while you  \\nhave your home insured with us.  \\nWe do not cover the cost to repair the cause of the hidden gradual damage. However, we cover any other  \\npart of your home that is not directly affected but must be damaged or destroyed to locate or repair the  \\ncause of the hidden gradual damage. We must approve this work first.  \\nThe most we pay during the period of insurance is $3,000.  \\nExample of what we pay under the ‘Hidden gradual damage’ automatic benefit  \\nSituation: You discover part of your bathroom wall has rotted away due to water damage. Your plumber  \\ndetermines that the damage is caused by a leaking internal water pipe and makes a hole in the wall to  \\nlocate and repair the source of the leak.  \\nCover: We pay up to $3,000 to repair the water damage to your bathroom wall and the hole in the wall  \\nmade by your plumber, less the excess. We do not pay to locate and repair the source of the leak.  \\nPage 18 of 59  \\n<<-- PAGE BREAK -->>'), Document(metadata={'Header 4': '**Section 1 – Home Comprehensive Insurance**', 'Header 5': '**Part one – automatic benefits**', 'Header 6': '**Landscaping**'}, page_content='We pay the reasonable cost you incur to restore or reconstruct the garden or lawn within or on the residential  \\nboundary of your home, if either:  \\n- the garden or lawn sustained loss, and we accept a claim for loss to your home from the same event  \\n- the garden or lawn sustained loss as a result of your home being repaired or rebuilt following loss that we  \\naccepted a claim for.  \\nThe most we pay for an event is $1,500.  \\nThe amount we pay is in addition to any payment under ‘Part one – cover for your home’.'), Document(metadata={'Header 4': '**Section 1 – Home Comprehensive Insurance**', 'Header 5': '**Part one – automatic benefits**', 'Header 6': '**Methamphetamine contamination**'}, page_content='We cover contamination damage to your home that first happens, and is discovered, during the period of  \\ninsurance, subject to the following:  \\nContamination damage by you and certain others not covered  \\nWe do not cover contamination damage caused by, or connected to, any of the following:  \\n- you or a member of your family  \\n- your partner or a member of their family.  \\nIn this exclusion, ‘you’ includes any trustee or beneficiary of the trust if your home is owned by a trust.  \\n‘You’ includes any director or shareholder of the company if your home is owned by a company, or any unit  \\ntitle holder.  \\nIf your home is not your main residence  \\nIf your home is not your main residence, we do not cover contamination damage connected to any:  \\n- Tenancy or occupancy of more than 90 days.  \\n- Holiday home, or tenancy or occupancy of 90 days or fewer. This does not apply if the contamination  \\ndamage is caused by an accidental incident. That incident must be connected to the manufacture,  \\ndistribution, or storage connected with supply or distribution, of methamphetamine at your home.  \\nIf your home is rented out for more than 90 days, we offer a separate policy for landlords. Please contact  \\nus for further information about the Landlord’s Home Insurance policy.  \\nPre-existing contamination damage  \\nWe do not cover contamination damage if any contamination existed or happened before the period of  \\ninsurance, unless either:  \\n- you told us about the pre-existing contamination and we accepted this in writing  \\n- you have continuously insured your home with us under this policy or under any other policy underwritten  \\nby us, since the contamination damage first happened.  \\nPage 19 of 59  \\n<<-- PAGE BREAK -->>  \\nWhat we pay  \\nIf we provide cover under this benefit, all the following apply:  \\n- We reimburse you for the reasonable cost you incur during the period of insurance for testing, if both the  \\nfollowing apply:  \\n- the testing is carried out according to New Zealand Standard NZS 8510 or by an operator approved by us  \\n- the testing confirms contamination damage to your home.  \\n- At our option, we pay you either:  \\n- the reasonable cost you incur to remediate the part of your home that sustained contamination damage  \\n- our estimate of the reasonable cost you would incur to remediate the part of your home that sustained  \\ncontamination damage.  \\n- The most we pay for a contamination claim for each residential dwelling shown in your policy schedule\\nis $30,000.  \\n- We deduct the ‘Methamphetamine contamination excess’ for a contamination claim for each residential  \\ndwelling. The ‘Methamphetamine contamination excess’ and each residential dwelling are shown in your  \\npolicy schedule.  \\n‘Remediate’ means we pay to reduce the level of methamphetamine contamination at your home to below  \\nthe contamination level, not to remove all traces of methamphetamine contamination.'), Document(metadata={'Header 4': '**Section 1 – Home Comprehensive Insurance**', 'Header 5': '**Part one – automatic benefits**', 'Header 6': '**Natural hazard damage**'}, page_content='We cover sudden and accidental loss to your home caused by a natural hazard.  \\nWhen the property is covered under the NHI Act  \\nIf NHCover applies, we pay the difference between:  \\n- your maximum entitlement for the loss to your home under the NHI Act  \\n- the amount payable for the loss under ‘What we pay – the most we pay’ and ‘What we pay – how we settle  \\na claim’.  \\nWe do not cover the excess you must pay under the NHI Act.  \\nIn this benefit, when we say ‘NHCover applies’, we mean the loss to your home is covered under the NHI Act,  \\nor would have been covered except that any of the following happens:  \\n- you fail to notify a claim to the Natural Hazards Commission Toka Tū Ake (NHC) or its agent within the time  \\nrequired under the NHI Act  \\n- the NHC or its agent declines a claim or limits their liability for the loss for any reason  \\n- an act or omission by you, your agent, or the NHC affects or limits the NHCover available.  \\nWhen the property is not covered under the NHI Act  \\nIf we pay a claim for loss to part of your home that the NHI Act does not cover, we deduct the ‘Non-NHI Act  \\nproperty natural hazard damage excess’ shown in your policy schedule. We settle your claim for this part of  \\nyour home according to the terms and conditions under ‘What we pay – the most we pay’ and ‘What we pay –  \\nhow we settle a claim’.  \\nPage 20 of 59  \\n<<-- PAGE BREAK -->>  \\nThe most you receive  \\nThe most that you are entitled to receive for all loss caused by a natural hazard for an event is your total\\nsum insured (less any excesses that apply). This applies whether that amount is paid by us or under the NHI  \\nAct, or a combination of both.  \\nExamples of parts of your home that the NHI Act does not cover:  \\n- permanent surfaces of driveways  \\n- gates or fences  \\n- patios, paths, paving, tennis courts or other artificial surfaces  \\n- swimming pools or spa pools.'), Document(metadata={'Header 4': '**Section 1 – Home Comprehensive Insurance**', 'Header 5': '**Part one – automatic benefits**', 'Header 6': '**New structure build**'}, page_content='We cover sudden and accidental loss to:  \\n- A new structure being built within or on the residential boundary of your home, if you own it or are responsible  \\nfor it while it is being built. The new structure must be covered under your Home Insurance when complete.  \\n- Materials within or on the residential boundary of your home that are to be included in the new structure  \\nabove.  \\nThe loss must be caused by any:  \\n- fire, explosion or lightning  \\n- storm or flood, but not exposure to normal weather conditions  \\n- riot or labour disturbance  \\n- impact by aircraft or other aerial or spatial device, or an item dropped from them  \\n- impact by motor vehicle or animal.  \\nThe most we pay during the period of insurance is $10,000.  \\nWe do not cover the new structure or materials in any of the following situations:  \\n- the expected value of the completed work, or the price of the contract including materials, is more than\\n$10,000  \\n- the work alters any part of the existing home  \\n- the work involves excavation more than 1 metre deep  \\n- the new structure has not been granted a building consent or similar, if one is required.'), Document(metadata={'Header 4': '**Section 1 – Home Comprehensive Insurance**', 'Header 5': '**Part one – automatic benefits**', 'Header 6': '**Replacement of keys and locks**'}, page_content='You do not pay an excess if your claim is only for any key, including any electronic key, swipe card or\\nequivalent device (or combination), if the key is both:  \\n- to access your home, or any safe or strongroom in your home  \\n- lost, stolen or believed on reasonable grounds to have been duplicated without your permission.  \\nWe pay the cost you incur to:  \\n- replace any key to your home and alter or replace the locks that the key was for  \\n- open any safe or strongroom.  \\nPage 21 of 59  \\n<<-- PAGE BREAK -->>  \\nIf you have other keys and locks cover with us, we only pay one benefit under all policies in total for an event,  \\nbeing the benefit most favourable to you.  \\nIf any key to your home sustains sudden and accidental damage, we settle your claim according to the terms  \\nand conditions under ‘Part one – cover for your home’. We deduct the applicable excess from your claim  \\nsettlement.'), Document(metadata={'Header 4': '**Section 1 – Home Comprehensive Insurance**', 'Header 5': '**Part one – automatic benefits**', 'Header 6': '**Sale and purchase**'}, page_content='If we accept a claim for loss to your home that happens after you enter into an unconditional contract to sell  \\nyour home, we cover the purchaser for that loss. We cover them until the final settlement, or until they take  \\npossession of your home, whichever happens first.  \\nThe purchaser must both:  \\n- meet the terms and conditions of your Home Insurance  \\n- have no other insurance for the home at the time of the loss.'), Document(metadata={'Header 4': '**Section 1 – Home Comprehensive Insurance**', 'Header 5': '**Part one – automatic benefits**', 'Header 6': '**Stress payment**'}, page_content='If we decide the residential dwelling that forms part of your home is a total loss, we also pay you $2,000 for  \\nthe stress caused by the loss.  \\nThe amount we pay is in addition to any payment under ‘Part one – cover for your home’.  \\nIf you have other stress payment cover with us, we only pay one benefit under all policies in total for an event,  \\nbeing the benefit most favourable to you.'), Document(metadata={'Header 4': '**Section 1 – Home Comprehensive Insurance**', 'Header 5': '**Part one – automatic benefits**', 'Header 6': '**Sustainability upgrade**'}, page_content='If we decide the residential dwelling that forms part of your home is a total loss, we pay up to $15,000 to  \\nupgrade your home with sustainable products. Both the following must apply:  \\n- you rebuild your home  \\n- we approve the sustainable products.  \\nThe amount we pay is in addition to any payment under ‘Part one – cover for your home’.  \\nIn this benefit, ‘sustainable products’ means:  \\n- products that make the use of energy or water at home more efficient  \\n- rebuilding materials that reduce environmental impacts.  \\nExamples of sustainable products:  \\n- solar water heating systems  \\n- home sprinkler systems  \\n- heat pumps  \\n- rainwater collection tanks  \\n- best practice insulation as recommended by Standards New Zealand  \\n- environmentally friendly paint  \\n- pellet burners.  \\nPage 22 of 59  \\n<<-- PAGE BREAK -->>'), Document(metadata={'Header 4': '**Section 1 – Home Comprehensive Insurance**', 'Header 5': '**Part one – automatic benefits**', 'Header 6': '**Temporary accommodation**'}, page_content='If your home is your main residence, we pay the reasonable additional cost you incur for temporary  \\naccommodation that is of a similar standard to your home. We pay this cost for you, your partner, any family  \\nmember permanently living with you, and your domestic pets, if either:  \\n- your home is unliveable because of loss or contamination damage  \\n- your home is liveable but a government or local authority order requires you to evacuate because of  \\nimpending damage.  \\nThe loss, contamination damage, or impending damage must be covered under your Home Insurance, or  \\nwould have been but is covered under the NHI Act instead.  \\nCover under this benefit ends when one of the following happens:  \\n- When we settle your claim for the loss or contamination damage.  \\n- When the evacuation order is lifted. However, cover may continue if the impending damage has caused  \\nloss to your home that leaves it unliveable.  \\nAs set out in ‘What we pay – how we settle a claim’, we may settle your claim for the loss or contamination  \\ndamage by paying our estimate of the cost to repair, rebuild or remediate. If we settle your claim in this way,  \\nwe pay the additional cost of temporary accommodation for the reasonable estimated time the work would take.  \\nThe most we pay for an event or a contamination claim for each residential dwelling shown in your policy\\nschedule is $30,000.  \\nThe amount we pay is in addition to any payment under ‘Part one – cover for your home’.  \\nIf you have other temporary accommodation cover with us, we only pay one benefit under all policies in total for  \\neach residential dwelling for an event or a contamination claim. We pay the benefit most favourable to you.  \\nExample of what we pay under the ‘Temporary accommodation’ automatic benefit  \\nSituation: You are ordered by a local authority to evacuate your home due to an impending cyclone that  \\nis expected to cause widespread flooding in your area. As your home is your main residence, you contact  \\nus and let us know that you have arranged temporary accommodation similar to your home. After the  \\nevacuation order is lifted, you discover your home is unliveable because of the flood damage caused by  \\nthe cyclone.  \\nCover: We pay for your temporary accommodation until the evacuation order is lifted. As the cyclone has\\nleft your home unliveable we continue to pay for your temporary accommodation, up to $30,000 in total.  \\nWe do this until we settle your claim for the damage to your home.'), Document(metadata={'Header 4': '**Section 1 – Home Comprehensive Insurance**', 'Header 5': '**Part one – automatic benefits**', 'Header 6': '**Water or sewage pipe blockage**'}, page_content='You do not pay an excess if your claim is only for clearing a blocked underground water or sewage pipe you  \\nare legally responsible for.  \\nWe do not cover any other maintenance costs.  \\nThe most we pay during the period of insurance is $500.  \\nPage 23 of 59  \\n<<-- PAGE BREAK -->>'), Document(metadata={'Header 4': '**Section 1 – Home Comprehensive Insurance**', 'Header 5': '**Part one – optional benefits**'}, page_content='The following benefits are optional benefits. Cover only applies if your policy schedule shows that you have  \\npurchased the benefit. The terms and conditions of your policy apply.  \\nThe amounts we pay under these benefits are included in the amounts payable under ‘Part one – cover for  \\nyour home’.'), Document(metadata={'Header 4': '**Section 1 – Home Comprehensive Insurance**', 'Header 5': '**Part one – optional benefits**', 'Header 6': '**Additional costs for heritage homes**'}, page_content='If your home sustains loss that we accept a claim for, we pay the reasonable additional costs and fees you  \\nincur that are required only to comply with any heritage covenant or order. We only pay these costs and fees  \\nif you repair or rebuild your home on the same site.  \\nYour home or the property address shown in your policy schedule must be either:  \\n- registered with Heritage New Zealand Pouhere Taonga  \\n- identified by the local council as a heritage building or being in a heritage zone.  \\nWe only pay to replicate heritage features if the techniques are still commonly used and the building materials  \\nare readily available in New Zealand.'), Document(metadata={'Header 4': '**Section 1 – Home Comprehensive Insurance**', 'Header 5': '**Part one – optional benefits**', 'Header 6': '**Excess-free glass and bathroom fixtures**'}, page_content='You do not pay an excess if your claim is only for sudden and accidental breakage of any of the following at  \\nyour home:  \\n- glass in windows, doors (including oven and fire doors), screens, cooktops, fixed lampshades, permanently  \\nfixed mirrors or built-in furniture  \\n- sinks, baths, wash basins, toilet bowls, shower cabinets or bases, or bidets.'), Document(metadata={'Header 4': '**Section 1 – Home Comprehensive Insurance**', 'Header 5': '**Part one – optional benefits**', 'Header 6': '**Lifestyle block fencing**'}, page_content='We pay the reasonable cost you incur to repair or replace your lifestyle block fencing if it sustains sudden and  \\naccidental loss.  \\nThe most we pay for an event is $5,000.  \\nWe do not cover shelter belts.'), Document(metadata={'Header 4': '**Section 1 – Home Comprehensive Insurance**', 'Header 5': '**Part one – optional benefits**', 'Header 6': '**Matching floor coverings**'}, page_content='If we accept a claim for loss to fitted floor coverings of your home, we also pay the reasonable cost you incur  \\nto replace identical floor coverings in other rooms of that dwelling or outbuilding.  \\nWe only do this if we decide that replacement is required and we cannot get a matching replacement.  \\nPage 24 of 59  \\n<<-- PAGE BREAK -->>'), Document(metadata={'Header 4': '**Section 1 – Home Comprehensive Insurance**', 'Header 5': '**Part two – your legal liability**'}, page_content='In this part, we explain how we cover your legal liability as the property owner for loss to another person’s  \\nproperty or for injury to another person. We also set out the most we pay for your legal liability.'), Document(metadata={'Header 4': '**Section 1 – Home Comprehensive Insurance**', 'Header 5': '**Part two – your legal liability**', 'Header 6': '**What we cover**'}, page_content='We cover your legal liability resulting from:  \\n- accidental loss to another person’s property  \\n- injury to another person.  \\nCover applies if the loss or injury is caused by or through, or is connected to, your ownership of your home  \\nor its grounds. The loss or injury must happen during the period of insurance in New Zealand.  \\nCover includes:  \\n- defence and other legal costs and expenses incurred, that we approve first  \\n- costs that a court orders you to pay  \\n- reparation.'), Document(metadata={'Header 4': '**Section 1 – Home Comprehensive Insurance**', 'Header 5': '**Part two – your legal liability**', 'Header 6': '**What we pay**'}, page_content='Limits apply to what we pay for your legal liability.  \\nThe most we pay for your legal liability  \\nThe most we pay for an event, including your legal liability, costs, expenses and reparation, is $2,000,000.  \\nThe amount we pay is in addition to any other payment under your Home Insurance.  \\nFull and final settlement for your legal liability  \\nWe may pay the full amount under this part of your Home Insurance, or any lesser amount for which  \\nyour legal liability can be settled. This payment will meet all our obligations under this part of your Home  \\nInsurance.  \\nPage 25 of 59  \\n<<-- PAGE BREAK -->>'), Document(metadata={'Header 4': '**Section 2 – Contents Comprehensive** **Insurance**'}, page_content='This section applies if your policy schedule shows you have Contents Comprehensive Insurance.'), Document(metadata={'Header 4': '**Section 2 – Contents Comprehensive** **Insurance**', 'Header 5': '**Your cover at a glance**'}, page_content='This table summarises the cover and does not form part of your policy. Your policy sets out full details about  \\n|your cover and the limits, exclusions and conditions that apply.|Col2|\\n|---|---|\\n||Contents Comprehensive Insurance|\\n|What we cover|What we cover|\\n|Sudden and accidental loss or damage||\\n|Legal liability||\\n|Automatic cover and benefits|Automatic cover and benefits|\\n|Contents in storage||\\n|Contents in transit when you are moving house||\\n|Contents with you or your family on overseas trips||\\n|Cover when replacing a whiteware appliance with a more<br>energy-efficient model||\\n|Electronic data and programs||\\n|Fatal injury||\\n|Food spoilage||\\n|Hidden gradual damage||\\n|Home office equipment||\\n|Identity theft||\\n|Moving to a new home||\\n|Removal of unrepairable items||  \\nPage 26 of 59  \\n<<-- PAGE BREAK -->>  \\n|Col1|Contents Comprehensive Insurance|\\n|---|---|\\n|Automatic cover and benefits (continued)|Automatic cover and benefits (continued)|\\n|Replacement of keys and locks||\\n|Stress payment||\\n|Students living away from home||\\n|Temporary accommodation||\\n|Optional benefits|Optional benefits|\\n|Excess-free spectacles, dentures and hearing aids|Available to purchase|\\n|Lifestyle block contents and tools of trade|Available to purchase|  \\nPage 27 of 59  \\n<<-- PAGE BREAK -->>'), Document(metadata={'Header 4': '**Section 2 – Contents Comprehensive** **Insurance**', 'Header 5': '**Part one – cover for contents**'}, page_content='In this part we explain how we cover contents, and the items that are included and not included as part of  \\ncontents. We also set out what happens and what we pay following loss to different types of contents.'), Document(metadata={'Header 4': '**Section 2 – Contents Comprehensive** **Insurance**', 'Header 5': '**Part one – cover for contents**', 'Header 6': '**What we cover**'}, page_content='We cover sudden and accidental loss to contents that happens during the period of insurance while they  \\nare in New Zealand in any of the following situations:  \\n- at your home  \\n- in your possession or in the possession of your family while in transit from the place where they were  \\nacquired to your home  \\n- temporarily away from your home.'), Document(metadata={'Header 4': '**Section 2 – Contents Comprehensive** **Insurance**', 'Header 5': '**Part one – cover for contents**', 'Header 6': '**What we mean by ‘contents’**'}, page_content='In your Contents Insurance, ‘contents’ means household goods and personal effects that you or your family  \\nowns or is legally responsible for.  \\nContents also includes gifts another person owns that are being kept at your home, and contents your  \\nchildren own that are left with you while they live outside New Zealand.  \\nWhat ‘contents’ includes, but only if your home policy does not provide cover  \\nWe only cover the following items that you or your family owns or is legally responsible for, if your home is  \\ninsured by a policy that does not cover them:  \\n- fixtures or fittings permanently attached to your home, including home appliances permanently fitted to the  \\ngas, plumbing or electrical supply  \\n- fitted floor coverings of the dwelling or domestic outbuildings, including glued, smooth edge or tacked  \\ncarpets, or floating floors  \\n- kitchen ovens.  \\nWhat ‘contents’ does not include  \\nWe do not cover any:  \\n- Fixed spa pools or swimming pools.  \\n- Items used at any time for business, trade or commercial purposes, except as provided under the ‘Home  \\noffice equipment’ automatic benefit or ‘Lifestyle block contents and tools of trade’ optional benefit.  \\n- Digital or virtual currency such as cryptocurrency, or non-fungible tokens (NFTs).  \\n- Animals or other creatures.  \\n- Live plants, except for pot plants.  \\n- Prosthetics, implants or devices permanently attached to or inside the body of any person or animal, such  \\nas dental crowns, artificial hips or pacemakers.  \\n- Motor vehicles, trailers or caravans, except for the following items and their parts and accessories:  \\n- Domestic garden appliances.  \\n- Electric wheelchairs and mobility scooters.  \\n- Golf carts.  \\nPage 28 of 59  \\n<<-- PAGE BREAK -->>  \\n- Children’s motorbikes not exceeding 50cc used only off road.  \\n- Motorised personal transportation devices that meet the definition of ‘motor vehicle’ in the Land  \\nTransport Act 1998, but only if shown as specified items. These devices include electric scooters with a  \\nmaximum power output of over 300 watts, motorised skateboards, e-roller skates or e-unicycles.\\n(Lower-powered electric scooters are covered as part of contents and do not need to be specified).  \\n- Watercraft powered by motor or sail (except kitesurfers or windsurfers) and their parts and accessories\\nthat are in them or attached to them with a replacement value of more than $3,000.  \\n- Parts and accessories of motor vehicles, trailers or caravans that are in them or attached to them.  \\n- Child car seats or baby capsules that are in or attached to a motor vehicle that you or your family owns or  \\nthat are covered under a motor vehicle policy.  \\n- Aircraft or other aerial devices, including aerial recreational items such as hang gliders, parachutes,  \\nparagliders or parasails, and their parts and accessories that are in them or attached to them. However, we\\ncover model or toy aircraft, or remotely piloted aircraft as defined by the Civil Aviation Authority.'), Document(metadata={'Header 4': '**Section 2 – Contents Comprehensive** **Insurance**', 'Header 5': '**Part one – cover for contents**', 'Header 6': '**What we mean by ‘home’**'}, page_content='In your Contents Insurance, ‘home’ means the buildings and grounds at the property address shown in your  \\npolicy schedule.'), Document(metadata={'Header 4': '**Section 2 – Contents Comprehensive** **Insurance**', 'Header 5': '**Part one – cover for contents**', 'Header 6': '**What we pay**'}, page_content='The following clauses set out what we pay for loss to contents.  \\nContents covered for repair or present value  \\nWe cover the following items of contents for repair or present value:  \\n- books  \\n- clothing or footwear  \\n- computer hardware such as desktop computers, laptops, tablets, smartwatches or mobile phones, that are  \\nover 5 years old  \\n- audio, video or optical storage media, such as records, tapes, CDs, DVDs or Blu-ray discs  \\n- licensed computer or gaming software, cartridges or programs  \\n- digital data, including audio or video files  \\n- parts and accessories of any of the following that are not in them or attached to them:  \\n- watercraft  \\n- motor vehicle, trailer or caravan  \\n- aircraft or other aerial device, including aerial recreational items such as hang gliders, parachutes,  \\nparagliders or parasails  \\n- contents for which a closest equivalent item does not exist.  \\nPage 29 of 59  \\n<<-- PAGE BREAK -->>  \\nAt our option we pay either:  \\n- the cost to repair the item, as near as reasonably possible to the same condition it was in just before the  \\ndamage, if we decide it is economic to repair the item  \\n- the present value.  \\nExample of how we settle a claim for present value  \\nSituation: Your laptop gets stolen. You purchased it brand new 6 years ago for $2,500.  \\nCover: As your laptop is over 5 years old we pay its present value of $1,500, being the estimated cost in  \\nNew Zealand of an equivalent laptop in a similar condition, less the excess.  \\nContents covered for repair or replacement  \\nWe cover contents for repair or replacement, except for the items listed above in ‘Contents covered for repair  \\nor present value’.  \\nAt our option and using one of our preferred suppliers, we pay the cost to either:  \\n- repair the item, as near as reasonably possible to the same condition it was in just before the damage, if  \\nwe decide it is economic to repair the item  \\n- replace the item with the closest equivalent item, if it is lost, stolen or cannot be repaired.  \\nWe may choose to pay you using cash, store credit or vouchers.  \\nFor consumable items, such as food, beverages, cosmetics or toiletries, we only pay the cost of the unused  \\nportion at the time of the loss.  \\nFor items that require a current prescription to be replaced, we pay the professional fees associated with  \\ndispensing the item, such as fitting fees for spectacles or hearing aids. We do not pay any costs associated  \\nwith renewing an expired prescription, such as eye tests or hearing tests.  \\nExample of how we settle a claim for spectacles  \\nSituation: You lose your spectacles.  \\nCover: We pay for new spectacles and the cost of fitting them. We do not pay for the eye test you need  \\nbefore you can get the new spectacles.  \\nCover when replacing a whiteware appliance with a more energy-efficient model  \\nFor any whiteware appliance that we decide to replace, we may replace the appliance with a more energy\\nefficient model. We do this if better energy efficiency is the only significant difference to the closest  \\nequivalent item.  \\nPage 30 of 59  \\n<<-- PAGE BREAK -->>  \\nThe most we pay for certain types of contents  \\nThe most we pay for certain types of contents for an event is set out below.  \\nType of contents The most we pay  \\n|Watercraft powered by motor or sail (except kitesurfers or<br>windsurfers), including its parts and accessories that are in it or<br>attached to it|Per item|$3,000|\\n|---|---|---|\\n|Parts and accessories of any of the following that are not in them<br>or attached to them:<br>• watercraft powered by motor or sail (except kitesurfers or<br>windsurfers)<br>• motor vehicle, trailer or caravan<br>• aircraft or other aerial device, including an aerial recreational<br>item such as a hang glider, parachute, paraglider or parasail|Total for all items|$2,000|\\n|Money, stored-value cards and negotiable financial documents|Total for all items|$1,000|  \\nUnless the item is shown as a specified item, the most we pay for certain types of contents for an event is  \\nset out below.  \\nType of contents The most we pay  \\n|Painting, picture, ornament or work of art, including a sculpture,<br>photographic print or figurine|Per item|$10,000|\\n|---|---|---|\\n|Cameras and remotely piloted aircraft, including their parts and<br>accessories|Total for all items|$5,000|\\n|Watch, pair of earrings or other item of jewellery|Per item (or pair of<br>earrings)|$3,000|\\n|Bicycle or e-bike, including its standard accessories fitted when new|Per item|$3,000|\\n|Collections of stamps, medals or coins|Total for all collections|$3,000|\\n|Bullion and unset precious stones|Total for all items|$1,000|  \\nThe most we pay for all items of jewellery and watches that are not specified  \\nThe most we pay for all items of jewellery and watches for an event, if they are not specified items, is\\n$15,000 in total. However, if your policy schedule shows a different maximum payment, the most we pay is  \\nthat amount.  \\nExample of how we settle a claim for multiple items of jewellery that are not specified  \\nSituation: You lose 10 pieces of jewellery, each with a value of $2,000. Your claim is $20,000. You did not  \\narrange a higher maximum payment amount for jewellery.  \\nCover: We pay you a total of $15,000, less the excess.  \\nPage 31 of 59  \\n<<-- PAGE BREAK -->>  \\nThe most we pay for specified items  \\nThe most we pay for a specified item for an event is its specified sum insured.  \\nThe most we pay for contents in total, excluding specified items  \\nThe most we pay under ‘Part one’ of your Contents Insurance in total for an event, excluding specified  \\nitems, is your contents sum insured. Your contents sum insured includes all automatic and optional  \\nbenefits, unless stated otherwise in a benefit.  \\nPage 32 of 59  \\n<<-- PAGE BREAK -->>'), Document(metadata={'Header 4': '**Section 2 – Contents Comprehensive** **Insurance**', 'Header 5': '**Part one – automatic benefits**'}, page_content='You automatically get the following benefits. The terms and conditions of your policy apply.  \\nThe amounts we pay under these benefits are included in the amounts payable under ‘Part one – cover for  \\ncontents’, unless stated otherwise in a benefit.'), Document(metadata={'Header 4': '**Section 2 – Contents Comprehensive** **Insurance**', 'Header 5': '**Part one – automatic benefits**', 'Header 6': '**Contents in storage**'}, page_content='We cover sudden and accidental loss to contents stored in a building, if any of the following applies:  \\n- they are in storage in a safe deposit box at a bank or commercial vault in New Zealand  \\n- you notified us of the storage arrangement and this arrangement is shown in your policy schedule, and  \\nthe loss is caused by any:  \\n- fire, lightning or explosion  \\n- theft following forceful and violent entry to the storage building  \\n- storm or flood, except if the water originates from inside the building  \\n- water that leaks, overflows or is discharged from a water system installed at the storage building  \\n- natural hazard  \\n- impact by aircraft or other aerial or spatial device, or an item dropped from them  \\n- impact by motor vehicle.'), Document(metadata={'Header 4': '**Section 2 – Contents Comprehensive** **Insurance**', 'Header 5': '**Part one – automatic benefits**', 'Header 6': '**Contents in transit when you are moving house**'}, page_content='We cover sudden and accidental loss to contents in transit from your home to your new permanent  \\nresidence in New Zealand.  \\nThis includes contents kept in a storage facility during the move, for up to 14 days, and while in transit to and  \\nfrom the storage facility.  \\nThe most we pay for an event is $10,000.  \\nHowever, we pay up to your contents sum insured if the loss is caused by any:  \\n- fire, lightning or explosion  \\n- theft following forceful and violent entry to a motor vehicle or building  \\n- storm or flood  \\n- natural hazard  \\n- impact by aircraft or other aerial or spatial device, or an item dropped from them  \\n- motor vehicle collision.'), Document(metadata={'Header 4': '**Section 2 – Contents Comprehensive** **Insurance**', 'Header 5': '**Part one – automatic benefits**', 'Header 6': '**Contents with you or your family on overseas trips**'}, page_content='We cover sudden and accidental loss to clothing, personal items, suitcases, bags, jewellery and watches  \\nthat you or your family owns and takes overseas, if both the following apply:  \\n- you and your family accompanying you are in transit to and from and travelling in Australia or the South  \\nPacific Islands  \\n- the whole trip is no longer than 3 weeks.  \\nThe most we pay for loss on a single trip is $5,000.  \\nPage 33 of 59  \\n<<-- PAGE BREAK -->>  \\nIn this benefit, ‘personal items’ means items that are personal in nature, or that are normally worn or  \\ncarried by you or your family. This does not include personal transportation devices, or sporting or  \\ncamping equipment.  \\nWorldwide cover for jewellery and watches  \\nIf your policy schedule shows you have ‘Jewellery and watches – worldwide’ cover for a specified item, all  \\nthe following apply:  \\n- we cover sudden and accidental loss to that jewellery or watch that you or your family takes overseas  \\nwhile travelling anywhere in the world  \\n- cover applies whether or not you and your family are travelling together  \\n- the trip may be for any length of time.  \\nThe most we pay for a specified item for an event is its specified sum insured.  \\nUnder ‘Worldwide cover for jewellery and watches’ you need to specify the item of jewellery or watch\\nin your policy schedule, even if the value is $3,000 or less. We cover that item up to your specified sum  \\ninsured. This cover is subject to an additional premium.  \\nExample of how we settle a claim for ‘Worldwide cover for jewellery and watches’  \\nSituation: While on a trip to the United Kingdom you lose your bag containing a ring and a watch.  \\nYour policy schedule shows you have specified your ring and watch for ‘worldwide’ cover. Your ring\\nhas a specified sum insured of $1,500 and your watch has a specified sum insured of $4,000.  \\nCover: We pay up to $1,500 to replace your ring and up to $4,000 to replace your watch, less the excess.  \\nWe do not pay for your lost bag and the rest of the contents in your bag.'), Document(metadata={'Header 4': '**Section 2 – Contents Comprehensive** **Insurance**', 'Header 5': '**Part one – automatic benefits**', 'Header 6': '**Electronic data and programs**'}, page_content='We cover sudden and accidental loss to:  \\n- licensed computer software, including gaming software and programs in any format  \\n- digital data, including audio and video files in any format.  \\nHowever, all the following must apply:  \\n- you legally owned the software, programs or digital data  \\n- the software, programs or digital data were on your own storage device that sustained loss that we accept  \\na claim for  \\n- the software, programs or digital data were at your home, or temporarily away from your home for use  \\nanywhere else in New Zealand.  \\nWe pay the present value of the loss.  \\nWe do not cover any:  \\n- cost to reinstall, reset, recreate, retrieve or transfer the software, programs or digital data  \\n- loss caused by, or connected to, a computer virus  \\n- loss to digital or virtual currency such as cryptocurrency, or non-fungible tokens (NFTs).  \\nPage 34 of 59  \\n<<-- PAGE BREAK -->>'), Document(metadata={'Header 4': '**Section 2 – Contents Comprehensive** **Insurance**', 'Header 5': '**Part one – automatic benefits**', 'Header 6': '**Fatal injury**'}, page_content='If we accept a claim for loss from fire, burglary, theft or home invasion at your home resulting in you or your\\nfamily being fatally injured, we pay your or their legal representative $10,000.  \\nThe most we pay for an event is $10,000. If more than one person is entitled to cover under this benefit, we  \\ndivide that amount equally between the people.  \\nThe amount we pay is in addition to any payment under ‘Part one – cover for contents’.  \\nIf you have other fatal injury cover with us, we only pay one benefit under all policies in total for an event,  \\nbeing the benefit most favourable to you.'), Document(metadata={'Header 4': '**Section 2 – Contents Comprehensive** **Insurance**', 'Header 5': '**Part one – automatic benefits**', 'Header 6': '**Food spoilage**'}, page_content='We cover accidental loss to contents of a refrigerator or freezer that suddenly stops or breaks down. We  \\nalso cover the loss if the power supply was accidentally disconnected, including by an electricity supply  \\ncompany.  \\nWe pay the reasonable cost to:  \\n- replace the perished items in your refrigerator or freezer, if they are not kept by you for any business, trade  \\nor commercial purposes  \\n- repair loss to contents caused by the perished items.  \\nThe most we pay for an event is $1,000.  \\nWe do not cover loss to contents if the power supply was disconnected because the power bill was not paid.'), Document(metadata={'Header 4': '**Section 2 – Contents Comprehensive** **Insurance**', 'Header 5': '**Part one – automatic benefits**', 'Header 6': '**Hidden gradual damage**'}, page_content='We cover accidental hidden gradual damage to contents that first happens, and is discovered, while you  \\nhave contents insured with us.  \\nWe do not cover the cost to repair the cause of the hidden gradual damage. However, we cover any other  \\ncontents that are not directly affected but must be damaged or destroyed to locate or repair the cause of the  \\nhidden gradual damage. We must approve this work first.  \\nThe most we pay during the period of insurance is $3,000.'), Document(metadata={'Header 4': '**Section 2 – Contents Comprehensive** **Insurance**', 'Header 5': '**Part one – automatic benefits**', 'Header 6': '**Home office equipment**'}, page_content='We cover sudden and accidental loss to your office furniture and office equipment used for your own  \\nbusiness, trade or commercial purposes.  \\nThe most we pay for an event:  \\n- if the loss happens at your home is $10,000  \\n- if the loss happens while temporarily away from your home is $1,500.  \\nWe cover your or your family’s office furniture and office equipment used to work from home as an  \\nemployee of another business, organisation or company in the same way as we cover your contents.  \\nPage 35 of 59  \\n<<-- PAGE BREAK -->>'), Document(metadata={'Header 4': '**Section 2 – Contents Comprehensive** **Insurance**', 'Header 5': '**Part one – automatic benefits**', 'Header 6': '**Identity theft**'}, page_content='If your identity is stolen and used without consent for financial gain, we pay the following costs and fees you  \\nincur as a direct result, that we approve first:  \\n- the reasonable legal costs you need to pay in New Zealand to do any of the following:  \\n- defend court proceedings wrongly brought against you by credit providers, retailers or collection agencies  \\n- attempt to set aside judgments wrongly made against you  \\n- prepare documents that confirm your identity was stolen  \\n- remove incorrect entries on credit referencing bureau lists  \\n- the fees charged by New Zealand government organisations to replace any:  \\n- passport  \\n- driver licence  \\n- birth certificate  \\n- proof of age card  \\n- record of title on your home insured with us.  \\nThe most we pay for an event is $2,500.  \\nWe do not cover any:  \\n- identity theft that you cannot provide us with reasonable evidence of  \\n- identity theft by any other person living with you or identity theft you arranged  \\n- repayment of any debt resulting from the identity theft.'), Document(metadata={'Header 4': '**Section 2 – Contents Comprehensive** **Insurance**', 'Header 5': '**Part one – automatic benefits**', 'Header 6': '**Moving to a new home**'}, page_content='If you move to a new permanent residence in New Zealand, we cover contents at the current property  \\naddress shown in your policy schedule and the new property address. We only cover contents at both  \\naddresses for up to 14 days from the day you start moving. Both the following must apply:  \\n- both properties are secure and meet the terms and conditions of your Contents Insurance  \\n- you notify us and give us the details of the new property address within 14 days from the day you start  \\nmoving.  \\nCover for contents at the current property address will end after 14 days from the day you start moving,  \\nunless we agree otherwise.  \\nYour contents sum insured applies across both locations in total.  \\nWe do not cover contents in the course of removal or transit, except as provided under the ‘Contents in  \\ntransit when you are moving house’ automatic benefit.'), Document(metadata={'Header 4': '**Section 2 – Contents Comprehensive** **Insurance**', 'Header 5': '**Part one – automatic benefits**', 'Header 6': '**Removal of unrepairable items**'}, page_content='If we accept a claim for contents that we decide are not repairable, we pay the reasonable cost you incur to  \\ndispose of them from your home. We must approve this cost first.  \\nPage 36 of 59  \\n<<-- PAGE BREAK -->>'), Document(metadata={'Header 4': '**Section 2 – Contents Comprehensive** **Insurance**', 'Header 5': '**Part one – automatic benefits**', 'Header 6': '**Replacement of keys and locks**'}, page_content='You do not pay an excess if your claim is only for any key, including any electronic key, swipe card or\\nequivalent device (or combination), if the key is both:  \\n- to access your home, or any safe or strongroom in your home  \\n- lost, stolen or believed on reasonable grounds to have been duplicated without your permission.  \\nWe pay the cost you incur to:  \\n- replace any key to your home and alter or replace the locks that the key was for  \\n- open any safe or strongroom.  \\nIf you have other keys and locks cover with us, we only pay one benefit under all policies in total for an event,  \\nbeing the benefit most favourable to you.  \\nIf any key to your home sustains sudden and accidental damage, we settle your claim according to the  \\nterms and conditions under ‘Part one – cover for contents’. We deduct the applicable excess from your claim  \\nsettlement.'), Document(metadata={'Header 4': '**Section 2 – Contents Comprehensive** **Insurance**', 'Header 5': '**Part one – automatic benefits**', 'Header 6': '**Stress payment**'}, page_content='If we accept a claim for loss to contents and we pay your contents sum insured, we also pay you $2,000 for  \\nthe stress caused by the loss.  \\nThe amount we pay is in addition to any payment under ‘Part one – cover for contents’.  \\nIf you have other stress payment cover with us, we only pay one benefit under all policies in total for an event,  \\nbeing the benefit most favourable to you.'), Document(metadata={'Header 4': '**Section 2 – Contents Comprehensive** **Insurance**', 'Header 5': '**Part one – automatic benefits**', 'Header 6': '**Students living away from home**'}, page_content='If your home is your main residence and a family member is a student living away from home, we cover their  \\ncontents they have with them in the same way as we cover your contents. The student must be attending a  \\nschool or tertiary institution in New Zealand.  \\nHowever, if the student is not living in a hostel or other accommodation run by or for that school or tertiary  \\ninstitution:  \\n- we do not cover contents that are either:  \\n- stolen, unless the theft follows forceful and violent entry to any building  \\n- lost or misplaced  \\n- the most we pay for an event is $5,000.'), Document(metadata={'Header 4': '**Section 2 – Contents Comprehensive** **Insurance**', 'Header 5': '**Part one – automatic benefits**', 'Header 6': '**Temporary accommodation**'}, page_content='If your home is your main residence, we pay:  \\n- the reasonable additional cost you incur for temporary accommodation that is of a similar standard to your  \\nhome for you, your family and your domestic pets  \\n- the reasonable cost you incur to move contents to the temporary accommodation and return them to  \\nyour home  \\n- the reasonable cost you incur to move contents to a secure storage facility, for storage while you are in  \\ntemporary accommodation, and to return them to your home.  \\nPage 37 of 59  \\n<<-- PAGE BREAK -->>  \\nWe pay for either of the following reasons:  \\n- Your home is unliveable because of loss to your home or to contents at the same home. The loss to your  \\nhome must also happen during the period of insurance.  \\n- Your home is liveable but a government or local authority order requires you to evacuate because of  \\nimpending damage.  \\nThe loss or impending damage must be either:  \\n- covered under any of the following:  \\n- your Contents Insurance  \\n- any home policy  \\n- the NHI Act, but would have been covered under any home policy  \\n- to your home where you are the tenant and that would have been covered under a home policy if we had  \\ninsured that property, or would have been but is covered under the NHI Act instead.  \\nCover under this benefit ends when one of the following happens:  \\n- When your tenancy agreement ends or when you move to another rental property, if you occupy your home  \\nas a tenant.  \\n- When the evacuation order is lifted. However, cover may continue if the impending damage has caused  \\nloss to your home or to contents at the same home that leaves your home unliveable.  \\nThe most we pay for an event is $30,000.  \\nThe amount we pay is in addition to any payment under ‘Part one – cover for contents’.  \\nIf you have other temporary accommodation cover with us, we only pay one benefit under all policies in total  \\nfor each residential dwelling for an event. We pay the benefit most favourable to you.  \\nExample of what we pay under the ‘Temporary accommodation’ automatic benefit  \\nSituation: You are ordered by a local authority to evacuate the home you are renting due to an impending  \\ncyclone that is expected to cause widespread flooding in your area. As the home is your main residence,  \\nyou contact us and let us know that you have arranged temporary accommodation similar to the home.  \\nAfter the evacuation order is lifted, you discover the home is unliveable because of the flood damage  \\ncaused by the cyclone.  \\nCover: We pay for your temporary accommodation until the evacuation order is lifted. We also pay for  \\nthe cost of moving your contents to and from the temporary accommodation. As the cyclone has left the\\nhome unliveable we continue to pay for your temporary accommodation, up to $30,000 in total. We do  \\nthis until your tenancy agreement ends or you move to another rental property, whichever happens first.  \\nPage 38 of 59  \\n<<-- PAGE BREAK -->>'), Document(metadata={'Header 4': '**Section 2 – Contents Comprehensive** **Insurance**', 'Header 5': '**Part one – optional benefits**'}, page_content='The following benefits are optional benefits. Cover only applies if your policy schedule shows that you have  \\npurchased the benefit. The terms and conditions of your policy apply.  \\nThe amounts we pay under these benefits are included in the amounts payable under ‘Part one – cover  \\nfor contents’.'), Document(metadata={'Header 4': '**Section 2 – Contents Comprehensive** **Insurance**', 'Header 5': '**Part one – optional benefits**', 'Header 6': '**Excess-free spectacles, dentures and hearing aids**'}, page_content='You do not pay an excess if your claim is only for sudden and accidental loss to your or your family’s  \\nspectacles, dentures or hearing aids.'), Document(metadata={'Header 4': '**Section 2 – Contents Comprehensive** **Insurance**', 'Header 5': '**Part one – optional benefits**', 'Header 6': '**Lifestyle block contents and tools of trade**'}, page_content='We cover sudden and accidental loss to the following items that you or your family owns or is legally  \\nresponsible for, including if those items are used to earn an income:  \\n- tools of trade or business equipment, except for items covered under the ‘Home office equipment’  \\nautomatic benefit  \\n- lifestyle block equipment, plant and machinery  \\n- animal feed used to feed livestock on your lifestyle block at the property address shown in your policy  \\nschedule.  \\nThe loss must happen at the property address shown in your policy schedule.  \\nThe most we pay for an event is $5,000.  \\nWe do not cover fencing.  \\nPage 39 of 59  \\n<<-- PAGE BREAK -->>'), Document(metadata={'Header 4': '**Section 2 – Contents Comprehensive** **Insurance**', 'Header 5': '**Part two – legal liability**'}, page_content='In this part, we explain how we cover your or your family’s legal liability for loss to another person’s property  \\nor for injury to another person. We also set out the most we pay for legal liability.'), Document(metadata={'Header 4': '**Section 2 – Contents Comprehensive** **Insurance**', 'Header 5': '**Part two – legal liability**', 'Header 6': '**What we cover**'}, page_content='We cover your and your family’s legal liability resulting from:  \\n- Accidental loss to another person’s property.  \\n- Injury to another person.  \\n- General average or salvage charges that you or your family is legally required to pay as a result of contents\\nbeing carried by ship. The contents must be covered under the ‘Contents in transit when you are moving  \\nhouse’ automatic benefit.  \\nThe loss or injury must happen during the period of insurance in New Zealand.  \\nCover includes:  \\n- defence and other legal costs and expenses incurred, that we approve first  \\n- costs that a court orders you to pay  \\n- reparation.'), Document(metadata={'Header 4': '**Section 2 – Contents Comprehensive** **Insurance**', 'Header 5': '**Part two – legal liability**', 'Header 6': '**What we pay**'}, page_content='Limits apply to what we pay for legal liability.  \\nThe most we pay for legal liability  \\nThe most we pay for an event, including legal liability, costs, expenses and reparation, is $2,000,000.  \\nThe amount we pay is in addition to any other payment under your Contents Insurance.  \\nFull and final settlement for legal liability  \\nWe may pay the full amount under this part of your Contents Insurance, or any lesser amount for which\\nthe legal liability can be settled. This payment will meet all our obligations under this part of your Contents  \\nInsurance.  \\nPage 40 of 59  \\n<<-- PAGE BREAK -->>'), Document(metadata={'Header 4': '**Exclusions – what we do not cover**'}, page_content='This section explains what we do not cover. It is divided into three sub-sections:  \\n- Home Insurance exclusions  \\n- Contents Insurance exclusions  \\n- General exclusions that apply to both Home Insurance and Contents Insurance.'), Document(metadata={'Header 4': '**Exclusions – what we do not cover**', 'Header 5': '**Home Insurance exclusions**'}, page_content='The following exclusions apply to Home Insurance.'), Document(metadata={'Header 4': '**Exclusions – what we do not cover**', 'Header 5': '**Home Insurance exclusions**', 'Header 6': '**Causes of loss**'}, page_content='We do not cover loss to your home caused by, or connected to, any:  \\n- Structural additions or structural alterations at the property address shown in your policy schedule,  \\nexcept either:  \\n- if you notified us of the work beforehand and we agreed in writing to cover this  \\n- as provided under the ‘New structure build’ automatic benefit.  \\n- Water in any form (including hail and snow) entering your home because you or another person acting on  \\nyour authority has removed any roofing material, exterior cladding, window or door.  \\n- Insects, rodents, slugs or snails and the like, or vermin (but not possums). This only applies to the part  \\nof the property that is directly affected, not to resultant sudden and accidental loss to other parts of  \\nyour home.  \\n- Hydrostatic pressure to swimming pools or spa pools, unless the loss is as a result of earthquake, storm  \\nor flood. This only applies to the part of the property that is directly affected, not to resultant sudden and  \\naccidental loss to other parts of your home.  \\n- Natural hazard, except as provided under the ‘Natural hazard damage’ automatic benefit.'), Document(metadata={'Header 4': '**Exclusions – what we do not cover**', 'Header 5': '**Home Insurance exclusions**', 'Header 6': '**Types of loss**'}, page_content='We do not cover any:  \\n- Repair or replacement of any:  \\n- flooring or floor coverings that are not in the room where the loss happened, except as provided under  \\nthe ‘Matching floor coverings’ optional benefit  \\n- undamaged parts of a bathroom suite or kitchen suite.  \\n- Loss to fuses, protective devices, or lighting or heating elements caused by electricity.  \\n- Loss, cost or expense arising from any fault, defect, error or omission in any:  \\n- design, plan or specification  \\n- work, construction or materials.  \\nThis only applies to the part of the property that is directly affected, not to resultant sudden and accidental  \\nloss to other parts of your home.  \\n- Breakdown, failure or wearing out of mechanical, electrical or electronic equipment, or its parts. This does  \\nnot apply to equipment or its parts that are 15 years old or newer that sustain loss from burn out caused  \\nby an accidental and external force.  \\nPage 41 of 59  \\n<<-- PAGE BREAK -->>'), Document(metadata={'Header 4': '**Exclusions – what we do not cover**', 'Header 5': '**Home Insurance exclusions**', 'Header 6': '**Liability**'}, page_content='We do not cover liability connected to any:  \\n- Business (except renting out your home as a residence), trade, profession, commercial enterprise or  \\nsponsorship.  \\n- Contract or agreement, unless you would have been liable even without the contract or agreement.  \\n- Ownership or use of any motor vehicle, trailer, caravan, watercraft, or aircraft or other aerial device.  \\n- Asbestos.  \\n- Personal injury if cover is available under the Accident Compensation Act 2001. We also do not cover the\\ninjury if the Accident Compensation Corporation (ACC) would have covered a claim if one had been lodged  \\nor lodged on time.  \\nWe do not cover a claim that ACC has rejected.'), Document(metadata={'Header 4': '**Exclusions – what we do not cover**', 'Header 5': '**Contents Insurance exclusions**'}, page_content='The following exclusions apply to Contents Insurance.'), Document(metadata={'Header 4': '**Exclusions – what we do not cover**', 'Header 5': '**Contents Insurance exclusions**', 'Header 6': '**Causes of loss**'}, page_content='We do not cover loss to contents caused by, or connected to, any:  \\n- structural additions or structural alterations at the property address shown in your policy schedule, except  \\nif you notified us of the work beforehand and we agreed in writing to cover this  \\n- water in any form (including hail and snow) entering your home because you or another person acting on  \\nyour authority has removed any roofing material, exterior cladding, window or door  \\n- insects, rodents, slugs or snails and the like, or vermin (but not possums).  \\nHowever, this exclusion only applies to contents that are directly affected, not to resultant sudden and  \\naccidental loss to other contents.'), Document(metadata={'Header 4': '**Exclusions – what we do not cover**', 'Header 5': '**Contents Insurance exclusions**', 'Header 6': '**Contents removed from your home**'}, page_content='We do not cover contents in any of the following situations:  \\n- permanently removed from your home  \\n- removed from your home to any place for storage, sale or exhibition  \\n- removed from your home during the course of moving house or household removal  \\n- with your family who is a student living away from home and attending a school or tertiary institution.  \\nHowever, this exclusion does not apply to the extent cover is provided under the ‘Contents in storage’,\\n‘Contents in transit when you are moving house’, ‘Moving to a new home’ or ‘Students living away from home’  \\nautomatic benefits.'), Document(metadata={'Header 4': '**Exclusions – what we do not cover**', 'Header 5': '**Contents Insurance exclusions**', 'Header 6': '**Remotely piloted aircraft and kitesurfing equipment**'}, page_content='We do not cover anything caused by, or connected to, the use of a remotely piloted aircraft or kitesurfing\\nequipment that breaches the Civil Aviation Authority rules.  \\nPage 42 of 59  \\n<<-- PAGE BREAK -->>'), Document(metadata={'Header 4': '**Exclusions – what we do not cover**', 'Header 5': '**Contents Insurance exclusions**', 'Header 6': '**Types of loss**'}, page_content='We do not cover any:  \\n- Repair or replacement of parts of a pair or set that have not sustained loss, unless loss to one item  \\nprevents the entire set from functioning.  \\n- Loss to fuses, protective devices, or lighting or heating elements caused by electricity.  \\n- Loss, cost or expense arising from any fault, defect, error or omission in any:  \\n- design, plan or specification  \\n- work, construction or materials.  \\nThis only applies to contents that are directly affected, not to resultant sudden and accidental loss to other  \\ncontents.  \\n- Breakdown, failure or wearing out of mechanical, electrical or electronic equipment, or its parts. This does  \\nnot apply to equipment or its parts that are 15 years old or newer that sustain loss from burn out caused  \\nby an accidental and external force.'), Document(metadata={'Header 4': '**Exclusions – what we do not cover**', 'Header 5': '**Contents Insurance exclusions**', 'Header 6': '**Liability**'}, page_content='We do not cover liability connected to any:  \\n- Ownership of your home or its grounds, or any other building or permanent structure.  \\n- Business, trade, profession, commercial enterprise or sponsorship.  \\n- Contract or agreement, unless you would have been liable even without the contract or agreement.  \\n- Ownership or use of any:  \\n- Motor vehicle, unless it is covered under your Contents Insurance, trailer or caravan.  \\n- Watercraft, unless it is covered under your Contents Insurance.  \\n- Aircraft or other aerial device, including an aerial recreational item such as a hang glider, parachute,  \\nparaglider or parasail. However, this does not apply to a model or toy aircraft, or remotely piloted aircraft\\nas defined by the Civil Aviation Authority.  \\n- Asbestos.  \\n- Personal injury if cover is available under the Accident Compensation Act 2001. We also do not cover the\\ninjury if the Accident Compensation Corporation (ACC) would have covered a claim if one had been lodged  \\nor lodged on time.  \\nWe do not cover a claim that ACC has rejected.'), Document(metadata={'Header 4': '**Exclusions – what we do not cover**', 'Header 5': '**General exclusions**'}, page_content='The following exclusions apply to both Home Insurance and Contents Insurance.'), Document(metadata={'Header 4': '**Exclusions – what we do not cover**', 'Header 5': '**General exclusions**', 'Header 6': '**Communicable disease**'}, page_content='We do not cover anything connected to, or contributed to by, any:  \\n- communicable disease contamination  \\n- loss of value or loss of use of any property or its parts resulting directly or indirectly from communicable  \\ndisease contamination  \\n- actual or alleged transmission of any communicable disease or the threat or fear of such transmission.  \\nPage 43 of 59  \\n<<-- PAGE BREAK -->>  \\nWe do not cover any costs or losses if you or any person or pet cannot remain in your home due to any  \\ncommunicable disease.  \\nIn this exclusion, some words have specific meanings:  \\n- ‘Communicable disease’ means any:  \\n- disease stated to be a quarantinable disease under the Health Act 1956  \\n- disease in respect of which a state of emergency has been declared under the Civil Defence Emergency  \\nManagement Act 2002  \\n- disease in respect of which a pandemic or epidemic has been declared by the World Health\\nOrganization or the New Zealand government or any New Zealand government agency or lawful  \\nauthority  \\n- disease declared by the World Health Organization to be a Public Health Emergency of International  \\nConcern  \\n- ‘Communicable disease contamination’ means the actual, suspected or potential presence, or the threat or  \\nfear of such presence, of any communicable disease at, in or on any property.'), Document(metadata={'Header 4': '**Exclusions – what we do not cover**', 'Header 5': '**General exclusions**', 'Header 6': '**Computer systems**'}, page_content='We do not cover anything caused by, or connected to, the unavailability or corruption of, or failure to access,  \\nprocess, use or operate, any computer or electronic system that forms part of your home or contents covered  \\nunder your policy.  \\nIt does not matter how the unavailability, corruption or failure happened. For example, the unavailability,  \\ncorruption or failure may be connected to a breakdown, fault or defect, or an external source. An external  \\nsource may be a computer virus or someone accessing any of your computer or electronic systems without  \\nyour permission.  \\nHowever, this exclusion does not apply to any:  \\n- unavailability, corruption or failure that is a direct result of accidental loss that is otherwise covered under  \\nyour policy  \\n- sudden and accidental loss to other parts of your home, to other contents, or to other property resulting  \\nfrom the unavailability, corruption or failure, if the loss and property are covered under your policy  \\n- extent cover is provided under the ‘Electronic programs’ or ‘Replacement of keys and locks’ automatic  \\nbenefits in Home Insurance  \\n- extent cover is provided under the ‘Electronic data and programs’, ‘Identity theft’, or ‘Replacement of keys  \\nand locks’ automatic benefits in Contents Insurance.'), Document(metadata={'Header 4': '**Exclusions – what we do not cover**', 'Header 5': '**General exclusions**', 'Header 6': '**Confiscation**'}, page_content='We do not cover anything caused by, or connected to, any:  \\n- confiscation, nationalisation, requisition or acquisition under an order  \\n- destruction of or damage to property under an order.  \\nBy ‘order’, we mean a government order, public or local authority order, or an order under an Act of  \\nParliament or Regulation.  \\nHowever, this exclusion does not apply if that order is required to prevent or control loss that would otherwise  \\nhave been covered under your policy.  \\nPage 44 of 59  \\n<<-- PAGE BREAK -->>'), Document(metadata={'Header 4': '**Exclusions – what we do not cover**', 'Header 5': '**General exclusions**', 'Header 6': '**Consequential loss**'}, page_content='We do not cover any consequential loss, except as provided under the:  \\n- ‘Temporary accommodation’ automatic benefits in Home Insurance and Contents Insurance  \\n- ‘Food spoilage’ automatic benefit in Contents Insurance.  \\nExample of consequential loss we do not cover  \\nSituation: Your home is broken into and some of your valuable items are stolen. You need to take time off  \\nwork to organise reasonable proof of their value and file a police report. We accept your claim.  \\nCover: We cover the items that are stolen. We do not cover your lost wages from taking time off work.'), Document(metadata={'Header 4': '**Exclusions – what we do not cover**', 'Header 5': '**General exclusions**', 'Header 6': '**Criminal acts**'}, page_content='We do not cover anything caused by, or connected to, any:  \\n- criminal act by you, your partner, or any other person covered under your policy  \\n- disregard for, or failure to comply with, any provision, notice or order under any Act of Parliament, by you,  \\nyour partner, or any other person covered under your policy.'), Document(metadata={'Header 4': '**Exclusions – what we do not cover**', 'Header 5': '**General exclusions**', 'Header 6': '**Earth movements**'}, page_content='We do not cover anything caused by, or connected to, any:  \\n- subsidence, or erosion, such as coastal erosion, bank erosion or sheet erosion  \\n- settling, shrinkage, expansion, warping or cracking caused by earth or other movements, except:  \\n- to the extent cover is provided under the ‘Natural hazard damage’ automatic benefit in Home Insurance  \\n- for sudden and accidental loss to contents caused by a natural hazard in Contents Insurance.'), Document(metadata={'Header 4': '**Exclusions – what we do not cover**', 'Header 5': '**General exclusions**', 'Header 6': '**Electronic data and programs**'}, page_content='We do not cover lost electronic data, or anything caused by, or connected to, lost electronic data.  \\nThis exclusion includes loss of use, reduced functionality, or any other loss or expense caused by, or  \\nconnected to, lost electronic data, including if the lost electronic data is caused by a computer virus.  \\nHowever, this exclusion does not apply to any:  \\n- sudden and accidental loss to other property directly resulting from lost electronic data, if the loss and  \\nproperty are covered under your policy  \\n- extent cover is provided under the ‘Electronic programs’ or ‘Replacement of keys and locks’ automatic  \\nbenefits in Home Insurance  \\n- extent cover is provided under the ‘Electronic data and programs’ or ‘Replacement of keys and locks’  \\nautomatic benefits in Contents Insurance.  \\nIn this exclusion, ‘electronic data’ means information changed to a form usable for communications,  \\nprocessing or controlling. This includes, for example, software, programs and other coded instructions for  \\ndata processing or controlling electronic equipment.'), Document(metadata={'Header 4': '**Exclusions – what we do not cover**', 'Header 5': '**General exclusions**', 'Header 6': '**Fines and damages**'}, page_content='We do not cover any fine, penalty, or punitive or exemplary damages.  \\nPage 45 of 59  \\n<<-- PAGE BREAK -->>'), Document(metadata={'Header 4': '**Exclusions – what we do not cover**', 'Header 5': '**General exclusions**', 'Header 6': '**Gradual damage**'}, page_content='We do not cover any:  \\n- wear and tear, depreciation, corrosion or rust  \\n- rot, mould or mildew, or gradual deterioration, except as provided under the ‘Hidden gradual damage’  \\nautomatic benefits in Home Insurance and Contents Insurance.'), Document(metadata={'Header 4': '**Exclusions – what we do not cover**', 'Header 5': '**General exclusions**', 'Header 6': '**Incidents outside New Zealand**'}, page_content='We do not cover anything that happens outside New Zealand.  \\nHowever, this exclusion does not apply to the extent cover is provided under the ‘Contents with you or your\\nfamily on overseas trips’ automatic benefit in Contents Insurance.'), Document(metadata={'Header 4': '**Exclusions – what we do not cover**', 'Header 5': '**General exclusions**', 'Header 6': '**Incidents outside the period of insurance**'}, page_content='We do not cover anything that happens outside the period of insurance.  \\nHowever, this exclusion does not apply to the extent cover is provided under the:  \\n- ‘Hidden gradual damage’ automatic benefits in Home Insurance and Contents Insurance  \\n- ‘Methamphetamine contamination’ automatic benefit in Home Insurance.'), Document(metadata={'Header 4': '**Exclusions – what we do not cover**', 'Header 5': '**General exclusions**', 'Header 6': '**Intentional or reckless acts**'}, page_content='We do not cover anything caused by, or connected to, any intentional or reckless act or failure to act, by any  \\nof the following:  \\n- you or any other person covered under your policy  \\n- a tenant  \\n- a guest of a tenant  \\n- a person who occupies your home.  \\nHowever, this exclusion does not apply to either:  \\n- loss resulting from fire or explosion, if the fire or explosion was not intentionally caused by you or your partner  \\n- the extent cover is provided under the ‘Methamphetamine contamination’ automatic benefit in Home  \\nInsurance.'), Document(metadata={'Header 4': '**Exclusions – what we do not cover**', 'Header 5': '**General exclusions**', 'Header 6': '**Nuclear contamination and activity**'}, page_content='We do not cover anything caused by, or connected to, any:  \\n- ionising radiation or contamination by radioactivity from any nuclear fuel  \\n- ionising radiation or contamination by radioactivity from any nuclear waste from the combustion or fission  \\nof nuclear fuel  \\n- nuclear weapons material  \\n- nuclear power plants, including the use or escape of any nuclear fuel, material or waste.  \\nPage 46 of 59  \\n<<-- PAGE BREAK -->>'), Document(metadata={'Header 4': '**Exclusions – what we do not cover**', 'Header 5': '**General exclusions**', 'Header 6': '**Sanctions**'}, page_content='We do not provide any cover or benefit, or pay anything in connection with your policy, including any premium  \\nrefund, if doing so may breach or risk exposure to any:  \\n- sanctions, prohibitions or restrictions under United Nations resolutions  \\n- trade or economic sanctions, laws or regulations of New Zealand, Australia, Singapore, the United\\nKingdom, the United States of America or the European Union.'), Document(metadata={'Header 4': '**Exclusions – what we do not cover**', 'Header 5': '**General exclusions**', 'Header 6': '**Seepage, pollution or contamination**'}, page_content='We do not cover anything caused by, or connected to, seepage, pollution or contamination, including the cost  \\nto clean up.  \\nHowever, this exclusion does not apply to any:  \\n- incident caused by a sudden and accidental event, if the incident is otherwise covered under your policy  \\n- extent cover is provided under the ‘Methamphetamine contamination’ or ‘Temporary accommodation’  \\nautomatic benefits in Home Insurance.'), Document(metadata={'Header 4': '**Exclusions – what we do not cover**', 'Header 5': '**General exclusions**', 'Header 6': '**Terrorism**'}, page_content='We do not cover anything connected to, or contributed to by, any:  \\n- terrorism that involves any biological, electromagnetic, chemical, radioactive or nuclear pollution,  \\ncontamination or explosion  \\n- controlling, preventing, suppressing, retaliating against or responding to terrorism as described in the  \\npoint above.  \\nIn this exclusion, ‘terrorism’ includes any act, threat of action or preparation for action, by a person or group  \\nacting alone or in connection with any organisation or government, which is any of the following:  \\n- designed to influence any rightful or actual government or intimidate the public  \\n- in pursuit of political, religious, ideological, or similar purposes.  \\nThe act, threat or preparation involves any of the following:  \\n- violence against any person  \\n- damage to property  \\n- endangering of life, except that of the person committing the action  \\n- risk to the health or safety of any person  \\n- anything designed to interfere with or disrupt an electronic system.'), Document(metadata={'Header 4': '**Exclusions – what we do not cover**', 'Header 5': '**General exclusions**', 'Header 6': '**Unlawful substances**'}, page_content='We do not cover anything caused by, or connected to, either:  \\n- the presence at your home of any ‘controlled drug’ as defined in the Misuse of Drugs Act 1975  \\n- contamination from any ‘controlled drug’ as defined in the Misuse of Drugs Act 1975.  \\nHowever, this exclusion does not apply to any:  \\n- loss caused by the accidental spread of fire or explosion  \\n- extent cover is provided under the ‘Methamphetamine contamination’ or ‘Temporary accommodation’  \\nautomatic benefits in Home Insurance.  \\nPage 47 of 59  \\n<<-- PAGE BREAK -->>'), Document(metadata={'Header 4': '**Exclusions – what we do not cover**', 'Header 5': '**General exclusions**', 'Header 6': '**War**'}, page_content='We do not cover anything caused by, or connected to (including controlling, preventing or suppressing), any:  \\n- war  \\n- invasion  \\n- act of foreign enemy  \\n- hostilities (whether war is declared or not)  \\n- civil war  \\n- insurrection  \\n- rebellion  \\n- revolution  \\n- military or usurped power.'), Document(metadata={'Header 4': '**Exclusions – what we do not cover**', 'Header 5': '**General exclusions**', 'Header 6': '**Weapons**'}, page_content='We do not cover anything caused by, or connected to, any chemical, biological, biochemical or  \\nelectromagnetic weapon.  \\nPage 48 of 59  \\n<<-- PAGE BREAK -->>'), Document(metadata={'Header 4': '**Claims – what you need to do**'}, page_content='This section explains your responsibilities, what you must get our agreement to first and what we may do as  \\npart of a claim.'), Document(metadata={'Header 4': '**Claims – what you need to do**', 'Header 6': '**What you must do**'}, page_content='If anything happens that may lead to a claim, you must take all the following steps:  \\n- do what you can to take care of the covered property and prevent any further loss, expense or liability  \\n- let us know as soon as possible  \\n- file a police report as soon as possible if you think an illegal act is involved  \\n- keep anything that is or could be part of a claim  \\n- let us or anyone acting on our behalf assess the covered property before any repairs are started  \\n- send us as soon as possible anything you receive from another person about a claim or possible claim  \\nagainst you  \\n- let us know as soon as possible if you are charged with any offence that resulted in loss to another  \\nperson’s property or injury to another person  \\n- provide any information or documents we require as soon as possible  \\n- attend any meetings, or court hearings to give evidence, if we require this  \\n- give us any help we ask for.'), Document(metadata={'Header 4': '**Claims – what you need to do**', 'Header 6': '**What you must get our agreement to first**'}, page_content='As part of a claim, you must get our agreement before you do any of the following:  \\n- incur any expenses connected to a claim under your policy  \\n- negotiate, pay, settle, admit or deny a claim against you  \\n- do anything that may affect our rights of recovery  \\n- negotiate, offer to pay, or pay any reparation, such as make an offer as part of a pre-trial conference or  \\nsentencing hearing.'), Document(metadata={'Header 4': '**Claims – what you need to do**', 'Header 6': '**What we may do**'}, page_content='As part of a claim, we may decide to act on your behalf to do any of the following:  \\n- Negotiate, defend or settle a claim against you that is covered under your policy. We cover the reasonable  \\nlegal costs of these actions.  \\n- Recover anything covered under your policy from another person. If we do this, we may also recover any  \\nuninsured loss you sustain in the same event.  \\nWe deduct the recovery costs we incurred from any amount recovered and share the remaining amount  \\nwith you on a proportional basis.  \\nYou must co-operate fully with any action we take on your behalf.  \\nSee also ‘How we pay claims – some examples’ at the end of this document.  \\nPage 49 of 59  \\n<<-- PAGE BREAK -->>'), Document(metadata={'Header 4': '**Conditions of your cover**'}, page_content='This section explains the conditions you must meet to have cover under your policy. Some of these  \\nconditions also apply to any other person covered under your policy.'), Document(metadata={'Header 4': '**Conditions of your cover**', 'Header 6': '**Breach of any condition**'}, page_content='If you or any other person covered under your policy, or anyone acting on your or their behalf, breaches any  \\nof the conditions of your policy, we may do one or both of the following:  \\n- decline your claim, either in whole or in part  \\n- decline any claim connected to the same event that you make on any other policies you have with us.'), Document(metadata={'Header 4': '**Conditions of your cover**', 'Header 6': '**Dishonest or fraudulent act or omission**'}, page_content='If you commit a dishonest or fraudulent act or omission, we may avoid your policy and any other policy you  \\nhave with us. This means we treat your policy or all insurance you have with us as if it no longer exists. The  \\navoidance will take effect from the date of the dishonest or fraudulent act or omission.  \\nThis condition also applies to:  \\n- anyone acting on your behalf  \\n- anyone covered under your policy and anyone acting on their behalf.'), Document(metadata={'Header 4': '**Conditions of your cover**', 'Header 6': '**True statements and answers**'}, page_content='You must give true statements and answers in all communications with us, and so must any other person  \\ncovered under your policy.  \\nGiving true statements and answers includes being truthful when you:  \\n- apply for your policy  \\n- make a change to your policy  \\n- make a claim  \\n- let us know about any change in circumstances.'), Document(metadata={'Header 4': '**Conditions of your cover**', 'Header 6': '**Cancelling your policy**'}, page_content='Your policy can be cancelled in several ways.  \\nBy you  \\nYou may cancel your policy at any time by letting us know. Cancellation will take effect once you tell us, or  \\nfrom another date we both agree on.  \\nWe refund any premium paid for the period you have no cover. You pay any premium owing for the period you  \\nhad cover.  \\nPage 50 of 59  \\n<<-- PAGE BREAK -->>  \\nBy us  \\nWe may cancel your policy at any time by sending you notice in writing or electronically at your last known  \\naddress. Unless stated otherwise in your policy, cancellation will take effect from the 14th day after the date  \\nof the notice.  \\nWe refund any premium paid for the period you have no cover.  \\nAutomatically  \\nIf you have Home Insurance and we decide your home is a total loss, your Home Insurance will be  \\nautomatically cancelled. The cancellation will take effect from the end of the day of the loss.  \\nIf you have Contents Insurance and we settle your claim by paying your contents sum insured and any\\nspecified sums insured, your Contents Insurance will be automatically cancelled. The cancellation will take  \\neffect from the end of the day of the loss.  \\nWe do not refund or credit any premium paid.  \\nIf you pay the premium by instalments, we deduct any premium you owe us up to the end of the period of  \\ninsurance before we settle your claim.  \\nAs your policy will be automatically cancelled, you will need to make new insurance arrangements on any  \\nreplacement home or contents.'), Document(metadata={'Header 4': '**Conditions of your cover**', 'Header 6': '**Change in circumstances**'}, page_content='You must let us know as soon as possible if your circumstances change, and the change may affect any of  \\nthe following:  \\n- the chance of a claim under your policy  \\n- the amount of a claim under your policy  \\n- the information in your policy schedule.  \\nIf the change in circumstances affects any of these, we may cancel or change the terms of your policy. Any  \\ncancellation or change of terms will take effect from the date of the change in circumstances.  \\nExamples of a change in circumstances that you need to let us know about:  \\n- your home becomes a rental property  \\n- you change the address where you keep your contents  \\n- you are convicted of a criminal offence.  \\nIf you are not sure whether we need to know about something, it is important that you check with us.'), Document(metadata={'Header 4': '**Conditions of your cover**', 'Header 6': '**Change of terms**'}, page_content='We may change the terms of your policy (including the excess) at any time by sending you notice in writing or  \\nelectronically at your last known address. Unless stated otherwise in your policy, the change in terms will take  \\neffect on the 14th day after the date of the notice.  \\nPage 51 of 59  \\n<<-- PAGE BREAK -->>'), Document(metadata={'Header 4': '**Conditions of your cover**', 'Header 6': '**Changes to Crown entities**'}, page_content='Any reference to any Crown entity includes any new name given to that entity, and any replacement entity  \\nthat is responsible for the same or similar functions.'), Document(metadata={'Header 4': '**Conditions of your cover**', 'Header 6': '**Changes to legislation**'}, page_content='Any reference to any Act of Parliament or related regulations or rules your policy refers to includes any  \\namendments made or replacements to that law.'), Document(metadata={'Header 4': '**Conditions of your cover**', 'Header 6': '**Currency**'}, page_content='All amounts shown in your policy are in New Zealand dollars.'), Document(metadata={'Header 4': '**Conditions of your cover**', 'Header 6': '**Duplicate insurance**'}, page_content='You must let us know as soon as possible if any other insurance covers you for any risks covered under your  \\npolicy. We do not cover loss or liability that is insured to any extent under any other insurance. We also do  \\nnot contribute towards any claim under any other insurance.  \\nHowever, this condition does not apply to the extent cover is provided under the:  \\n- ‘Fatal injury’ automatic benefits in Home Insurance and Contents Insurance  \\n- ‘Contents with you or your family on overseas trips’ automatic benefit in Contents Insurance.'), Document(metadata={'Header 4': '**Conditions of your cover**', 'Header 6': '**Goods and Services Tax (GST)**'}, page_content='All amounts shown in your policy include Goods and Services Tax, unless stated otherwise.'), Document(metadata={'Header 4': '**Conditions of your cover**', 'Header 6': '**Governing law and jurisdiction**'}, page_content='The law of New Zealand applies to your policy and the New Zealand courts have sole jurisdiction.'), Document(metadata={'Header 4': '**Conditions of your cover**', 'Header 6': '**Insurance Claims Register**'}, page_content='We may put details of any claims you make on the Insurance Claims Register. This is a database of insurance  \\nclaims that participating insurers can access. We may get personal information and details of insurance\\nclaims you have made from the Insurance Claims Register.'), Document(metadata={'Header 4': '**Conditions of your cover**', 'Header 6': '**Joint insurance**'}, page_content='If your policy covers more than one person, everyone is jointly covered and must meet your policy terms and  \\nconditions. If any person does not meet your policy terms and conditions, we may decline a claim or treat  \\nyour policy as if it never existed.  \\nPage 52 of 59  \\n<<-- PAGE BREAK -->>'), Document(metadata={'Header 4': '**Conditions of your cover**', 'Header 6': '**Other parties with a financial interest**'}, page_content='If any other party has a financial interest over the covered property, we may do any of the following:  \\n- Pay part or all of any claim settlement to that other party. This payment will go towards meeting the  \\nobligations we have under your policy.  \\n- Give information about your policy and any claim to that other party.  \\nAny other party who has a financial interest over the covered property is not covered under and cannot claim  \\nunder your policy.'), Document(metadata={'Header 4': '**Conditions of your cover**', 'Header 6': '**Reasonable care**'}, page_content='You must take reasonable care to avoid situations that could result in a claim. We will not accept a claim  \\nresulting from you or any other person covered under your policy being reckless or grossly irresponsible.'), Document(metadata={'Header 4': '**Conditions of your cover**', 'Header 6': '**We must approve any assignment of your insurance**'}, page_content='You must get our written approval before assigning or transferring any of the entitlements or benefits of your  \\npolicy to another person or entity.  \\nPage 53 of 59  \\n<<-- PAGE BREAK -->>'), Document(metadata={'Header 4': '**Definitions**'}, page_content='The definitions apply to the plural and any other form of the words. For example, the definition of ‘accidental’  \\nalso applies to the words ‘accident’, ‘accidents’ and ‘accidentally’.  \\naccidental means unexpected and unintended by you or any other person covered under your policy.  \\nclosest equivalent item means an item of contents that is both:  \\n- as near as reasonably possible or equal to the specifications and features of the original item when it was new  \\n- readily available from a supplier based in New Zealand.  \\nThe brand, price, method of manufacturing or specifications and features may differ from the original item.  \\ncontamination claim means a claim for contamination damage from or attributable to, an event or  \\nmultiple events. The number of acts, persons, tenancies, occupancies or incidents involved does not matter.  \\ncontamination damage means loss caused by methamphetamine contamination that exceeds the  \\ncontamination level.  \\ncontamination level means the applicable guideline value for indoor surface contamination as set out in  \\nthe regulations made under the Residential Tenancies Act 1986. If no such regulations are in place, the most\\nrecent version of the New Zealand Standard NZS 8510 applies.  \\ncontents sum insured means the amount shown in your policy schedule for contents, excluding  \\nspecified items. Your contents sum insured includes automatic and optional benefits, unless stated  \\notherwise in a benefit.  \\nevent means any one or more occurrences of covered loss or liability during the period of insurance arising  \\nfrom one source or original cause or related causes.  \\nfamily means any member of your family who is either:  \\n- permanently living with you  \\n- a student living away from home while attending a school or tertiary institution.  \\nhidden gradual damage means hidden rot, hidden mould, hidden mildew or hidden gradual deterioration,  \\ncaused by water leaking from any of the following installed at your home:  \\n- an internal tank plumbed into the water reticulation system of your home and permanently used to store water  \\n- an internal water pipe  \\n- an internal waste disposal pipe.  \\nhome sum insured means the amount shown in your policy schedule for your home, excluding special  \\nfeatures. Your home sum insured includes the policy limits that apply to certain items.  \\nincident means something that happens at a particular point in time, at a particular place and in a particular way.  \\ninjury means the accidental death of or accidental bodily injury to any person, including sickness, disease,  \\ndisability, shock, fright, mental anguish or mental injury.  \\nloss means physical loss or physical damage.  \\nmethamphetamine means the Class A controlled drug Methamphetamine or Class B controlled drug  \\nAmphetamine as defined by the Misuse of Drugs Act 1975. ‘Methamphetamine’ includes any of their  \\nprecursor chemicals and by-products.  \\nPage 54 of 59  \\n<<-- PAGE BREAK -->>  \\nmotor vehicle means any type of machine on wheels or caterpillar tracks that is made to be or intended  \\nto be propelled by its own power, and anything that the machine tows. It includes a motorised personal  \\ntransportation device that meets the definition of ‘motor vehicle’ in the Land Transport Act 1998, such as any:  \\n- electric scooter with a maximum power output of over 300 watts  \\n- motorised skateboard, e-roller skate or e-unicycle.  \\nnatural hazard means damage caused by earthquake, hydrothermal activity, landslide, tsunami, volcanic  \\nactivity or natural hazard fire.  \\nnatural hazard fire means fire caused by, or connected to, any other natural hazard.  \\nNHI Act means the Natural Hazards Insurance Act 2023.  \\npartner means your husband or wife, or the person living with you in the nature of marriage.  \\nperiod of insurance means the period of insurance shown in your policy schedule that specifies the start  \\nand end dates of your policy.  \\npolicy schedule means the latest version of your policy schedule outlining the details of your cover.  \\npresent value means the estimated reasonable cost to replace an item with one from a supplier based in  \\nNew Zealand, that is of equivalent age, quality and capability, and in the same general condition.  \\nremediate means to reduce the level of methamphetamine contamination to below the contamination level.  \\nreparation means an amount ordered by a New Zealand court to be paid to the victim of an offence under\\nsection 32 of the Sentencing Act 2002.  \\nretaining wall means a wall of permanent construction that was built for the primary purpose of retaining  \\nland, and to the required building standards and regulations at the time it was constructed. It does not  \\ninclude any retaining wall that also forms part of a building.  \\nspecial feature means an item that is listed in your policy schedule as a special feature.  \\nspecial feature sum insured means the amount shown in your policy schedule for the special feature.  \\nspecified item means an item that is listed in your policy schedule as a specified item.  \\nspecified sum insured means the amount shown in your policy schedule for the specified item.  \\ntotal loss means any of the following situations apply following loss covered under your Home Insurance:  \\n- your residential dwelling is destroyed  \\n- your residential dwelling is repairable but we determine it would be more economic to demolish and  \\nrebuild it  \\n- your home sum insured is not enough to repair or rebuild your residential dwelling.  \\ntotal sum insured means the amount shown in your policy schedule of the same name. Your total sum  \\ninsured includes all the following:  \\n- your home sum insured  \\n- any special feature sums insured  \\n- automatic and optional benefits, unless stated otherwise in a benefit.  \\nPage 55 of 59  \\n<<-- PAGE BREAK -->>'), Document(metadata={'Header 4': '**How we pay claims – some examples**'}, page_content='The following examples show how a claim payment might be calculated and what amount you may be  \\nrequired to pay. These examples do not cover all scenarios or benefits and do not form part of your policy.'), Document(metadata={'Header 4': '**How we pay claims – some examples**', 'Header 6': '**Claim example 1 – repairing your home**'}, page_content='A storm damages the roof of your home.  \\n|Type of insurance|Home Insurance|\\n|---|---|\\n|Cover level|Home Comprehensive|\\n|Home sum insured|$500,000|\\n|Optional benefits|None|\\n|Standard excess|$750|  \\nYou make a claim and provide details of the incident and damage. We accept your claim.  \\n**What the costs are**  \\nWe estimate the cost of repair to your home’s roof is $3,500.  \\n**How we settle your claim**  \\nWe pay you $2,750, being our estimated cost of repair of $3,500 less the standard excess of $750.  \\nYou arrange for a builder to repair the damage and pay them the cost of repair you have both agreed.'), Document(metadata={'Header 4': '**How we pay claims – some examples**', 'Header 6': '**Claim example 2 – replacing your contents**'}, page_content='Your home is burgled and your 18-carat white gold diamond engagement ring, television and 2-year-old  \\nlaptop are stolen, and some money.  \\n|Type of insurance|Contents Insurance|\\n|---|---|\\n|Cover level|Contents Comprehensive|\\n|Contents sum insured|$80,000|\\n|Specified sum insured|$13,000 for your specified white gold diamond engagement ring|\\n|Optional benefits|None|\\n|Standard excess|$500|  \\nYou make a claim and provide details of the incident. You also provide a full description of the stolen items,  \\nincluding reasonable proof of their value and that you own them. We accept your claim.  \\n**What the costs are**  \\nOne of our electronic goods suppliers can replace your television with the closest equivalent item at a cost of\\n$2,700. They can also replace your laptop with the closest equivalent item at a cost of $2,300.  \\nOne of our jewellery suppliers can replace your ring with a ring of a similar type and quality at a cost of $12,800.  \\nThe amount of money stolen is $1,500.  \\nPage 56 of 59  \\n<<-- PAGE BREAK -->>  \\n**How we settle your claim**  \\nWe pay the electronic goods supplier $5,000, being the cost of the replacement television and laptop.  \\nWe pay the jewellery supplier $12,800, being the cost of the replacement ring.  \\nWe pay you $500 for the stolen money, being the maximum amount of $1,000 we pay for money less the\\nstandard excess of $500.'), Document(metadata={'Header 4': '**How we pay claims – some examples**', 'Header 6': '**Claim example 3 – your home and contents are a total loss**'}, page_content='Your home and contents are destroyed by flood.  \\n|Type of insurance|Home and Contents Insurance|\\n|---|---|\\n|Cover level|Home Comprehensive and Contents Comprehensive|\\n|Home – Total sum insured|$650,000|\\n|Contents sum insured|$80,000|\\n|Optional benefits|None|\\n|Standard excess|Home: $750<br>Contents: $500|\\n|Premium payment<br>frequency|Monthly instalments|  \\nYou make a claim and provide details of the incident and damage. We accept your claim.  \\n**What the costs are**  \\nThe cost you would incur to rebuild your home and replace your contents is more than their sums insured.  \\nWe decide your home and contents are a total loss.  \\n**How we settle your claim**  \\nYou choose to rebuild your home on the same site. We estimate that rebuilding your home will take 11 months\\n(47 weeks).  \\nWe pay you $2,000 for the stress caused by the loss.  \\nWe agree to upgrade your home with a solar water heating system at a cost of $7,000.  \\nWe also agree to cover your temporary accommodation at a cost of $600 per week while your home is being  \\nrebuilt.  \\nWe decide to pay you directly for the damage to your contents.  \\nWe pay you $765,930 in total to settle your claim, calculated as:  \\n|Home – Total sum insured|$650,000|\\n|---|---|\\n|Contents sum insured|$80,000|\\n|Home – Stress payment|$2,000|\\n|Home – Sustainability upgrade|$7,000|\\n|Home – Temporary accommodation <br>($600 per week x 47 weeks)|$28,200|  \\nPage 57 of 59  \\n<<-- PAGE BREAK -->>  \\n|Less the standard home excess (you only pay<br>the highest excess, since you have both Home and<br>Contents Insurance and the standard home excess<br>is higher)|- $750|\\n|---|---|\\n|Less the remaining unpaid monthly instalments<br>(since you pay the premium in instalments, we<br>deduct any premium you owe us up to the end of<br>the period of insurance before we settle your total<br>loss claim)|- $520|\\n|Total|$765,930|  \\n**What happens next**  \\nAs your home and contents are destroyed, we automatically cancel your Home Insurance and Contents  \\nInsurance from the end of the day of the loss.'), Document(metadata={'Header 4': '**How we pay claims – some examples**', 'Header 6': '**Claim example 4 – liability claim under Home Insurance**'}, page_content='Your neighbour discovers damage to a section of their drainage pipe caused by the roots of your tree that is  \\nclose to their boundary.  \\n|Type of insurance|Home Insurance|\\n|---|---|\\n|Cover level|Home Comprehensive|\\n|Liability limit|$2,000,000|\\n|Standard excess|$750|  \\nYour neighbour makes a claim against you for the damage to their drainage pipe. You make a claim for legal  \\nliability. We agree you are liable for the claim made against you and accept your claim.  \\n**What the costs are**  \\nYour neighbour arranges for a plumber to repair the damage and pays them $2,000 for the cost of repair.  \\n**How we settle your claim**  \\nWe act on your behalf.  \\nYou pay us the standard excess of $750, which we include in the settlement we pay to your neighbour.  \\nWe pay your neighbour $2,000, the cost we agree is reasonable for the repair.  \\nPage 58 of 59  \\n<<-- PAGE BREAK -->>'), Document(metadata={'Header 4': '**How we pay claims – some examples**', 'Header 6': '**Claim example 5 – liability claim under Contents Insurance**'}, page_content='While visiting your friend’s house, you accidentally spill a bowl of tomato sauce that leaves a large stain on\\ntheir $5,000 Persian rug.  \\n|Type of insurance|Contents Insurance|\\n|---|---|\\n|Cover level|Contents Comprehensive|\\n|Liability limit|$2,000,000|\\n|Standard excess|$500|  \\nYour friend makes a claim with their insurer for the damage to their rug. Your friend’s insurer considers you  \\nlegally liable for the damage and seeks to recover the cost from you. You make a claim for legal liability. We  \\nagree you are liable for the claim made against you and accept your claim.  \\n**What the costs are**  \\nYour friend’s insurer assesses that you are liable to pay $900.  \\n**How we settle your claim**  \\nWe act on your behalf.  \\nYou pay us the standard excess of $500, which we include in the settlement we pay to your friend’s insurer.  \\nWe pay your friend’s insurer $900, the cost we agree is reasonable for the work required to remove the stain.  \\nPage 59 of 59  \\n<<-- PAGE BREAK -->>  \\n**Home Comprehensive and Contents Comprehensive Insurance**  \\nCopyright (2024) IAG New Zealand Limited  \\n**[state.co.nz](http://www.state.co.nz)**  \\nState has relationships with insurance intermediaries who issue our policies. State is a business division of\\nIAG New Zealand Limited. IAG New Zealand Limited pays remuneration to insurance intermediaries when\\nthey issue State policies, and when these policies are renewed or varied.\\nThis policy document is subject to copyright.  \\nForm no: **SI6995/2** Issued: **December 2024**')]\n"
     ]
    }
   ],
   "source": [
    "# functions to chunk/split a markdown file into chunks\n",
    "def chunk_header_splitter(doc_contents)->list[Document]:\n",
    "\n",
    "    headers_to_split_on = [\n",
    "        (\"#\", \"Header 1\"),\n",
    "        (\"##\", \"Header 2\"),\n",
    "        (\"###\", \"Header 3\"),\n",
    "        ('####', \"Header 4\"),\n",
    "        ('#####', \"Header 5\"),\n",
    "        ('######', \"Header 6\"),\n",
    "        ('#######', \"Header 7\")\n",
    "    ]\n",
    "\n",
    "    markdown_splitter = MarkdownHeaderTextSplitter(headers_to_split_on, strip_headers=True)\n",
    "\n",
    "    return markdown_splitter.split_text(doc_contents)\n",
    "\n",
    "def chunk_header_recursivesplitter(doc_contents)->list:\n",
    "    text_splitter = RecursiveCharacterTextSplitter(\n",
    "        separators=[\". \", \"! \", \"? \", \"\\n\\n\", \"\\n\", \" \", \"\"],\n",
    "        chunk_size=2000,\n",
    "        chunk_overlap=200,\n",
    "    )\n",
    "    chunks = text_splitter.split_text(doc_contents)\n",
    "    return chunks\n",
    "\n",
    "print(chunk_header_splitter(doc_obj[0].page_content))\n",
    "#print(chunk_header_recursivesplitter(doc[0].page_content))"
   ]
  },
  {
   "cell_type": "code",
   "execution_count": 12,
   "id": "a90ed7c9",
   "metadata": {},
   "outputs": [],
   "source": [
    "# pydantic model of the vector db\n",
    "class DocumentChunk(BaseModel):\n",
    "    embedding: List[float]\n",
    "    chunk_text: str\n",
    "    metadata: Optional[Dict[str, str]] = Field(default_factory=dict)\n",
    "    file_name: str\n",
    "    tags: Optional[List[str]] = Field(default_factory=list)\n",
    "    isActive: bool\n",
    "    version: Optional[str] = None\n",
    "    created_at: Optional[datetime] = None\n",
    "    updated_at: Optional[datetime] = None\n"
   ]
  },
  {
   "cell_type": "code",
   "execution_count": null,
   "id": "5121ba2f",
   "metadata": {},
   "outputs": [],
   "source": [
    "def chunk_document(doc_obj)->list[str]:\n",
    "\n",
    "    # get metadata from the doc object \n",
    "    source_path = doc_obj[0].metadata.get(\"source\", \"\")\n",
    "    file_name = source_path.split(\"\\\\\")[-1] if source_path else \"unknown\"\n",
    "\n",
    "    doc_metadata = {\n",
    "        \"source\"        : doc_obj[0].metadata.get(\"source\"),\n",
    "        \"file_name\"     : file_name,\n",
    "        \"total_pages\"   : str(doc_obj[0].metadata.get(\"total_pages\")),\n",
    "        \"creation_date\" : doc_obj[0].metadata.get(\"creationdate\"),\n",
    "    }\n",
    "\n",
    "    try:\n",
    "        chunks = chunk_header_splitter(doc_obj[0].page_content)\n",
    "        logger.info(f\"Chunk Size for document '{file_name}': {len(chunks)}\")\n",
    "    except Exception as e:\n",
    "        logger.error(f\"Call to chunk_header_splitter failed: {e}\")    \n",
    "\n",
    "    doc_chunks_list = []\n",
    "\n",
    "    for chunk in chunks:\n",
    "\n",
    "        # skip pages that only have 30 char or less\n",
    "        if len(chunk.page_content) < 30: \n",
    "            continue \n",
    "\n",
    "        # additional metadata \n",
    "        chunk_metadata = doc_metadata.copy()\n",
    "\n",
    "        header_key, header_value = next(iter(chunk.metadata.items()), (None, None))\n",
    "\n",
    "        chunk_metadata[\"header_key\"] = header_key \n",
    "        chunk_metadata[\"header_value\"] = header_value.replace(\"*\",\"\").replace(\"#\",\"\")\n",
    "\n",
    "        # create an instance of DocumentChunk\n",
    "        doc_chunk = DocumentChunk(\n",
    "            embedding = [],\n",
    "            chunk_text = chunk.page_content,\n",
    "            metadata = chunk_metadata,\n",
    "            file_name = file_name,\n",
    "            isActive = True,\n",
    "            version = \"1\",\n",
    "            tags = [\"Home\", \"State\"],\n",
    "            created_at = current_nz_datetime,\n",
    "            updated_at= current_nz_datetime,\n",
    "        )\n",
    "\n",
    "        doc_chunks_list.append(doc_chunk)\n",
    "\n",
    "    return doc_chunks_list\n",
    "\n",
    "#print(chunk_document(doc_obj))"
   ]
  },
  {
   "cell_type": "code",
   "execution_count": null,
   "id": "156db80d",
   "metadata": {},
   "outputs": [],
   "source": [
    "# enrich each chunks \n",
    "\n"
   ]
  },
  {
   "cell_type": "code",
   "execution_count": null,
   "id": "a2a1a827",
   "metadata": {},
   "outputs": [
    {
     "name": "stdout",
     "output_type": "stream",
     "text": [
      "[array([-3.49265672e-02, -1.19090453e-03, -9.83221363e-03, -4.09996025e-02,\n",
      "        4.52825474e-03, -2.77397037e-02,  3.44226919e-02,  2.90391743e-02,\n",
      "        6.88453838e-02, -9.32833739e-03, -1.58323161e-02, -2.71164887e-02,\n",
      "        1.02300104e-02,  7.26642366e-03,  3.52182873e-02,  2.30059214e-02,\n",
      "        2.15208121e-02, -7.03304932e-02, -3.36005799e-02,  2.17992701e-02,\n",
      "        3.75785492e-02, -3.81885022e-02,  6.40121521e-03, -9.27529763e-03,\n",
      "        1.44267678e-02,  5.92385884e-03,  6.53712917e-03, -2.05263197e-02,\n",
      "       -9.56038572e-03, -6.64055645e-02,  1.26764616e-02,  2.94634905e-02,\n",
      "        4.39698175e-02, -1.10123446e-02,  1.22123649e-02,  4.63300794e-02,\n",
      "       -6.47613332e-02,  1.01570813e-02, -4.18482348e-02,  1.18676072e-03,\n",
      "        3.97266522e-02,  9.43441689e-03, -1.49836838e-02,  1.27029810e-02,\n",
      "       -1.77019625e-03, -1.78345609e-02, -2.54457425e-02, -1.19007574e-02,\n",
      "        2.47827470e-02,  8.77142232e-03, -4.03366052e-02, -5.44716567e-02,\n",
      "       -3.58812809e-02, -7.19747245e-02,  1.38300722e-02,  4.94594164e-02,\n",
      "        4.27499078e-02,  1.53019214e-02,  5.14218807e-02,  3.31232212e-02,\n",
      "        2.37683649e-03,  2.64137145e-02, -1.58588365e-01,  2.90922131e-02,\n",
      "        1.42676495e-02,  3.80293839e-02, -1.92931499e-02, -5.04207565e-03,\n",
      "       -5.19456482e-03,  2.73949467e-02,  2.21970677e-02,  6.63657859e-03,\n",
      "        3.66238356e-02,  6.32762313e-02, -5.88739440e-02, -2.23694462e-02,\n",
      "        9.85873304e-03,  1.72643866e-02, -2.88800560e-02,  6.98796567e-03,\n",
      "       -2.32843794e-02, -1.82986576e-02,  4.07078816e-03,  5.90330623e-02,\n",
      "       -7.26111978e-02, -2.73153875e-02, -1.32333776e-02,  3.86658609e-02,\n",
      "        4.11322005e-02,  3.11342385e-02,  1.00178523e-02, -4.60118428e-02,\n",
      "       -3.71807516e-02,  1.05482480e-02, -3.78967859e-02, -3.70481536e-02,\n",
      "        3.88846477e-03, -1.18609779e-02,  2.86944173e-02,  3.96311790e-01,\n",
      "       -1.33394562e-02,  2.13749539e-02,  4.59588021e-02, -5.91921806e-02,\n",
      "       -1.77815221e-02, -5.48296748e-03,  1.54212601e-02, -3.54304463e-02,\n",
      "       -1.63892321e-02, -5.94374863e-03, -5.68584390e-02, -2.43849512e-02,\n",
      "        1.26797764e-03, -1.80864986e-02,  4.00448870e-03,  1.56997181e-02,\n",
      "        3.55365239e-02, -3.33088599e-02, -2.65330542e-02, -3.95144932e-02,\n",
      "        5.00958897e-02,  2.57946434e-04, -3.78172249e-02, -2.80844625e-02,\n",
      "        2.22501066e-02, -9.34822764e-03,  7.49449357e-02,  4.45532538e-02,\n",
      "        5.98816946e-02, -1.65616106e-02,  1.34919453e-02, -6.44961372e-02,\n",
      "       -3.79233062e-03,  3.04182041e-02, -5.77601120e-02, -2.90391743e-02,\n",
      "       -2.75308616e-03,  2.83496603e-02,  4.46328148e-02, -1.75428446e-02,\n",
      "       -3.95410135e-02, -7.54753351e-02, -6.30110279e-02, -2.55518220e-02,\n",
      "       -6.90045059e-02,  1.16793171e-01, -1.38300722e-02,  8.06864724e-03,\n",
      "        3.68583685e-04, -3.37066576e-02,  1.49306441e-02,  6.70950785e-02,\n",
      "        5.42594977e-02, -7.30885491e-02,  2.86123715e-04,  4.50836495e-02,\n",
      "        1.61505546e-02, -3.30171436e-02, -1.74765438e-02,  6.63525239e-02,\n",
      "        7.43084624e-02, -2.36158762e-02,  4.46195528e-03,  7.14443251e-02,\n",
      "        4.42084968e-02, -4.02835682e-02, -3.40514146e-02, -4.60118428e-02,\n",
      "        6.14728816e-02,  1.32002272e-02,  5.95104173e-02,  1.75030646e-03,\n",
      "       -1.20532466e-02,  2.67584715e-02, -1.54742999e-02,  8.68523214e-03,\n",
      "        1.43604688e-02,  1.43869882e-02,  6.22883672e-03,  1.37637733e-02,\n",
      "        2.66855420e-03,  3.33884209e-02, -8.66136476e-02,  7.97185004e-02,\n",
      "        1.54345203e-02, -5.24031147e-02, -2.89596152e-02, -8.06201715e-03,\n",
      "        4.02040072e-02, -1.37637733e-02, -3.93818952e-02,  7.48388618e-02,\n",
      "        1.35781346e-02,  1.63096730e-02, -9.55773368e-02, -1.81660596e-02,\n",
      "        2.00622249e-02, -2.28733215e-02, -5.15544787e-02,  7.45869195e-03,\n",
      "       -4.75499891e-02,  1.31604476e-02, -1.46389259e-02,  1.22521445e-02,\n",
      "        6.34353459e-02,  1.52621418e-02,  1.14234015e-02,  3.37920181e-04,\n",
      "        4.38902602e-02,  7.29957316e-03, -3.58812809e-02, -1.97572466e-02,\n",
      "        8.69849231e-03,  5.10771237e-02,  2.72093080e-02, -6.73072338e-02,\n",
      "       -1.66146513e-02,  3.60006210e-03,  2.88270153e-02,  1.75030641e-02,\n",
      "       -1.01252571e-01, -1.87627543e-02,  4.66483161e-02, -3.42423588e-01,\n",
      "        1.15029607e-03,  3.49265672e-02,  2.53264029e-02,  7.71195590e-02,\n",
      "       -3.09452857e-03,  2.70501897e-02, -8.75816215e-03,  1.81660596e-02,\n",
      "       -3.57022719e-03, -1.93992294e-02, -4.86903414e-02,  5.65932393e-02,\n",
      "       -1.28554702e-02,  4.14371770e-03, -6.17911201e-03,  1.61687867e-03,\n",
      "        9.76591371e-03,  5.03080487e-02,  5.67523576e-02,  4.17156368e-02,\n",
      "       -1.29076812e-04,  2.23164074e-02, -1.66676901e-02,  3.43166143e-02,\n",
      "       -1.93594489e-02,  2.08657742e-01,  8.52346197e-02, -6.69210451e-04,\n",
      "       -2.48225275e-02,  5.97225763e-02, -2.54722629e-02,  3.91697362e-02,\n",
      "       -1.13186479e-01,  5.38351834e-02,  5.14484011e-02, -2.46236287e-02,\n",
      "        1.79273803e-02, -2.71297488e-02, -2.28865817e-02,  1.48776043e-02,\n",
      "        3.20093930e-02, -1.64290126e-02, -4.76295501e-02, -5.90860993e-02,\n",
      "       -5.21113947e-02, -8.97960216e-02, -1.74367651e-02, -8.48103017e-02,\n",
      "        5.76009937e-02,  2.19716486e-02, -3.83476205e-02, -3.86194489e-03,\n",
      "       -2.81375013e-02,  4.12913188e-02, -1.21593252e-02, -8.35373476e-02,\n",
      "       -2.38810740e-02, -4.15299982e-02, -1.24841928e-02,  3.72603117e-03,\n",
      "        7.16034472e-02,  4.93533351e-02, -1.14366608e-02, -1.70721172e-03,\n",
      "        2.90126540e-02,  7.57935718e-02, -8.26887190e-02, -5.32716373e-03,\n",
      "        5.65402023e-02, -3.03916838e-02,  4.82660234e-02, -1.97174661e-02,\n",
      "       -4.89025004e-02, -1.10852737e-02,  2.31882441e-03, -6.69889972e-02,\n",
      "       -5.61888143e-03, -3.37596983e-02, -4.75499891e-02,  4.26968671e-02,\n",
      "       -1.10852737e-02, -5.41534200e-02,  1.28819896e-02,  5.36230244e-02,\n",
      "        7.58996531e-02,  2.65197940e-02, -1.93727091e-02,  6.41779006e-02,\n",
      "       -2.11329618e-03, -2.14478839e-03,  1.55273397e-02, -1.17814187e-02,\n",
      "       -1.26035325e-02, -1.85804302e-03, -5.91391400e-02, -3.09963346e-01,\n",
      "       -8.37362465e-03, -2.62545962e-02,  3.75520289e-02,  3.69420722e-02,\n",
      "        3.66238356e-02, -6.77580759e-03,  4.17421572e-02, -3.33619006e-02,\n",
      "        4.00183685e-02, -2.58965790e-02,  3.62260379e-02,  1.54212601e-02,\n",
      "       -1.76754426e-02,  3.08292615e-03,  2.47694869e-02,  6.23745546e-02,\n",
      "       -2.89065763e-02,  4.83721048e-02, -8.34312737e-02,  6.96144579e-03,\n",
      "        1.40264849e-04,  1.06185257e-01, -3.93818952e-02,  3.62790786e-02,\n",
      "       -1.50632430e-02, -5.92054380e-03, -3.55100036e-02,  6.49204552e-02,\n",
      "       -1.23648541e-02,  6.45757001e-03, -7.65759032e-03,  1.02790721e-01,\n",
      "        1.59516558e-02, -1.58455763e-02, -4.06813622e-02, -4.51167999e-03,\n",
      "        3.16911526e-02,  2.25948635e-02,  7.31283333e-03, -7.65361264e-02,\n",
      "       -2.21937522e-03, -1.98633261e-02, -1.60975158e-02,  7.20277578e-02,\n",
      "       -1.53019214e-02,  4.41289358e-02, -7.16034472e-02, -3.69685926e-02,\n",
      "        5.58904652e-03,  2.49683857e-02, -1.15228500e-02,  9.26866755e-03,\n",
      "       -6.34486089e-03,  3.50591689e-02,  1.51030226e-02, -4.03366052e-02,\n",
      "       -3.12668383e-02,  5.19787967e-02, -2.64137145e-02, -3.51652466e-02,\n",
      "       -3.33884209e-02,  4.62505221e-02,  1.92268509e-02, -1.03029404e-02],\n",
      "      dtype=float32), array([-6.96885958e-02,  1.26015842e-02,  5.44278417e-03, -5.57705248e-03,\n",
      "        2.26749908e-02,  4.90702018e-02, -4.62931357e-02, -1.32893007e-02,\n",
      "        2.54913531e-02,  1.62694044e-02, -1.37019306e-02, -3.29579897e-02,\n",
      "        4.53499816e-02,  1.02240499e-02,  4.33326811e-02,  3.84335220e-02,\n",
      "       -2.75348537e-02,  9.49441567e-02, -3.73593755e-02, -1.83653031e-02,\n",
      "        5.72769484e-03, -5.98378740e-02, -1.96752381e-02, -8.85516703e-02,\n",
      "       -2.96307523e-02,  7.85306655e-03, -4.29397002e-02, -4.65551242e-02,\n",
      "       -3.37963477e-02, -2.20069245e-01,  4.97251675e-02, -4.78650592e-02,\n",
      "        1.02489389e-01,  1.92953572e-02, -2.39063315e-02,  2.43975577e-04,\n",
      "       -4.33064848e-02,  6.26673400e-02, -5.83183505e-02, -9.53797135e-04,\n",
      "        2.31596678e-02,  4.84152324e-02, -5.18210679e-02, -5.16376756e-02,\n",
      "        1.80771167e-03, -1.91905610e-02,  4.93845865e-02, -2.19021291e-02,\n",
      "        2.54913531e-02,  5.73751936e-03,  1.92560591e-02, -2.92377714e-02,\n",
      "       -1.60364812e-04,  1.53524494e-02,  2.26225946e-02,  2.57271416e-02,\n",
      "        3.72283794e-02,  3.95862646e-02, -4.77340668e-02, -5.50173107e-04,\n",
      "       -2.58712354e-03,  1.23264976e-02, -1.49725685e-02,  4.51665930e-02,\n",
      "       -1.66607485e-03, -5.05144068e-04, -9.62802954e-03, -3.11240777e-02,\n",
      "       -3.92194837e-02,  6.91646188e-02, -1.88303296e-03,  2.61070244e-02,\n",
      "       -3.10716815e-02,  6.90074265e-02,  1.58109274e-02,  1.29683660e-02,\n",
      "        4.12891805e-02,  6.15342427e-03, -1.59288216e-02, -1.87582839e-02,\n",
      "        4.37191129e-03, -1.80640165e-02,  1.53262503e-02,  2.52326415e-03,\n",
      "       -4.02150340e-02, -1.18352715e-02,  2.18497328e-02, -4.18655537e-02,\n",
      "        2.74824575e-02, -2.08443566e-03, -3.69401947e-02, -2.20462214e-02,\n",
      "       -3.87413567e-03,  1.56930331e-02,  1.06170308e-02,  7.59107899e-03,\n",
      "        7.05400528e-03,  3.31151821e-02,  5.71656041e-02,  3.57560128e-01,\n",
      "       -4.38042581e-02,  2.87661944e-02,  6.16193861e-02, -4.32278886e-02,\n",
      "        2.86875982e-02, -6.54967949e-02,  3.42417248e-02,  9.73937381e-03,\n",
      "       -5.07207215e-02, -1.40818115e-02, -3.88526991e-02, -4.53761816e-02,\n",
      "       -5.24956826e-03,  1.31910555e-02,  1.93608534e-02,  2.25701965e-02,\n",
      "        1.44911662e-03,  2.94211619e-02,  1.55096417e-02, -1.53000522e-02,\n",
      "       -9.73282382e-03,  2.00551189e-02, -1.49463695e-02,  3.81715335e-02,\n",
      "        4.57691625e-02, -2.74038613e-02,  5.69560155e-02,  1.17055878e-01,\n",
      "        5.39169647e-02,  8.97568092e-02,  3.11109796e-03,  3.32199745e-02,\n",
      "       -7.65657565e-03,  6.19337708e-02,  2.45089028e-02,  2.35264506e-02,\n",
      "       -1.56930331e-02, -1.05449846e-02,  2.14993232e-03, -5.92091074e-03,\n",
      "       -4.72100936e-02,  6.86406419e-02,  1.41604077e-02, -5.59080653e-02,\n",
      "       -2.50721741e-02,  9.37914178e-02, -2.65262034e-02,  7.40523159e-04,\n",
      "       -4.29397002e-02, -8.25783610e-02,  2.57238676e-03, -1.78581118e-04,\n",
      "       -4.00840417e-02, -8.71369392e-02,  5.57377748e-03, -1.93608534e-02,\n",
      "        3.89312953e-02, -1.45795876e-02, -8.30499362e-03,  6.71997154e-03,\n",
      "       -1.34530421e-02, -3.21458280e-02, -3.07998690e-03,  7.66574517e-02,\n",
      "       -1.13440454e-02, -9.92931426e-02,  3.35081629e-02, -3.72807793e-02,\n",
      "        2.87923925e-02, -3.18576433e-02, -2.01206170e-02,  1.05646336e-02,\n",
      "       -9.80487093e-03,  4.89916056e-02,  2.24916004e-02, -3.30103859e-02,\n",
      "       -7.67622441e-02, -2.65000053e-02,  6.94266036e-02,  3.22506242e-02,\n",
      "        4.62145396e-02, -2.45089028e-02, -5.96806817e-02,  7.13653117e-02,\n",
      "       -7.79411895e-03, -4.17345613e-02, -8.97306111e-03,  5.79974148e-03,\n",
      "        7.63692660e-03,  5.98313240e-03,  8.74382257e-03,  4.06080149e-02,\n",
      "       -2.57271416e-02,  1.23068485e-02, -1.40949106e-02, -4.46426161e-02,\n",
      "        1.23723457e-02,  1.33351479e-02, -2.57140435e-02, -3.20672318e-02,\n",
      "        1.97538342e-02,  2.94473600e-02,  1.02698980e-02,  3.07048988e-02,\n",
      "       -3.24864127e-02, -4.58739586e-02,  1.31124593e-02, -1.56013370e-02,\n",
      "        5.21354526e-02,  6.05190434e-02, -5.08779138e-02, -2.38932315e-02,\n",
      "        1.77103337e-02, -3.31151821e-02,  8.35739169e-03,  1.86796878e-02,\n",
      "       -1.90431939e-03,  6.84834495e-02,  5.77943735e-02,  4.06604111e-02,\n",
      "       -3.36653553e-02, -4.96465713e-02, -7.88581464e-03, -2.96150327e-01,\n",
      "       -2.15353481e-02,  2.51998939e-03, -8.38359003e-04, -4.08438034e-02,\n",
      "       -8.85516703e-02, -8.56370665e-04,  9.22194961e-03,  1.96097419e-02,\n",
      "       -2.13388577e-02,  4.77340668e-02, -6.17765784e-02, -3.56040597e-02,\n",
      "       -2.95783542e-02, -3.97696570e-02,  2.91329753e-02,  1.81033146e-02,\n",
      "        6.59225276e-03, -4.13939767e-02, -2.85566039e-02,  1.26146832e-02,\n",
      "        5.59604652e-02,  1.78282280e-02, -2.91591752e-02,  3.07834949e-02,\n",
      "       -1.49987666e-02,  2.09065780e-01, -5.33471443e-03,  4.16035652e-02,\n",
      "       -2.51376703e-02,  1.62039082e-02, -3.48180979e-02, -6.60862681e-03,\n",
      "       -1.55096412e-01,  9.73282382e-03,  5.35763800e-02,  8.55388213e-03,\n",
      "        2.30941717e-02,  4.59001549e-02,  3.91998328e-03, -2.70370785e-02,\n",
      "       -8.61937832e-03,  5.69560155e-02, -1.44512132e-01, -2.12602615e-02,\n",
      "       -3.61542329e-02, -4.35684696e-02, -3.09144892e-02, -4.69219051e-02,\n",
      "        1.44485934e-02,  1.63349006e-02, -8.54078233e-02,  5.23974374e-02,\n",
      "        4.84152324e-02, -5.73227964e-02, -1.57454312e-02,  2.94997580e-02,\n",
      "       -2.12471616e-02, -2.06052922e-02,  6.41344637e-02,  3.76213603e-02,\n",
      "       -1.18837394e-01, -1.83915012e-02, -6.20909631e-02,  4.71314974e-02,\n",
      "       -1.67016834e-02,  9.96861234e-03, -2.19807252e-02, -5.10547543e-03,\n",
      "       -4.32540849e-02, -6.16717860e-02,  3.95338684e-02, -6.16717860e-02,\n",
      "        5.88816218e-03,  9.37914196e-03,  1.99437747e-03, -1.91250648e-02,\n",
      "        6.25101477e-02, -3.16480547e-02, -1.68163027e-03,  5.49649149e-02,\n",
      "        4.43085842e-03,  4.62669395e-02, -3.25388089e-02,  3.93504761e-02,\n",
      "        3.37177515e-02,  5.04325330e-02,  2.63035148e-02, -1.52345551e-02,\n",
      "        4.30444963e-02, -3.95862646e-02,  5.37073764e-04, -5.74275926e-02,\n",
      "       -1.57323312e-02, -1.59681197e-02, -2.15222482e-02, -2.65340626e-01,\n",
      "        8.62592831e-03, -1.01782028e-02,  7.95131177e-03, -1.90202706e-02,\n",
      "        2.41945181e-02, -1.38722220e-02, -6.39248788e-02,  4.84938286e-02,\n",
      "       -1.67426188e-03, -3.62328291e-02,  5.14542833e-02,  5.22926450e-02,\n",
      "       -1.04991365e-02,  4.25467193e-02,  4.95417789e-02,  6.48156330e-02,\n",
      "       -3.23030204e-02,  4.21537384e-02, -1.43568981e-02,  1.56406350e-02,\n",
      "        3.15039605e-03,  2.20278829e-01, -3.86693105e-02, -6.57260371e-03,\n",
      "        4.64765280e-02,  1.17304763e-02, -6.01522587e-02,  4.67123166e-02,\n",
      "       -1.67671796e-02,  1.01258047e-02, -9.66077764e-03,  6.86930418e-02,\n",
      "       -2.47839894e-02, -5.25284335e-02,  4.31230925e-02, -4.55202768e-03,\n",
      "       -2.37884372e-02,  5.50828082e-03, -2.37229411e-02,  2.52424665e-02,\n",
      "       -4.55857702e-02,  3.54992636e-02,  1.66885834e-02, -1.21496562e-02,\n",
      "        1.86010916e-02,  7.10509270e-02,  5.89471199e-02,  1.26801804e-02,\n",
      "        2.34609526e-02,  1.53655484e-02, -4.10009958e-02,  1.00079104e-02,\n",
      "        1.72256585e-02,  5.06159253e-02, -1.33482479e-02, -5.33143952e-02,\n",
      "        7.56095052e-02, -1.78020298e-02, -7.98405986e-03,  3.75951617e-03,\n",
      "       -2.90281810e-02,  5.16114756e-02,  1.29683660e-02,  1.32827507e-02],\n",
      "      dtype=float32)]\n"
     ]
    }
   ],
   "source": [
    "# initialised embedding\n",
    "#BAAI/bge-small-en-v1.5 : 384 dim; BAAI/bge-base-en-v1.5 : 768 dim; BAAI/bge-base-en-v1.5 : 768 dim; BAAI/bge-large-en-v1.5 : 1024 dim; \n",
    "embedding_model = TextEmbedding(model_name=\"BAAI/bge-base-en-v1.5\")  \n",
    "\n",
    "\n",
    "# Progress bar for chunk enrichment within the current file\n",
    "with tqdm(total=len(doc_chunks), desc=f\"Enriching Chunks\", leave=False) as pbar_chunks:\n",
    "    for chunk in doc_chunks:\n",
    "        # Apply enrichment logic (e.g., embeddings, metadata)\n",
    "        enrichment_data = enrich_chunk(chunk)\n",
    "        if enrichment_data:\n",
    "            # Identify if chunk is a table (has HTML representation)\n",
    "            is_table = 'text_as_html' in chunk.metadata.to_dict()\n",
    "            content = chunk.metadata.text_as_html if is_table else chunk.text\n",
    "\n",
    "            # Store final enriched chunk data\n",
    "            final_chunk_data = {\n",
    "                'source': f\"{os.path.basename(os.path.dirname(os.path.dirname(file_path)))}/\"\n",
    "                            f\"{os.path.basename(os.path.dirname(file_path))}\",\n",
    "                'content': content,\n",
    "                'is_table': is_table,\n",
    "                **enrichment_data\n",
    "            }\n",
    "            all_enriched_chunks.append(final_chunk_data)\n",
    "\n",
    "        # Update chunk-level progress bar\n",
    "        pbar_chunks.update(1)\n",
    "\n",
    "# Update file-level progress bar\n",
    "pbar_files.update(1)\n"
   ]
  },
  {
   "cell_type": "code",
   "execution_count": 15,
   "id": "ec190984",
   "metadata": {},
   "outputs": [],
   "source": [
    "# Using SQLALCHEMY\n",
    "# create the engine\n",
    "db_engine = get_engine()"
   ]
  },
  {
   "cell_type": "code",
   "execution_count": 16,
   "id": "aba46aef",
   "metadata": {},
   "outputs": [
    {
     "name": "stdout",
     "output_type": "stream",
     "text": [
      "2025-09-25 20:57:32,639 INFO sqlalchemy.engine.Engine select pg_catalog.version()\n"
     ]
    },
    {
     "name": "stderr",
     "output_type": "stream",
     "text": [
      "2025-09-25 20:57:32,639 [INFO] sqlalchemy.engine.Engine: select pg_catalog.version()\n"
     ]
    },
    {
     "name": "stdout",
     "output_type": "stream",
     "text": [
      "2025-09-25 20:57:32,642 INFO sqlalchemy.engine.Engine [raw sql] ()\n"
     ]
    },
    {
     "name": "stderr",
     "output_type": "stream",
     "text": [
      "2025-09-25 20:57:32,642 [INFO] sqlalchemy.engine.Engine: [raw sql] ()\n"
     ]
    },
    {
     "name": "stdout",
     "output_type": "stream",
     "text": [
      "2025-09-25 20:57:32,644 INFO sqlalchemy.engine.Engine select current_schema()\n"
     ]
    },
    {
     "name": "stderr",
     "output_type": "stream",
     "text": [
      "2025-09-25 20:57:32,644 [INFO] sqlalchemy.engine.Engine: select current_schema()\n"
     ]
    },
    {
     "name": "stdout",
     "output_type": "stream",
     "text": [
      "2025-09-25 20:57:32,644 INFO sqlalchemy.engine.Engine [raw sql] ()\n"
     ]
    },
    {
     "name": "stderr",
     "output_type": "stream",
     "text": [
      "2025-09-25 20:57:32,644 [INFO] sqlalchemy.engine.Engine: [raw sql] ()\n"
     ]
    },
    {
     "name": "stdout",
     "output_type": "stream",
     "text": [
      "2025-09-25 20:57:32,651 INFO sqlalchemy.engine.Engine show standard_conforming_strings\n"
     ]
    },
    {
     "name": "stderr",
     "output_type": "stream",
     "text": [
      "2025-09-25 20:57:32,651 [INFO] sqlalchemy.engine.Engine: show standard_conforming_strings\n"
     ]
    },
    {
     "name": "stdout",
     "output_type": "stream",
     "text": [
      "2025-09-25 20:57:32,651 INFO sqlalchemy.engine.Engine [raw sql] ()\n"
     ]
    },
    {
     "name": "stderr",
     "output_type": "stream",
     "text": [
      "2025-09-25 20:57:32,651 [INFO] sqlalchemy.engine.Engine: [raw sql] ()\n",
      "2025-09-25 20:57:32,656 [INFO] db.db_connection_pool: DB connection opened\n"
     ]
    },
    {
     "name": "stdout",
     "output_type": "stream",
     "text": [
      "2025-09-25 20:57:32,657 INFO sqlalchemy.engine.Engine BEGIN (implicit)\n"
     ]
    },
    {
     "name": "stderr",
     "output_type": "stream",
     "text": [
      "2025-09-25 20:57:32,657 [INFO] sqlalchemy.engine.Engine: BEGIN (implicit)\n"
     ]
    },
    {
     "name": "stdout",
     "output_type": "stream",
     "text": [
      "2025-09-25 20:57:32,658 INFO sqlalchemy.engine.Engine SELECT 1\n"
     ]
    },
    {
     "name": "stderr",
     "output_type": "stream",
     "text": [
      "2025-09-25 20:57:32,658 [INFO] sqlalchemy.engine.Engine: SELECT 1\n"
     ]
    },
    {
     "name": "stdout",
     "output_type": "stream",
     "text": [
      "2025-09-25 20:57:32,659 INFO sqlalchemy.engine.Engine [generated in 0.00263s] ()\n"
     ]
    },
    {
     "name": "stderr",
     "output_type": "stream",
     "text": [
      "2025-09-25 20:57:32,659 [INFO] sqlalchemy.engine.Engine: [generated in 0.00263s] ()\n"
     ]
    },
    {
     "name": "stdout",
     "output_type": "stream",
     "text": [
      "1\n",
      "2025-09-25 20:57:32,663 INFO sqlalchemy.engine.Engine ROLLBACK\n"
     ]
    },
    {
     "name": "stderr",
     "output_type": "stream",
     "text": [
      "2025-09-25 20:57:32,663 [INFO] sqlalchemy.engine.Engine: ROLLBACK\n",
      "2025-09-25 20:57:32,665 [INFO] db.db_connection_pool: DB connection closed\n"
     ]
    }
   ],
   "source": [
    "# test\n",
    "async with get_conn(db_engine) as conn:\n",
    "    stmt = text(\"SELECT 1\")\n",
    "    result = await conn.execute(stmt)\n",
    "    print(result.scalar())\n"
   ]
  },
  {
   "cell_type": "code",
   "execution_count": null,
   "id": "1edb4422",
   "metadata": {},
   "outputs": [
    {
     "name": "stderr",
     "output_type": "stream",
     "text": [
      "2025-09-25 20:57:37,324 [INFO] db.db_connection_pool: DB connection opened\n"
     ]
    },
    {
     "name": "stdout",
     "output_type": "stream",
     "text": [
      "2025-09-25 20:57:37,325 INFO sqlalchemy.engine.Engine BEGIN (implicit)\n"
     ]
    },
    {
     "name": "stderr",
     "output_type": "stream",
     "text": [
      "2025-09-25 20:57:37,325 [INFO] sqlalchemy.engine.Engine: BEGIN (implicit)\n"
     ]
    },
    {
     "name": "stdout",
     "output_type": "stream",
     "text": [
      "2025-09-25 20:57:37,326 INFO sqlalchemy.engine.Engine SET search_path TO public, document;\n"
     ]
    },
    {
     "name": "stderr",
     "output_type": "stream",
     "text": [
      "2025-09-25 20:57:37,326 [INFO] sqlalchemy.engine.Engine: SET search_path TO public, document;\n"
     ]
    },
    {
     "name": "stdout",
     "output_type": "stream",
     "text": [
      "2025-09-25 20:57:37,327 INFO sqlalchemy.engine.Engine [generated in 0.00090s] ()\n"
     ]
    },
    {
     "name": "stderr",
     "output_type": "stream",
     "text": [
      "2025-09-25 20:57:37,327 [INFO] sqlalchemy.engine.Engine: [generated in 0.00090s] ()\n"
     ]
    },
    {
     "name": "stdout",
     "output_type": "stream",
     "text": [
      "2025-09-25 20:57:37,332 INFO sqlalchemy.engine.Engine CREATE SCHEMA IF NOT EXISTS document;\n"
     ]
    },
    {
     "name": "stderr",
     "output_type": "stream",
     "text": [
      "2025-09-25 20:57:37,332 [INFO] sqlalchemy.engine.Engine: CREATE SCHEMA IF NOT EXISTS document;\n"
     ]
    },
    {
     "name": "stdout",
     "output_type": "stream",
     "text": [
      "2025-09-25 20:57:37,332 INFO sqlalchemy.engine.Engine [generated in 0.00092s] ()\n"
     ]
    },
    {
     "name": "stderr",
     "output_type": "stream",
     "text": [
      "2025-09-25 20:57:37,332 [INFO] sqlalchemy.engine.Engine: [generated in 0.00092s] ()\n"
     ]
    },
    {
     "name": "stdout",
     "output_type": "stream",
     "text": [
      "2025-09-25 20:57:37,334 INFO sqlalchemy.engine.Engine \n",
      "            CREATE TABLE IF NOT EXISTS document.document_chunk (\n",
      "                id              UUID PRIMARY KEY DEFAULT gen_random_uuid(),\n",
      "                embedding       VECTOR(1536),\n",
      "                chunk_text      TEXT,\n",
      "                doc_metadata    JSONB,\n",
      "                file_name       TEXT,\n",
      "                doc_tags        TEXT[],\n",
      "                isActive        BOOLEAN,\n",
      "                version         TEXT,\n",
      "                created_at      TIMESTAMP DEFAULT CURRENT_TIMESTAMP,\n",
      "                updated_at      TIMESTAMP\n",
      "            );\n",
      "        \n"
     ]
    },
    {
     "name": "stderr",
     "output_type": "stream",
     "text": [
      "2025-09-25 20:57:37,334 [INFO] sqlalchemy.engine.Engine: \n",
      "            CREATE TABLE IF NOT EXISTS document.document_chunk (\n",
      "                id              UUID PRIMARY KEY DEFAULT gen_random_uuid(),\n",
      "                embedding       VECTOR(1536),\n",
      "                chunk_text      TEXT,\n",
      "                doc_metadata    JSONB,\n",
      "                file_name       TEXT,\n",
      "                doc_tags        TEXT[],\n",
      "                isActive        BOOLEAN,\n",
      "                version         TEXT,\n",
      "                created_at      TIMESTAMP DEFAULT CURRENT_TIMESTAMP,\n",
      "                updated_at      TIMESTAMP\n",
      "            );\n",
      "        \n"
     ]
    },
    {
     "name": "stdout",
     "output_type": "stream",
     "text": [
      "2025-09-25 20:57:37,334 INFO sqlalchemy.engine.Engine [generated in 0.00076s] ()\n"
     ]
    },
    {
     "name": "stderr",
     "output_type": "stream",
     "text": [
      "2025-09-25 20:57:37,334 [INFO] sqlalchemy.engine.Engine: [generated in 0.00076s] ()\n"
     ]
    },
    {
     "name": "stdout",
     "output_type": "stream",
     "text": [
      "2025-09-25 20:57:37,337 INFO sqlalchemy.engine.Engine \n",
      "            CREATE INDEX IF NOT EXISTS documents_embedding_idx\n",
      "            ON document.document_chunk\n",
      "            USING ivfflat (embedding vector_l2_ops)\n",
      "            WITH (lists = 100);\n",
      "        \n"
     ]
    },
    {
     "name": "stderr",
     "output_type": "stream",
     "text": [
      "2025-09-25 20:57:37,337 [INFO] sqlalchemy.engine.Engine: \n",
      "            CREATE INDEX IF NOT EXISTS documents_embedding_idx\n",
      "            ON document.document_chunk\n",
      "            USING ivfflat (embedding vector_l2_ops)\n",
      "            WITH (lists = 100);\n",
      "        \n"
     ]
    },
    {
     "name": "stdout",
     "output_type": "stream",
     "text": [
      "2025-09-25 20:57:37,338 INFO sqlalchemy.engine.Engine [generated in 0.00116s] ()\n"
     ]
    },
    {
     "name": "stderr",
     "output_type": "stream",
     "text": [
      "2025-09-25 20:57:37,338 [INFO] sqlalchemy.engine.Engine: [generated in 0.00116s] ()\n"
     ]
    },
    {
     "name": "stdout",
     "output_type": "stream",
     "text": [
      "2025-09-25 20:57:37,342 INFO sqlalchemy.engine.Engine COMMIT\n"
     ]
    },
    {
     "name": "stderr",
     "output_type": "stream",
     "text": [
      "2025-09-25 20:57:37,342 [INFO] sqlalchemy.engine.Engine: COMMIT\n",
      "2025-09-25 20:57:37,344 [INFO] __main__: Document schema initialisation finished\n",
      "2025-09-25 20:57:37,346 [INFO] db.db_connection_pool: DB connection closed\n"
     ]
    }
   ],
   "source": [
    "# create schema and tables using sqlalchemy\n",
    "\n",
    "async with get_conn(db_engine) as conn:\n",
    "    # You can wrap everything in an explicit transaction if you want\n",
    "    # an atomic create/commit block.\n",
    "    # the transaction is automatically committed when the block exits\n",
    "    async with conn.begin():   \n",
    "\n",
    "        await conn.execute(text(\"SET search_path TO public, document;\"))\n",
    "\n",
    "        # Create schema\n",
    "        await conn.execute(\n",
    "            text(\"CREATE SCHEMA IF NOT EXISTS document;\")\n",
    "        )\n",
    "\n",
    "        # Create table\n",
    "        create_table_sql = \"\"\"\n",
    "            CREATE TABLE IF NOT EXISTS document.document_chunk (\n",
    "                id              UUID PRIMARY KEY DEFAULT gen_random_uuid(),\n",
    "                embedding       VECTOR(1536),\n",
    "                chunk_text      TEXT,\n",
    "                doc_metadata    JSONB,\n",
    "                file_name       TEXT,\n",
    "                doc_tags        TEXT[],\n",
    "                isActive        BOOLEAN,\n",
    "                version         TEXT,\n",
    "                created_at      TIMESTAMP DEFAULT CURRENT_TIMESTAMP,\n",
    "                updated_at      TIMESTAMP\n",
    "            );\n",
    "        \"\"\"\n",
    "        await conn.execute(text(create_table_sql))\n",
    "\n",
    "        # Create table index\n",
    "        create_index_sql = \"\"\"\n",
    "            CREATE INDEX IF NOT EXISTS documents_embedding_idx\n",
    "            ON document.document_chunk\n",
    "            USING ivfflat (embedding vector_l2_ops)\n",
    "            WITH (lists = 100);\n",
    "        \"\"\"\n",
    "        await conn.execute(text(create_index_sql))\n",
    "\n",
    "    logger.info(\"Document schema initialisation finished\")"
   ]
  },
  {
   "cell_type": "code",
   "execution_count": null,
   "id": "eb0d4020",
   "metadata": {},
   "outputs": [
    {
     "data": {
      "text/plain": [
       "<psycopg2.pool.ThreadedConnectionPool at 0x187e9afbc50>"
      ]
     },
     "execution_count": 68,
     "metadata": {},
     "output_type": "execute_result"
    }
   ],
   "source": [
    "# Batch insert the doc chunks to the document_chunk table\n",
    "async def insert_chunk_batch(conn, rows: Sequence[Dict[str, Any]]):\n",
    "\n",
    "    insert_sql = \"\"\"\n",
    "    INSERT INTO document.document_chunk\n",
    "      (embedding, chunk_text, doc_metadata, file_name, doc_tags, isActive, version, created_at, updated_at)\n",
    "    VALUES\n",
    "      (:embedding, :chunktext, :docmetadata, :filename, :doctags, :isActive, :version, :createdat, :updatedat)\n",
    "    \"\"\"\n",
    "    await conn.execute(text(insert_sql), rows)\n",
    "\n",
    "\n",
    "async def ingest_chunks(engine, docchunks: List[Any]):\n",
    "\n",
    "    async with get_conn(engine) as conn:\n",
    "\n",
    "        # Prepare batches like OKA BATCH_SIZE=10\n",
    "        BATCH_SIZE = 10\n",
    "\n",
    "        for i in range(0, len(docchunks), BATCH_SIZE):\n",
    "            batch = docchunks[i:i+BATCH_SIZE]\n",
    "\n",
    "            texts = [d.chunktext for d in batch]\n",
    "            embeddings = await client.aembed(texts)\n",
    "\n",
    "            rows = []\n",
    "            for d, emb in zip(batch, embeddings):\n",
    "                # Align columns per DocumentChunkBase\n",
    "                doctags = \",\".join(d.tags) if getattr(d, \"tags\", None) else None\n",
    "                rows.append({\n",
    "                    \"embedding\": emb,\n",
    "                    \"chunktext\": d.chunktext,\n",
    "                    \"docmetadata\": json.dumps(d.metadata or {}) if isinstance(d.metadata, dict) else d.metadata,\n",
    "                    \"filename\": getattr(d, \"filename\", None),\n",
    "                    \"doctags\": doctags,\n",
    "                    \"isActive\": getattr(d, \"isActive\", True),\n",
    "                    \"version\": getattr(d, \"version\", None),\n",
    "                    \"createdat\": getattr(d, \"createdat\", current_nz_datetime),\n",
    "                    \"updatedat\": getattr(d, \"updatedat\", None),\n",
    "                })\n",
    "\n",
    "            async with conn.begin():\n",
    "                await insert_chunk_batch(conn, rows)"
   ]
  },
  {
   "cell_type": "code",
   "execution_count": null,
   "id": "536e9b29",
   "metadata": {},
   "outputs": [],
   "source": []
  }
 ],
 "metadata": {
  "kernelspec": {
   "display_name": "retriever-techniques-py3.12",
   "language": "python",
   "name": "python3"
  },
  "language_info": {
   "codemirror_mode": {
    "name": "ipython",
    "version": 3
   },
   "file_extension": ".py",
   "mimetype": "text/x-python",
   "name": "python",
   "nbconvert_exporter": "python",
   "pygments_lexer": "ipython3",
   "version": "3.12.10"
  }
 },
 "nbformat": 4,
 "nbformat_minor": 5
}
